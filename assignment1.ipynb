{
 "cells": [
  {
   "cell_type": "markdown",
   "metadata": {},
   "source": [
    "# Assignment 1\n",
    "### Last updated: December 20, 2021"
   ]
  },
  {
   "cell_type": "markdown",
   "metadata": {},
   "source": [
    "### Name: Aseem Sachdeva\n",
    "\n",
    "### Uniqname: aseemsa\n",
    "\n",
    "## Instructions\n",
    "\n",
    "Please turn in:\n",
    "1. A Jupyter Notebook file. This file should show all of the required work, including code, results, visualizations (if any), and necessary comments to your code. Irrelevant code and results should be deleted prior to submission.\n",
    "\n",
    "2. An html file showing the preview of the Notebook. To create this file, select File -> Download as > HTML. \n",
    "\n",
    "### Before submitting, please select Kernel -> Restart & Run All."
   ]
  },
  {
   "cell_type": "markdown",
   "metadata": {
    "colab_type": "text",
    "deletable": false,
    "editable": false,
    "id": "ntzIk0QSI8s3",
    "nbgrader": {
     "checksum": "485a6ac705c05286af47868d43a5c8a4",
     "grade": false,
     "grade_id": "cell-d363737b4def9aee",
     "locked": true,
     "schema_version": 1,
     "solution": false
    }
   },
   "source": [
    "# Assignment 1\n",
    "\n",
    "In this assignment, we are going to practice analyzing networks using the various measurements and metrics that we have learned this week. You will work with three different network datasets. First, you will choose one of the networks and explore its features. Then you will complete a prediction task using a Facebook network."
   ]
  },
  {
   "cell_type": "markdown",
   "metadata": {
    "colab_type": "text",
    "deletable": false,
    "editable": false,
    "id": "E5Y8SduhLQg_",
    "nbgrader": {
     "checksum": "892820f20fafca8b527c2ecd8e185ea5",
     "grade": false,
     "grade_id": "cell-361595ed4e58169d",
     "locked": true,
     "schema_version": 1,
     "solution": false
    }
   },
   "source": [
    "## Dataset descriptions\n",
    "\n",
    "Below are three data sets that you can work with. For this assignment, you only need to choose one, but you are welcome to explore the others. \n",
    "\n",
    "### 1. Star wars interaction graph\n",
    "\n",
    "- `starwars-full-interactions.json`: characters in Star Wars and their interactions. Each character is treated as a node, and an edge is created if two characters ever appear in the same scene.\n",
    "\n",
    "- `star_war_label.csv`: labels of the most prominent characters.  A character has label 1 if they frequently appear in the Star Wars movies and 0 otherwise. The order of the names and labels in this file is the same as their node number.\n",
    "\n",
    "> Source: Gabasova, E. (2016). Star Wars social network. DOI: https://doi.org/10.5281/zenodo.1411479.\n",
    "\n",
    "### 2. Facebook friendships\n",
    "\n",
    "- `slavko.net`: an edge list from a friendship network. Each node represents a user on Facebook.\n",
    "\n",
    "- `slavko_label.txt`: labels of the nodes indicate their level of influence. A label of 1 indicates the node is \"influential,\" and a label of 0 indicates otherwise. The order of the nodes and labels in this file is the same as their node number. The labels of this graph were synthetically generated, but you can think of them as representing the results from a survey, where users were asked to identify Facebook friends who influence their opinions. A node with a label 1 is a user who was identified as influential by at least one of their friends.\n",
    "\n",
    "\n",
    "> Blagus, N., Šubelj, L. & Bajec, M. (2012). [*Self-similar scaling of density in complex real-world networks*](http://wwwlovre.appspot.com/resources/research/bibs/ssd.bib), Physica A: Statistical Mechanics and its Applications 391(8), 2794-2802, doi:[10.1016/j.physa.2011.12.055](http://dx.doi.org/10.1016/j.physa.2011.12.055), e-print [arXiv:1110.5609](http://arxiv.org/abs/1110.5609), [COBISS:8930132](http://cobiss.izum.si/scripts/cobiss?command=DISPLAY&lani=en&base=COBIB&RID=8930132).\n",
    "\n",
    "\n",
    "### 3. Students’ Cooperation Social Network\n",
    "\n",
    "- `multigraph_hashAnonymized.csv`: a cooperation network between students. The nodes are students and an edge between two students indicates that the two students have cooperated in at least one academic activity.</font>\n",
    "\n",
    "- `multigraph_label.txt`: academic improvement labels. A label of 1 indicates the student has made academic improvement during a period of cooperation and 0 otherwise. \n",
    "\n",
    "\n",
    "> Fire, M., Katz, G., Elovici, Y., Shapira, B., and Rokach, L. Fire, Michael, et al. \"Predicting student exam’s scores by analyzing social network data.\" Active Media Technology. Springer Berlin Heidelberg, 2012. 584-595.\n"
   ]
  },
  {
   "cell_type": "code",
   "execution_count": 1,
   "metadata": {
    "colab": {},
    "colab_type": "code",
    "deletable": false,
    "editable": false,
    "id": "iB7prURBNsAg",
    "nbgrader": {
     "checksum": "b3935c3bd4ac2be804e0ae3d21df726a",
     "grade": false,
     "grade_id": "cell-5ad68f02cdef793a",
     "locked": true,
     "schema_version": 1,
     "solution": false
    }
   },
   "outputs": [],
   "source": [
    "import networkx as nx\n",
    "import pandas as pd\n",
    "import numpy as np\n",
    "\n",
    "import urllib\n",
    "import json\n",
    "import operator\n",
    "\n",
    "import matplotlib.pyplot as plt\n",
    "import seaborn as sns"
   ]
  },
  {
   "cell_type": "code",
   "execution_count": 2,
   "metadata": {},
   "outputs": [],
   "source": [
    "import heapq\n",
    "from operator import itemgetter\n"
   ]
  },
  {
   "cell_type": "markdown",
   "metadata": {
    "colab_type": "text",
    "deletable": false,
    "editable": false,
    "id": "koadY6saPPLM",
    "nbgrader": {
     "checksum": "f4c7ea2d5eeadf071ea1cadaae105db0",
     "grade": false,
     "grade_id": "cell-221a284aaff0e6f0",
     "locked": true,
     "schema_version": 1,
     "solution": false
    }
   },
   "source": [
    "---\n",
    "\n",
    "## Part 1. Data exploration\n",
    "\n",
    "For this part, you will choose one of the three datasets described above. We provide the function `get_graph` for you, which extracts a dataset of your choice and creates the corresponding network. "
   ]
  },
  {
   "cell_type": "code",
   "execution_count": 3,
   "metadata": {
    "colab": {},
    "colab_type": "code",
    "deletable": false,
    "editable": false,
    "id": "-v6B1jS1I6u9",
    "nbgrader": {
     "checksum": "d128c0a6d24fb1f2bddd9d176c0b8f8e",
     "grade": false,
     "grade_id": "cell-030808e083bbbe32",
     "locked": true,
     "schema_version": 1,
     "solution": false
    }
   },
   "outputs": [],
   "source": [
    "def get_graph(dataset):\n",
    "    if dataset == \"starwars\":\n",
    "        f=open(\"assets/starwars-full-interactions.json\")\n",
    "        data = json.load(f)\n",
    "        char_map = {entry['name']: i for i, entry in enumerate(data['nodes'])}\n",
    "        edges = [(edge['source'], edge['target']) for edge in data['links']]\n",
    "        G=nx.Graph()\n",
    "        G.add_nodes_from([i for i in range(len(char_map))])\n",
    "        G.add_edges_from(edges)\n",
    "    elif dataset == \"facebook\":\n",
    "        G = nx.read_edgelist(\"assets/slavko.net\", nodetype=int)\n",
    "    elif dataset == \"student\":\n",
    "        G = nx.read_edgelist(\"assets/student.txt\", nodetype=int)\n",
    "    else:\n",
    "        raise ValueError(\"Not a valid dataset\")\n",
    "    return G"
   ]
  },
  {
   "cell_type": "markdown",
   "metadata": {
    "deletable": false,
    "editable": false,
    "nbgrader": {
     "checksum": "653f9056b3071195484e41b08312b340",
     "grade": false,
     "grade_id": "cell-d834857c7278b6e8",
     "locked": true,
     "schema_version": 1,
     "solution": false
    }
   },
   "source": [
    "### Indicate your choice of data in the cell below, using one of the following strings\n",
    "\n",
    "\n",
    "- `\"starwars\"`\n",
    "- `\"facebook\"`\n",
    "- `\"student\"`"
   ]
  },
  {
   "cell_type": "code",
   "execution_count": 4,
   "metadata": {
    "deletable": false,
    "nbgrader": {
     "checksum": "6949205143318dbfc512ead66f1372c6",
     "grade": false,
     "grade_id": "cell-2cb68bb58777c21e",
     "locked": false,
     "schema_version": 1,
     "solution": true
    }
   },
   "outputs": [],
   "source": [
    "DATASET = \"student\"  # assign the string of your chosen dataset here\n",
    "\n",
    "# YOUR CODE HERE\n"
   ]
  },
  {
   "cell_type": "code",
   "execution_count": 5,
   "metadata": {
    "deletable": false,
    "editable": false,
    "nbgrader": {
     "checksum": "b810d1b512e0dd7d919217a6940fc6c7",
     "grade": true,
     "grade_id": "cell-a4c865614a8d61e3",
     "locked": true,
     "points": 0,
     "schema_version": 1,
     "solution": false
    }
   },
   "outputs": [],
   "source": [
    "#hidden tests for Part 1 are within this cell"
   ]
  },
  {
   "cell_type": "markdown",
   "metadata": {
    "colab_type": "text",
    "deletable": false,
    "editable": false,
    "id": "g6LDuvmCjTqk",
    "nbgrader": {
     "checksum": "673aef885090d20c3efb2b8cc94f48e5",
     "grade": false,
     "grade_id": "cell-217e2be5467ef4e7",
     "locked": true,
     "schema_version": 1,
     "solution": false
    }
   },
   "source": [
    "### Q1. (2 points) Plot the histogram of degree distribution.\n",
    "Use the [`degree_histogram`](https://networkx.github.io/documentation/stable/reference/generated/networkx.classes.function.degree_histogram.html#networkx.classes.function.degree_histogram) function and then plot the histogram using [`plt.bar`](https://matplotlib.org/3.1.1/api/_as_gen/matplotlib.pyplot.bar.html). \n",
    "\n",
    "<font color='red'>**Important notice**:</font> to receive full marks from the autograder, please don't modify additional parameters that adjust the appearance of the figure, such as `width`, `bottom`, etc."
   ]
  },
  {
   "cell_type": "code",
   "execution_count": 6,
   "metadata": {
    "colab": {
     "base_uri": "https://localhost:8080/",
     "height": 265
    },
    "colab_type": "code",
    "deletable": false,
    "executionInfo": {
     "elapsed": 445,
     "status": "ok",
     "timestamp": 1585077912885,
     "user": {
      "displayName": "Lingyun Guo",
      "photoUrl": "",
      "userId": "03039946515057053705"
     },
     "user_tz": 240
    },
    "id": "bsdDi6PTRbn2",
    "nbgrader": {
     "checksum": "d459de4869e657d8e168e08b18d66315",
     "grade": false,
     "grade_id": "cell-156b3960667d5b4e",
     "locked": false,
     "schema_version": 1,
     "solution": true
    },
    "outputId": "bba4d460-9fc9-428d-db9b-3887ee24a3fb"
   },
   "outputs": [
    {
     "data": {
      "image/png": "[encoded data removed]",
      "text/plain": [
       "<Figure size 432x288 with 1 Axes>"
      ]
     },
     "metadata": {
      "needs_background": "light"
     },
     "output_type": "display_data"
    }
   ],
   "source": [
    "# get graph\n",
    "\n",
    "\n",
    "graph = get_graph(DATASET)\n",
    "G = nx.Graph(graph)    # assign your graph here\n",
    "hist = nx.degree_histogram(G)\n",
    "\n",
    "indices = [i for i, x in enumerate(hist)]\n",
    "\n",
    "img = plt.bar(indices, hist)  # assign your plt.bar plot to img\n",
    "\n",
    "\n",
    "\n",
    "# YOUR CODE HERE\n"
   ]
  },
  {
   "cell_type": "code",
   "execution_count": 7,
   "metadata": {
    "deletable": false,
    "editable": false,
    "nbgrader": {
     "checksum": "9b97216ba08be2c7145b7410c0a441e4",
     "grade": true,
     "grade_id": "cell-db033ef33ed02ee8",
     "locked": true,
     "points": 2,
     "schema_version": 1,
     "solution": false
    }
   },
   "outputs": [],
   "source": [
    "#hidden tests for Question 1 are within this cell"
   ]
  },
  {
   "cell_type": "markdown",
   "metadata": {
    "colab_type": "text",
    "deletable": false,
    "editable": false,
    "id": "qGGt1RKRjcK1",
    "nbgrader": {
     "checksum": "86e2b30230f9f693a531c44c73b30ffe",
     "grade": false,
     "grade_id": "cell-682843cbba59ad81",
     "locked": true,
     "schema_version": 1,
     "solution": false
    }
   },
   "source": [
    "### Q2. (3 points) Which node has the largest degree centrality and what is the value?\n",
    "\n",
    "Hint: you can sort a dictionary `D` by its values using \n",
    "\n",
    "```python\n",
    "sorted(D.items(), key=lambda item: item[1])\n",
    "```"
   ]
  },
  {
   "cell_type": "code",
   "execution_count": 8,
   "metadata": {
    "colab": {
     "base_uri": "https://localhost:8080/",
     "height": 34
    },
    "colab_type": "code",
    "deletable": false,
    "executionInfo": {
     "elapsed": 543,
     "status": "ok",
     "timestamp": 1585406244693,
     "user": {
      "displayName": "Lingyun Guo",
      "photoUrl": "",
      "userId": "03039946515057053705"
     },
     "user_tz": 240
    },
    "id": "-ibAs2TyDqwi",
    "nbgrader": {
     "checksum": "484efca01b239d7150f1945f466d1cbc",
     "grade": false,
     "grade_id": "cell-b77c80ebfe459764",
     "locked": false,
     "schema_version": 1,
     "solution": true
    },
    "outputId": "c37778a6-ba32-48c6-84c9-3b18b8fc7836"
   },
   "outputs": [],
   "source": [
    "deg_dict = nx.degree_centrality(G)\n",
    "\n",
    "\n",
    "all_values = deg_dict.values()\n",
    "max_value = max(all_values)\n",
    "\n",
    "node_max_degree = max(deg_dict, key=deg_dict.get)  # the node which has the largest degree centrality value\n",
    "val_deg = max_value           # the centrality value of the node with the largest degree centrality\n",
    "\n",
    "# YOUR CODE HERE\n"
   ]
  },
  {
   "cell_type": "code",
   "execution_count": 9,
   "metadata": {
    "deletable": false,
    "editable": false,
    "nbgrader": {
     "checksum": "32342db13c2c92eb0c462c32f4cb3b42",
     "grade": true,
     "grade_id": "cell-17637947ef67160e",
     "locked": true,
     "points": 3,
     "schema_version": 1,
     "solution": false
    }
   },
   "outputs": [],
   "source": [
    "#hidden tests for Question 2 are within this cell"
   ]
  },
  {
   "cell_type": "markdown",
   "metadata": {
    "colab_type": "text",
    "deletable": false,
    "editable": false,
    "id": "exlTqohcjhst",
    "nbgrader": {
     "checksum": "52b8ac80fedf3f9cc77ddf24a4ec80b5",
     "grade": false,
     "grade_id": "cell-197475b4111bfd24",
     "locked": true,
     "schema_version": 1,
     "solution": false
    }
   },
   "source": [
    "### Q3. (5 points) List the 5 nodes with the largest and smallest closeness centrality."
   ]
  },
  {
   "cell_type": "code",
   "execution_count": 10,
   "metadata": {
    "colab": {
     "base_uri": "https://localhost:8080/",
     "height": 51
    },
    "colab_type": "code",
    "deletable": false,
    "executionInfo": {
     "elapsed": 464,
     "status": "ok",
     "timestamp": 1585407037988,
     "user": {
      "displayName": "Lingyun Guo",
      "photoUrl": "",
      "userId": "03039946515057053705"
     },
     "user_tz": 240
    },
    "id": "P_PhbqfxFQtw",
    "nbgrader": {
     "checksum": "0f928883972e1b0ccb46a2d7a42029d5",
     "grade": false,
     "grade_id": "cell-466fb9a6da2dce45",
     "locked": false,
     "schema_version": 1,
     "solution": true
    },
    "outputId": "1cda7455-688d-414d-c8f7-303dd6fa6b72"
   },
   "outputs": [],
   "source": [
    "clos_dict = nx.closeness_centrality(G)\n",
    "\n",
    "n = 5\n",
    "\n",
    "\n",
    "max_5_cc = heapq.nlargest(n, clos_dict.items(), key=itemgetter(1))  # a list of 5 nodes with the largest closeness centrality values\n",
    "min_5_cc = heapq.nsmallest(n, clos_dict.items(), key=itemgetter(1))  # a list of 5 nodes with the smallest closeness centrality values\n",
    "# YOUR CODE HERE\n",
    "\n",
    "\n",
    "\n",
    "max_5_cc = [a_tuple[0] for a_tuple in max_5_cc]\n",
    "min_5_cc = [a_tuple[0] for a_tuple in min_5_cc]\n",
    "\n"
   ]
  },
  {
   "cell_type": "code",
   "execution_count": 11,
   "metadata": {},
   "outputs": [
    {
     "data": {
      "text/plain": [
       "[117, 95, 15, 89, 134]"
      ]
     },
     "execution_count": 11,
     "metadata": {},
     "output_type": "execute_result"
    }
   ],
   "source": [
    "max_5_cc"
   ]
  },
  {
   "cell_type": "code",
   "execution_count": 12,
   "metadata": {},
   "outputs": [
    {
     "data": {
      "text/plain": [
       "[1, 81, 55, 66, 71]"
      ]
     },
     "execution_count": 12,
     "metadata": {},
     "output_type": "execute_result"
    }
   ],
   "source": [
    "min_5_cc"
   ]
  },
  {
   "cell_type": "code",
   "execution_count": 13,
   "metadata": {
    "deletable": false,
    "editable": false,
    "nbgrader": {
     "checksum": "c77e36605e5d7956a27f967d93e0a814",
     "grade": true,
     "grade_id": "cell-3a53a8c1ca0922c7",
     "locked": true,
     "points": 5,
     "schema_version": 1,
     "solution": false
    }
   },
   "outputs": [],
   "source": [
    "#hidden tests for Question 3 are within this cell"
   ]
  },
  {
   "cell_type": "markdown",
   "metadata": {
    "colab_type": "text",
    "deletable": false,
    "editable": false,
    "id": "c5eeyIGxjkkH",
    "nbgrader": {
     "checksum": "fca54bb8168094ed1f5a99d0086a7ca9",
     "grade": false,
     "grade_id": "cell-641fdd6bfa5de410",
     "locked": true,
     "schema_version": 1,
     "solution": false
    }
   },
   "source": [
    "### Q4. (5 points) List the 5 nodes with the largest and smallest betweenness centrality. "
   ]
  },
  {
   "cell_type": "code",
   "execution_count": 14,
   "metadata": {
    "colab": {
     "base_uri": "https://localhost:8080/",
     "height": 51
    },
    "colab_type": "code",
    "deletable": false,
    "executionInfo": {
     "elapsed": 464,
     "status": "ok",
     "timestamp": 1585407151544,
     "user": {
      "displayName": "Lingyun Guo",
      "photoUrl": "",
      "userId": "03039946515057053705"
     },
     "user_tz": 240
    },
    "id": "uIdOfrg-FoSy",
    "nbgrader": {
     "checksum": "3341a06d595ed0a719123d218bd0dcc8",
     "grade": false,
     "grade_id": "cell-81e75bbc163e3776",
     "locked": false,
     "schema_version": 1,
     "solution": true
    },
    "outputId": "e157b97d-d5a4-453e-8797-e57ee067fa22"
   },
   "outputs": [],
   "source": [
    "bet_dict = nx.betweenness_centrality(G)\n",
    "\n",
    "n = 5\n",
    "\n",
    "max_5_bc = heapq.nlargest(n, bet_dict.items(), key=itemgetter(1))  # a list of 5 nodes with the largest betweenness centrality values\n",
    "min_5_bc = heapq.nsmallest(n, bet_dict.items(), key=itemgetter(1))  # a list of 5 nodes with the smallest betweenness centrality values\n",
    "\n",
    "# YOUR CODE HERE\n",
    "\n",
    "\n",
    "max_5_bc = [a_tuple[0] for a_tuple in max_5_bc]\n",
    "min_5_bc = [a_tuple[0] for a_tuple in min_5_bc]"
   ]
  },
  {
   "cell_type": "code",
   "execution_count": 15,
   "metadata": {},
   "outputs": [
    {
     "data": {
      "text/plain": [
       "[117, 95, 154, 27, 87]"
      ]
     },
     "execution_count": 15,
     "metadata": {},
     "output_type": "execute_result"
    }
   ],
   "source": [
    "max_5_bc"
   ]
  },
  {
   "cell_type": "code",
   "execution_count": 16,
   "metadata": {},
   "outputs": [
    {
     "data": {
      "text/plain": [
       "[1, 81, 45, 29, 51]"
      ]
     },
     "execution_count": 16,
     "metadata": {},
     "output_type": "execute_result"
    }
   ],
   "source": [
    "min_5_bc"
   ]
  },
  {
   "cell_type": "code",
   "execution_count": 17,
   "metadata": {
    "deletable": false,
    "editable": false,
    "nbgrader": {
     "checksum": "0f4fd38d03e7bf457e53fea1506a0e81",
     "grade": true,
     "grade_id": "cell-a588b2c4b35581e8",
     "locked": true,
     "points": 5,
     "schema_version": 1,
     "solution": false
    }
   },
   "outputs": [],
   "source": [
    "#hidden tests for Question 4 are within this cell\n"
   ]
  },
  {
   "cell_type": "markdown",
   "metadata": {
    "colab_type": "text",
    "deletable": false,
    "editable": false,
    "id": "RSKX2Dp6oa0J",
    "nbgrader": {
     "checksum": "857c6ce38d0117ca065414e2c69bd69c",
     "grade": false,
     "grade_id": "cell-9d6a5b9c989b7034",
     "locked": true,
     "schema_version": 1,
     "solution": false
    }
   },
   "source": [
    "### Q5. (5 points) What are the 3 nodes with the largest PageRank values in the graph?\n",
    "\n",
    "Use damping coefficient $\\alpha = 0.9$ and create a list of the three nodes with PageRank values in descending order. \n",
    "\n",
    "Check whether each pair of nodes among the top 3 nodes with the highest PageRank are connected by an edge. \n",
    "\n",
    "Hint: See [`Graph.has_edge`](https://networkx.github.io/documentation/networkx-1.9/reference/generated/networkx.Graph.has_edge.html?highlight=has_edge#networkx.Graph.has_edge)"
   ]
  },
  {
   "cell_type": "code",
   "execution_count": 18,
   "metadata": {
    "colab": {
     "base_uri": "https://localhost:8080/",
     "height": 34
    },
    "colab_type": "code",
    "deletable": false,
    "executionInfo": {
     "elapsed": 899,
     "status": "ok",
     "timestamp": 1585408988639,
     "user": {
      "displayName": "Lingyun Guo",
      "photoUrl": "",
      "userId": "03039946515057053705"
     },
     "user_tz": 240
    },
    "id": "prTWcKwHvGae",
    "nbgrader": {
     "checksum": "a33dda59aebb2522c41e0dfdcc4299ae",
     "grade": false,
     "grade_id": "cell-56c58bf0ad9926b7",
     "locked": false,
     "schema_version": 1,
     "solution": true
    },
    "outputId": "b03db292-3237-4373-dac8-2bec1ee1ae0e"
   },
   "outputs": [],
   "source": [
    "pagerank_dict = nx.pagerank(G, alpha=0.9)\n",
    "\n",
    "n=3\n",
    "\n",
    "result = heapq.nlargest(n, pagerank_dict.items(), key=itemgetter(1))  # list of the 3 nodes with the largest PageRank values in descending order\n",
    "\n",
    "result = [a_tuple[0] for a_tuple in result]\n",
    "\n",
    "\n",
    "has_edge12 = G.has_edge(result[0], result[1])  # boolean variable indicating whether 1st and 2nd nodes in `result` are connected\n",
    "has_edge13 = G.has_edge(result[0], result[2])  # boolean variable indicating whether 1st and 3rd nodes in `result` are connected\n",
    "has_edge23 = G.has_edge(result[1], result[2])  # boolean variable indicating whether 2nd and 3rd nodes in `result` are connected\n",
    "\n",
    "# YOUR CODE HERE\n"
   ]
  },
  {
   "cell_type": "code",
   "execution_count": 19,
   "metadata": {
    "deletable": false,
    "editable": false,
    "nbgrader": {
     "checksum": "6a0d5f7dffd626e3d8c930cc4081694f",
     "grade": true,
     "grade_id": "cell-d6e62dc3cc8c6245",
     "locked": true,
     "points": 4,
     "schema_version": 1,
     "solution": false
    }
   },
   "outputs": [],
   "source": [
    "#hidden tests for Question 5 - checking result - are within this cell"
   ]
  },
  {
   "cell_type": "code",
   "execution_count": 20,
   "metadata": {
    "deletable": false,
    "editable": false,
    "nbgrader": {
     "checksum": "cacebc81e1a63c62e4683d6a223d3a6c",
     "grade": true,
     "grade_id": "cell-ecf13b2bbb788bc2",
     "locked": true,
     "points": 1,
     "schema_version": 1,
     "solution": false
    }
   },
   "outputs": [],
   "source": [
    "#hidden tests for Question 5 - checking edges - are within this cell"
   ]
  },
  {
   "cell_type": "markdown",
   "metadata": {
    "colab_type": "text",
    "deletable": false,
    "editable": false,
    "id": "RDZBw7qhjvOj",
    "nbgrader": {
     "checksum": "99682087136ff2eee5ea6d2065734281",
     "grade": false,
     "grade_id": "cell-62463324488b4523",
     "locked": true,
     "schema_version": 1,
     "solution": false
    }
   },
   "source": [
    "### Q6 (a). (5 points) List the 5 nodes with the largest hub scores and the 5 nodes with the largest authority scores. "
   ]
  },
  {
   "cell_type": "code",
   "execution_count": 21,
   "metadata": {
    "colab": {
     "base_uri": "https://localhost:8080/",
     "height": 51
    },
    "colab_type": "code",
    "deletable": false,
    "executionInfo": {
     "elapsed": 885,
     "status": "ok",
     "timestamp": 1585409169025,
     "user": {
      "displayName": "Lingyun Guo",
      "photoUrl": "",
      "userId": "03039946515057053705"
     },
     "user_tz": 240
    },
    "id": "NweGRn66HPa8",
    "nbgrader": {
     "checksum": "2b53fb7de25220f604d55d2b298d7ec7",
     "grade": false,
     "grade_id": "cell-a774415b125bbe05",
     "locked": false,
     "schema_version": 1,
     "solution": true
    },
    "outputId": "663c4e85-25cb-43c3-8f81-7c818a83fcef"
   },
   "outputs": [],
   "source": [
    "\n",
    "hub, authority = nx.hits(G, max_iter=200)\n",
    "\n",
    "n = 5\n",
    "\n",
    "\n",
    "h5 = heapq.nlargest(n, hub.items(), key=itemgetter(1))  # a list of the 5 nodes with the largest hub scores\n",
    "\n",
    "h5 = [a_tuple[0] for a_tuple in h5]\n",
    "\n",
    "a5 = heapq.nlargest(n, authority.items(), key=itemgetter(1))  # a list of the 5 nodes with the largest authority scores\n",
    "\n",
    "\n",
    "a5 = [a_tuple[0] for a_tuple in a5]\n",
    "# YOUR CODE HERE\n",
    "\n"
   ]
  },
  {
   "cell_type": "code",
   "execution_count": 22,
   "metadata": {
    "deletable": false,
    "editable": false,
    "nbgrader": {
     "checksum": "4a6a6a632b20dfce65b40028f2437aa2",
     "grade": true,
     "grade_id": "cell-16ef1f78a70d3adf",
     "locked": true,
     "points": 5,
     "schema_version": 1,
     "solution": false
    }
   },
   "outputs": [],
   "source": [
    "#hidden tests for Question 6a are within this cell"
   ]
  },
  {
   "cell_type": "markdown",
   "metadata": {
    "deletable": false,
    "editable": false,
    "nbgrader": {
     "checksum": "9befef9430727de83cd0f3ae08a42191",
     "grade": false,
     "grade_id": "cell-71f84de7fd901d4a",
     "locked": true,
     "schema_version": 1,
     "solution": false
    }
   },
   "source": [
    "### Q6 (b). (2 points) In part 6a, you should have found that nodes with the largest hub score are also the nodes with the largest authority score. In fact, the full ranking of nodes by hub score is the same as the ranking by authority score. This is interesting since we do not typically expect that the best hubs are also the best authorities, according to the HITS algorithm. Explain what features of this particular network make these rankings equal. "
   ]
  },
  {
   "cell_type": "markdown",
   "metadata": {
    "deletable": false,
    "nbgrader": {
     "checksum": "9f3953e75f00230aa819352be3d11414",
     "grade": true,
     "grade_id": "cell-ab4e856608beb015",
     "locked": false,
     "points": 0,
     "schema_version": 1,
     "solution": true
    }
   },
   "source": [
    "The hub score for a given node will be high if that node points to lots of other nodes, while the authority score for a given node will be high if lots of other nodes point to it. When considering the student network, which contains relationships regarding collaboration between students, the fact that the nodes with the highest hub scores and the highest authority scores match is somewhat digestible. Nodes with high authority scores imply that the student(or node) is a valuable resource for other students, and is consulted often. The same nodes(students) likely have a high hub score because they often liason out to other students to offer their services."
   ]
  },
  {
   "cell_type": "markdown",
   "metadata": {
    "deletable": false,
    "editable": false,
    "nbgrader": {
     "checksum": "60f69438d3e1d041a59601053dd9caa3",
     "grade": false,
     "grade_id": "cell-50dca0f9458a4c6c",
     "locked": true,
     "schema_version": 1,
     "solution": false
    }
   },
   "source": [
    "### Q7. (5 points) Reflection: \n",
    "Did you notice any differences between the nodes with the highest scores across the different centrality measures? Is the amount of overlap between the lists of the top nodes expected? "
   ]
  },
  {
   "cell_type": "markdown",
   "metadata": {
    "deletable": false,
    "nbgrader": {
     "checksum": "1e838d03dfbf230978ff983d34e32801",
     "grade": true,
     "grade_id": "cell-d6fa32620660f430",
     "locked": false,
     "points": 0,
     "schema_version": 1,
     "solution": true
    }
   },
   "source": [
    "As aformentioned, I believe that the hub scores and authority scores matching are not out of the question, as the students offering assitance are also the onces that other students go to the most for assistance. In regards to closesness and betweenness, the first two items in the list for both centrality measures(largest and smallest) also match. This is not out of the question, as the nodes with the highest degree of closeness - in other words, the lowest average distance between all the other nodes in the network - also tend to show up in the shortest paths between any given nodes(betweenness)."
   ]
  },
  {
   "cell_type": "markdown",
   "metadata": {
    "deletable": false,
    "editable": false,
    "nbgrader": {
     "checksum": "5c89d966feef8d6c32d1c11d7dc46c02",
     "grade": false,
     "grade_id": "cell-440871ef9fc7ef9d",
     "locked": true,
     "schema_version": 1,
     "solution": false
    }
   },
   "source": [
    "### Q8. (3 points) What are the average clustering coefficient and graph transitivity of the network?\n",
    "\n",
    "Transitivity and clustering coefficient are related to the tendency for a network to have triangles. However, they differ in that while clustering coefficient computes clustering on a node-by-node basis first and then averages over the nodes, transitivity computes the fraction of triplets that form a triangle over the entire network. "
   ]
  },
  {
   "cell_type": "code",
   "execution_count": 23,
   "metadata": {
    "deletable": false,
    "nbgrader": {
     "checksum": "af8fdb1ad75acbbd1fe666f77d48dadd",
     "grade": false,
     "grade_id": "cell-0132ce718de2c00a",
     "locked": false,
     "schema_version": 1,
     "solution": true
    }
   },
   "outputs": [],
   "source": [
    "graph_trans = nx.transitivity(G)     # graph transitivity\n",
    "avg_clustering = nx.average_clustering(G)   # average clustering coefficient value\n",
    "\n",
    "# YOUR CODE HERE\n"
   ]
  },
  {
   "cell_type": "code",
   "execution_count": 24,
   "metadata": {
    "deletable": false,
    "editable": false,
    "nbgrader": {
     "checksum": "c54036e36a32cfb4aa7ebd29c1ad8785",
     "grade": true,
     "grade_id": "cell-4cfeaffe4ba1d9f1",
     "locked": true,
     "points": 3,
     "schema_version": 1,
     "solution": false
    }
   },
   "outputs": [],
   "source": [
    "#hidden tests for Question 8 are within this cell"
   ]
  },
  {
   "cell_type": "markdown",
   "metadata": {
    "deletable": false,
    "editable": false,
    "nbgrader": {
     "checksum": "5dc925cddbde9f6806fd0e150bc4908b",
     "grade": false,
     "grade_id": "cell-562b584e8b5d617d",
     "locked": true,
     "schema_version": 1,
     "solution": false
    }
   },
   "source": [
    "\n",
    "---\n",
    "## Part 2. Node centrality and connected components\n",
    "\n",
    "In this part, we are going to remove nodes from a graph and assess the effect that has on the number of connected components in the graph. Generally, removing nodes will tend to **increase** the number of connected components as the graph begins to fragment. However, not all nodes will have the same effect. Removing some highly central nodes is more likely to fragment the graph (and increase the number of connected components) than removing some nodes with low centrality. This is exactly what we want to demonstrate in this part. \n",
    "\n",
    "Starting with the entire graph, compute the number of connected components. Then remove 150 total nodes, one at a time. After each node removal, compute the number of connected components. \n",
    "\n",
    "We will compare 3 strategies for choosing which 150 nodes to remove: \n",
    "\n",
    "1. Remove randomly chosen nodes. \n",
    "2. Remove the node with the highest degree centrality in the current graph. \n",
    "3. Remove the node with the highest betweenness centrality in the current graph.\n",
    "\n",
    "The goal is to test what strategy for node removal will fragment the graph faster. \n",
    "\n",
    "**<font color='red'>Note: </font>** \n",
    "\n",
    "1. We will use the **Facebook** network for this part.\n",
    "2. Use the `random.choice` function for the random selection, and set the random seed to 0.\n",
    "3. Do not use `np.random.choice`.\n"
   ]
  },
  {
   "cell_type": "code",
   "execution_count": 25,
   "metadata": {
    "deletable": false,
    "editable": false,
    "nbgrader": {
     "checksum": "7b7ea9a35b13f8232e65d01c53894280",
     "grade": false,
     "grade_id": "cell-ff88ee7b0720cd9d",
     "locked": true,
     "schema_version": 1,
     "solution": false
    }
   },
   "outputs": [],
   "source": [
    "G = get_graph(\"facebook\")"
   ]
  },
  {
   "cell_type": "code",
   "execution_count": 26,
   "metadata": {
    "deletable": false,
    "editable": false,
    "nbgrader": {
     "checksum": "d277f84dec9062639137c4bc2e822963",
     "grade": false,
     "grade_id": "cell-5558571b60e897c0",
     "locked": true,
     "schema_version": 1,
     "solution": false
    }
   },
   "outputs": [],
   "source": [
    "import copy\n",
    "import random"
   ]
  },
  {
   "cell_type": "markdown",
   "metadata": {
    "deletable": false,
    "editable": false,
    "nbgrader": {
     "checksum": "9cf50abe1282d51679947d7b8a9145da",
     "grade": false,
     "grade_id": "cell-97bb83b6220dd6dd",
     "locked": true,
     "schema_version": 1,
     "solution": false
    }
   },
   "source": [
    "### 9(a). (10 points) Let's begin with the first strategy: removing random nodes from the graph. \n",
    "\n",
    "Using the list `rand_move`, append the number of connected components after removing each of the 150 randomly chosen nodes. \n",
    "\n",
    "Please use the function `random.choice` 150 times to select each node (instead of using it just once to select all 150 nodes).\n",
    "\n"
   ]
  },
  {
   "cell_type": "code",
   "execution_count": 33,
   "metadata": {
    "deletable": false,
    "nbgrader": {
     "checksum": "9d91de026afd418711bf0c3523e8673b",
     "grade": false,
     "grade_id": "cell-7e85b417f77a17c2",
     "locked": false,
     "schema_version": 1,
     "solution": true
    }
   },
   "outputs": [
    {
     "name": "stdout",
     "output_type": "stream",
     "text": [
      "CPU times: user 52.1 ms, sys: 3.96 ms, total: 56.1 ms\n",
      "Wall time: 54.6 ms\n"
     ]
    }
   ],
   "source": [
    "%%time\n",
    "\n",
    "random.seed(0)         # use a fixed random seed for autograder\n",
    "G1 = copy.deepcopy(G)  # operate on a copy of the original graph, because node removal is irreversible\n",
    "rand_move = [nx.number_connected_components(G1)]  # initialize the list of number of connected components \n",
    "\n",
    "\n",
    "\n",
    "for i in range(1, 151):\n",
    "    random_node = random.choice(list(G1.nodes()))\n",
    "    G1.remove_node(random_node)   \n",
    "    rand_move.append(nx.number_connected_components(G1))\n",
    "\n",
    "\n",
    "# YOUR CODE HERE\n"
   ]
  },
  {
   "cell_type": "code",
   "execution_count": 28,
   "metadata": {
    "deletable": false,
    "editable": false,
    "nbgrader": {
     "checksum": "6750ed0945e8ee9d38dcf5be512e7a12",
     "grade": true,
     "grade_id": "cell-1f05df8c8a42bd1d",
     "locked": true,
     "points": 10,
     "schema_version": 1,
     "solution": false
    }
   },
   "outputs": [],
   "source": [
    "#hidden tests for Question 9a are within this cell"
   ]
  },
  {
   "cell_type": "markdown",
   "metadata": {
    "deletable": false,
    "editable": false,
    "nbgrader": {
     "checksum": "5c4ee022081e95cac9000d9670462e28",
     "grade": false,
     "grade_id": "cell-b79e63ea62b88253",
     "locked": true,
     "schema_version": 1,
     "solution": false
    }
   },
   "source": [
    "###  9(b). (10 points) Now let's change the strategy to choosing the nodes with the highest degree centrality. \n",
    "\n",
    "Using the list `deg_move`, append the number of connected components after removing each of the 150 nodes. At each step, remove the node with the **currently** highest degree centrality. If multiple nodes have the same centrality values, remove the node which has the **largest node number**. Note that you must recompute the degree centrality of the nodes after removing each node since node removal impacts centrality. \n",
    "\n",
    "**Hint**:\n",
    "\n",
    "To sort by multiply keys, you can use the Python `sorted` function with a specified tuple of keys. \n",
    "\n",
    "For example, to sort a sequence of pairs `arr = [(x1, y1), (x2, y2), ...(xn, yn)]` first by `x` then by `y`, the `key` is speficied as the following:\n",
    "\n",
    "```python\n",
    "sorted(arr, key=lambda pair: (pair[0], pair[1]))\n",
    "```"
   ]
  },
  {
   "cell_type": "code",
   "execution_count": 34,
   "metadata": {
    "deletable": false,
    "nbgrader": {
     "checksum": "22c30a694e7e574d3cd78edc394362aa",
     "grade": false,
     "grade_id": "cell-2ad04bc3d0cf6b55",
     "locked": false,
     "schema_version": 1,
     "solution": true
    }
   },
   "outputs": [
    {
     "name": "stdout",
     "output_type": "stream",
     "text": [
      "CPU times: user 67.2 ms, sys: 0 ns, total: 67.2 ms\n",
      "Wall time: 65.9 ms\n"
     ]
    }
   ],
   "source": [
    "%%time\n",
    "\n",
    "G1 = copy.deepcopy(G)\n",
    "deg_move = [nx.number_connected_components(G1)]  # initialize the list of number of connected components\n",
    "\n",
    "\n",
    "\n",
    "\n",
    "\n",
    "for i in range(1, 151):\n",
    "    deg_dict = nx.degree_centrality(G1)\n",
    "    all_values = deg_dict.values()\n",
    "    max_value = max(all_values)    \n",
    "    key_list = [k for k, v in deg_dict.items() if v == max_value]   \n",
    "    node_max_degree = max(key_list)\n",
    "    G1.remove_node(node_max_degree) \n",
    "    deg_move.append(nx.number_connected_components(G1))\n",
    "\n",
    "# YOUR CODE HERE\n"
   ]
  },
  {
   "cell_type": "code",
   "execution_count": 30,
   "metadata": {
    "deletable": false,
    "editable": false,
    "nbgrader": {
     "checksum": "5ad1c39f95a6006513308e57114a1a01",
     "grade": true,
     "grade_id": "cell-b04e04db3f49329b",
     "locked": true,
     "points": 10,
     "schema_version": 1,
     "solution": false
    }
   },
   "outputs": [],
   "source": [
    "#hidden tests for Question 9b are within this cell"
   ]
  },
  {
   "cell_type": "markdown",
   "metadata": {
    "deletable": false,
    "editable": false,
    "nbgrader": {
     "checksum": "33c5e37f923f4fc078a3143cf7696c87",
     "grade": false,
     "grade_id": "cell-c94f8589c4fbcb91",
     "locked": true,
     "schema_version": 1,
     "solution": false
    }
   },
   "source": [
    "###  9(c). (10 points) Finally, let's adopt the strategy of choosing the nodes with the highest betweenness centrality. \n",
    "\n",
    "Using the list `bet_move`, append the number of connected components after removing each of the 150 nodes. At each step, remove the node with the **currently** highest betweenness centrality. If multiple nodes have the same centrality values, remove the node which has the **largest node number**. Note that you must recompute the betweenness centrality of the nodes after removing each node since node removal impacts centrality. "
   ]
  },
  {
   "cell_type": "code",
   "execution_count": 35,
   "metadata": {
    "deletable": false,
    "nbgrader": {
     "checksum": "da73ee2b09eb540e4d7c5aa7b200d207",
     "grade": false,
     "grade_id": "cell-16359141ca3ed456",
     "locked": false,
     "schema_version": 1,
     "solution": true
    }
   },
   "outputs": [
    {
     "name": "stdout",
     "output_type": "stream",
     "text": [
      "CPU times: user 18.3 s, sys: 0 ns, total: 18.3 s\n",
      "Wall time: 18.3 s\n"
     ]
    }
   ],
   "source": [
    "%%time\n",
    "\n",
    "G1 = copy.deepcopy(G)\n",
    "bet_move = [nx.number_connected_components(G1)]  # initialize the list of number of connected components\n",
    "\n",
    "# YOUR CODE HERE\n",
    "\n",
    "for i in range(1, 151):\n",
    "    bet_dict = nx.betweenness_centrality(G1)\n",
    "    all_values = bet_dict.values()\n",
    "    max_value = max(all_values)    \n",
    "    key_list = [k for k, v in bet_dict.items() if v == max_value]   \n",
    "    node_max_degree = max(key_list)\n",
    "    G1.remove_node(node_max_degree) \n",
    "    bet_move.append(nx.number_connected_components(G1))"
   ]
  },
  {
   "cell_type": "code",
   "execution_count": 32,
   "metadata": {
    "deletable": false,
    "editable": false,
    "nbgrader": {
     "checksum": "5a57b0ec0c68a7a0ddb62eeaa313468e",
     "grade": true,
     "grade_id": "cell-a2eb5061f57d2cca",
     "locked": true,
     "points": 10,
     "schema_version": 1,
     "solution": false
    }
   },
   "outputs": [],
   "source": [
    "#hidden tests for Question 9c are within this cell"
   ]
  },
  {
   "cell_type": "markdown",
   "metadata": {
    "deletable": false,
    "editable": false,
    "nbgrader": {
     "checksum": "3581516a96ceddb8cc87bec86cd33894",
     "grade": false,
     "grade_id": "cell-12fe408a85f86e7c",
     "locked": true,
     "schema_version": 1,
     "solution": false
    }
   },
   "source": [
    "### 9(d). (2 points) Plot the results.\n",
    "\n",
    "Now that you have the lists `rand_move`, `deg_move`, and `bet_move`, make a single plot that shows the number of removed nodes on the x-axis and the number of connected components on the y-axis. The plot should include three curves -- one for each node removal strategy. "
   ]
  },
  {
   "cell_type": "code",
   "execution_count": 37,
   "metadata": {
    "deletable": false,
    "nbgrader": {
     "checksum": "91e6bbdb766c228f6fcb750934233a17",
     "grade": true,
     "grade_id": "cell-799c07321434d451",
     "locked": false,
     "points": 0,
     "schema_version": 1,
     "solution": true
    }
   },
   "outputs": [
    {
     "data": {
      "image/png": "[encoded data removed]",
      "text/plain": [
       "<Figure size 432x288 with 1 Axes>"
      ]
     },
     "metadata": {
      "needs_background": "light"
     },
     "output_type": "display_data"
    }
   ],
   "source": [
    "# YOUR CODE HERE\n",
    "from matplotlib import pyplot\n",
    "import numpy as np\n",
    "x = rand_move\n",
    "y = deg_move\n",
    "z = bet_move\n",
    "\n",
    "bins = np.linspace(-10, 10, 100)\n",
    "\n",
    "pyplot.hist(x, bins, alpha=0.5, label='x')\n",
    "pyplot.hist(y, bins, alpha=0.5, label='y')\n",
    "pyplot.hist(y, bins, alpha=0.5, label='z')\n",
    "pyplot.legend(loc='upper right')\n",
    "pyplot.show()"
   ]
  },
  {
   "cell_type": "markdown",
   "metadata": {
    "deletable": false,
    "editable": false,
    "nbgrader": {
     "checksum": "7769d6378240410fd2d3d1b34754e8f0",
     "grade": false,
     "grade_id": "cell-cb6620de4567705b",
     "locked": true,
     "schema_version": 1,
     "solution": false
    }
   },
   "source": [
    "### Q9(e). (15 points) Which node removal strategy made the number of connected components increase the fastest? The slowest? Explain your results. "
   ]
  },
  {
   "cell_type": "markdown",
   "metadata": {
    "deletable": false,
    "nbgrader": {
     "checksum": "f996393e12092ef381014935a47a113e",
     "grade": true,
     "grade_id": "cell-6629cabfbc607fc8",
     "locked": false,
     "points": 0,
     "schema_version": 1,
     "solution": true
    }
   },
   "source": [
    "YOUR ANSWER HERE\n",
    "I timed the preceeding three cells in order to ascertain the time difference between the three cells with greater accuracy. Randomly removing nodes regardless of centrality measure boasted the fastest execution time(56.1 ms), choosing a node based on the highest degree centrality had the second fastest execution time(67.2 ms), while choosing a node based on the higest betweenness centrality was markedly slower(18.3 s). These results are understandable. Betweenness centrality, in general, is a slow calculation(finding the shortest path through the network), and the algorithm utilized by networkx has a time complexity of O(VE), where V is the number of vertices and E is the number of edges. With a network of substantial size, this time complexity can cause the computation time to become incredibly unwieldy. \n",
    "\n",
    "Unsurprisingly, the method that took the least amount of time was randomly choosing a node, without any additional computations involved. "
   ]
  },
  {
   "cell_type": "markdown",
   "metadata": {
    "colab_type": "text",
    "deletable": false,
    "editable": false,
    "id": "oYZL8IOfHri1",
    "nbgrader": {
     "checksum": "ef3c7cc3ade2e0a2892e32630af8f4c2",
     "grade": false,
     "grade_id": "cell-63fa8afda38e9b16",
     "locked": true,
     "schema_version": 1,
     "solution": false
    }
   },
   "source": [
    "---\n",
    "\n",
    "## Part 3. Prediction (18 points)\n",
    "\n",
    "In this part, you are going to complete a supervised prediction task on the **Facebook** network. The task is to predict whether a node is labeled as an \"influential\" user. You will be given the following two files:\n",
    "\n",
    "1. `facebook_train.csv`, which contains the training set.\n",
    "2. `facebook_test.csv`, which contains the test set. \n",
    "\n",
    "The training set file provides a label for each node, with `True` indicating the node is \"influential\" and `False` otherwise. The test set file also has a column `label`，but the values are left as `None` for you to predict. However, the autograder will use another version of the test set file where the `label` column contains values to score your predictions.\n",
    "\n",
    "Use any node attributes (such as the ones we explored in part 1) as features for this prediction and return the result as a dictionary of `<node, label>`, where `node` is a node that appears in the test set file.\n",
    "\n",
    "\n",
    "---\n",
    "\n",
    "**<font color='red'>Note:</font>**\n",
    "1. Use sklearn [Random Forest](https://scikit-learn.org/stable/modules/generated/sklearn.ensemble.RandomForestClassifier.html) model as your supervised model.\n",
    "2. Use F1 score (`sklearn.metrics.f1_score`) to evaluate your prediction.\n",
    "3. In order to receive full credit, your prediction results must achieve an F1 score higher than or equal to 0.85.\n"
   ]
  },
  {
   "cell_type": "code",
   "execution_count": 40,
   "metadata": {
    "colab": {},
    "colab_type": "code",
    "deletable": false,
    "editable": false,
    "id": "yfGjQZq_FFDg",
    "nbgrader": {
     "checksum": "c0541a20e30fdf15f69184b0a4e1e2b3",
     "grade": false,
     "grade_id": "cell-5f8839ab068a2412",
     "locked": true,
     "schema_version": 1,
     "solution": false
    }
   },
   "outputs": [],
   "source": [
    "from sklearn.ensemble import RandomForestClassifier\n",
    "from sklearn.metrics import accuracy_score, f1_score"
   ]
  },
  {
   "cell_type": "code",
   "execution_count": 64,
   "metadata": {
    "deletable": false,
    "nbgrader": {
     "checksum": "9812d25062cab097629032b3736acb2a",
     "grade": false,
     "grade_id": "cell-88b59a40c0c28dec",
     "locked": false,
     "schema_version": 1,
     "solution": true
    }
   },
   "outputs": [],
   "source": [
    "predict_labels = dict()  # Your prediction result as a dictionary where \n",
    "                        # <key> is a node in the test set and <value> is the predicted label\n",
    "\n",
    "# YOUR CODE HERE\n",
    "\n",
    "graph = get_graph('facebook')\n",
    "G = nx.Graph(graph)\n",
    "\n",
    "\n",
    "clf = RandomForestClassifier(n_estimators=100)\n",
    "# clf.fit()\n",
    "\n",
    "train_df = pd.read_csv('assets/facebook_train.csv')\n",
    "test_df = pd.read_csv('assets/facebook_test.csv')\n",
    "\n",
    "\n",
    "clos_dict = nx.closeness_centrality(G)\n",
    "deg_dict = nx.degree_centrality(G)\n",
    "\n",
    "train_df['deg_centrality'] = train_df['node'].map(deg_dict)\n",
    "train_df['closeness_centrality'] = train_df['node'].map(clos_dict)\n",
    "\n",
    "test_df['deg_centrality'] = test_df['node'].map(deg_dict)\n",
    "test_df['closeness_centrality'] = test_df['node'].map(clos_dict)\n",
    "\n",
    "\n",
    "y_train = train_df['label']\n",
    "y_test = test_df['label']\n",
    "\n",
    "X_train = train_df\n",
    "X_test = test_df\n",
    "\n",
    "X_train = X_train.drop(columns = ['label'])\n",
    "X_test = X_test.drop(columns = ['label'])\n",
    "\n",
    "\n",
    "clf.fit(X_train, y_train)\n",
    "\n",
    "y_pred=clf.predict(X_test)\n",
    "\n",
    "predict_labels = dict(zip(X_test['node'], y_pred))\n"
   ]
  },
  {
   "cell_type": "code",
   "execution_count": null,
   "metadata": {},
   "outputs": [],
   "source": []
  },
  {
   "cell_type": "code",
   "execution_count": null,
   "metadata": {
    "deletable": false,
    "editable": false,
    "nbgrader": {
     "checksum": "1853626413610a70ff8ea64447220a3d",
     "grade": true,
     "grade_id": "cell-8f1c8f5e4c9c45de",
     "locked": true,
     "points": 18,
     "schema_version": 1,
     "solution": false
    }
   },
   "outputs": [],
   "source": [
    "#hidden tests for Part 3 are within this cell"
   ]
  },
  {
   "cell_type": "markdown",
   "metadata": {
    "deletable": false,
    "editable": false,
    "nbgrader": {
     "checksum": "440c0f839d424ba1951b82e3ef87dfa7",
     "grade": false,
     "grade_id": "cell-16e13636541014fc",
     "locked": true,
     "schema_version": 1,
     "solution": false
    }
   },
   "source": [
    "# End"
   ]
  }
 ],
 "metadata": {
  "anaconda-cloud": {},
  "colab": {
   "authorship_tag": "ABX9TyPRfufeNJijXkYu9Hrbc7Gm",
   "collapsed_sections": [],
   "name": "assignment1.ipynb",
   "provenance": []
  },
  "coursera": {
   "schema_names": [
    "mads_network_analysis_v2_assignment1"
   ]
  },
  "kernelspec": {
   "display_name": "Python 3 (ipykernel)",
   "language": "python",
   "name": "python3"
  },
  "language_info": {
   "codemirror_mode": {
    "name": "ipython",
    "version": 3
   },
   "file_extension": ".py",
   "mimetype": "text/x-python",
   "name": "python",
   "nbconvert_exporter": "python",
   "pygments_lexer": "ipython3",
   "version": "3.7.10"
  }
 },
 "nbformat": 4,
 "nbformat_minor": 4
}
