{
 "cells": [
  {
   "cell_type": "markdown",
   "metadata": {},
   "source": [
    "# Assignment 2\n",
    "### Last updated: December 20, 2021"
   ]
  },
  {
   "cell_type": "markdown",
   "metadata": {},
   "source": [
    "### Name: Aseem Sachdeva\n",
    "\n",
    "### Uniqname: aseemsa@umich.edu\n",
    "\n",
    "## Instructions\n",
    "\n",
    "Please turn in:\n",
    "1. A Jupyter Notebook file. This file should show all of the required work, including code, results, visualizations (if any), and necessary comments to your code. Irrelevant code and results should be deleted prior to submission.\n",
    "\n",
    "2. An html file showing the preview of the Notebook. To create this file, select File -> Download as > HTML. \n",
    "\n",
    "### Before submitting, please select Kernel -> Restart & Run All."
   ]
  },
  {
   "cell_type": "markdown",
   "metadata": {
    "colab_type": "text",
    "deletable": false,
    "editable": false,
    "id": "nrAhk44gtK3I",
    "nbgrader": {
     "checksum": "ead8af1813b4572de266a75fa4385ffb",
     "grade": false,
     "grade_id": "cell-a2cdbb449cddef2c",
     "locked": true,
     "schema_version": 1,
     "solution": false
    }
   },
   "source": [
    "# Assignment 2"
   ]
  },
  {
   "cell_type": "code",
   "execution_count": 94,
   "metadata": {
    "colab": {
     "base_uri": "https://localhost:8080/",
     "height": 71
    },
    "colab_type": "code",
    "deletable": false,
    "editable": false,
    "id": "-Sr2f244Jiyy",
    "nbgrader": {
     "checksum": "a63604aa1aa18fc6439e31cf92a09559",
     "grade": false,
     "grade_id": "cell-9ea4df2c6acc2d1c",
     "locked": true,
     "schema_version": 1,
     "solution": false
    },
    "outputId": "f6251f3d-ac5d-4668-9d11-1cfd2b3d397f"
   },
   "outputs": [],
   "source": [
    "import networkx as nx\n",
    "import pandas as pd\n",
    "import numpy as np\n",
    "\n",
    "import urllib\n",
    "import random\n",
    "import json\n",
    "import operator\n",
    "import random\n",
    "\n",
    "import matplotlib.pyplot as plt\n",
    "import seaborn as sns"
   ]
  },
  {
   "cell_type": "code",
   "execution_count": 95,
   "metadata": {},
   "outputs": [],
   "source": [
    "import math"
   ]
  },
  {
   "cell_type": "markdown",
   "metadata": {
    "colab_type": "text",
    "deletable": false,
    "editable": false,
    "id": "1NFUZ5KgOq9V",
    "nbgrader": {
     "checksum": "ae8ad9c002550eaa864082c334160132",
     "grade": false,
     "grade_id": "cell-05dc3fa78f64ab53",
     "locked": true,
     "schema_version": 1,
     "solution": false
    }
   },
   "source": [
    "## Dataset description\n",
    "\n",
    "In this assignment, you will explore several network generative models to understand how varying model parameters affects network structure. Our exploration will be based on a real-world dataset: \n",
    "\n",
    "[Astrophysics collaborations](http://www-personal.umich.edu/~mejn/netdata/astro-ph.zip): a network of coauthorships between scientists posting preprints on the Astrophysics E-Print Archive between Jan 1, 1995 and December 31, 1999. An edge exists between two researchers if they have co-authored at least one paper. \n",
    "\n",
    "Newman, M. E. (2001). The structure of scientific collaboration networks. Proceedings of the national academy of sciences, 98(2), 404-409.\n",
    "\n",
    "Let's load the graph from `assets/astro_phy.gml`."
   ]
  },
  {
   "cell_type": "code",
   "execution_count": null,
   "metadata": {},
   "outputs": [],
   "source": []
  },
  {
   "cell_type": "code",
   "execution_count": 96,
   "metadata": {
    "colab": {},
    "colab_type": "code",
    "deletable": false,
    "id": "paO4QN2sscSk",
    "nbgrader": {
     "checksum": "b0581331bed3113d4a82d7d75c8e1ec1",
     "grade": false,
     "grade_id": "cell-8a6be92ef6ef49a0",
     "locked": false,
     "schema_version": 1,
     "solution": true
    }
   },
   "outputs": [],
   "source": [
    "G = nx.read_gml('assets/astro_phy.gml')  # load the graph to G\n",
    "\n",
    "# YOUR CODE HERE\n"
   ]
  },
  {
   "cell_type": "markdown",
   "metadata": {
    "colab_type": "text",
    "deletable": false,
    "editable": false,
    "id": "ueKMoYaLusq6",
    "nbgrader": {
     "checksum": "27b4c344dc61ecc853414d7c747fb238",
     "grade": false,
     "grade_id": "cell-2adc9a420c42a541",
     "locked": true,
     "schema_version": 1,
     "solution": false
    }
   },
   "source": [
    "`plot_deg_distribution(G, z, log)` is a helper function that can plot the degree distribution of graph `G` using the NetworkX function `degree_histogram`. `z` is a zoom-in parameter. If $z \\ge 0$ is specified, a zoom-in plot will be presented and show only the first $z$ values in the node distribution array. If no $z$ is specified, the plot of the complete node distribution will be shown. `log` is a flag indicating whether to plot the node distribution in log-log scale. It is defaulted to `False`."
   ]
  },
  {
   "cell_type": "code",
   "execution_count": 97,
   "metadata": {
    "colab": {},
    "colab_type": "code",
    "deletable": false,
    "editable": false,
    "id": "8PuBuGDnQrWB",
    "nbgrader": {
     "checksum": "902ca5b2a79ce9f75aa708dfe6bd83b5",
     "grade": false,
     "grade_id": "cell-881dea8f25649c74",
     "locked": true,
     "schema_version": 1,
     "solution": false
    }
   },
   "outputs": [],
   "source": [
    "class fig_wrapper:\n",
    "    def __init__(self):\n",
    "        self.img = None\n",
    "        self.log = False\n",
    "        self.x = []\n",
    "        self.y = []\n",
    "\n",
    "def plot_deg_distribution(G, z=-1, log=False):\n",
    "    wrapper = fig_wrapper()\n",
    "    freq = nx.degree_histogram(G);\n",
    "    x = [i for i in range(len(freq))]\n",
    "    if log:\n",
    "        wrapper.log = True\n",
    "        freq = [np.log(f+1) for f in freq]\n",
    "        x = [np.log(i+1) for i in x]\n",
    "        fig, ax = plt.subplots(figsize = (5, 4))\n",
    "        ax.scatter(x=x, y=freq, color='#fc7930',s=5);\n",
    "        ax.set_title(\"log-log scale\")\n",
    "        wrapper.img = ax\n",
    "        wrapper.x = x\n",
    "        wrapper.y = freq\n",
    "        return wrapper\n",
    "    if z < 0:\n",
    "        fig, ax = plt.subplots(figsize = (5, 4))\n",
    "        ax.scatter(x=x, y=freq, color='#fc7930',s=5);\n",
    "        ax.set_title(\"linear scale\")\n",
    "    else:\n",
    "        fig, ax = plt.subplots(figsize = (5, 4))\n",
    "        ax.scatter(x=x[:20], y=freq[:20], color='#fc7930',s=5);  # zoom in\n",
    "        ax.set_title(\"zoom-in\")\n",
    "    wrapper.img = ax\n",
    "    wrapper.x = x\n",
    "    wrapper.y = freq\n",
    "    print(wrapper)\n",
    "    return wrapper"
   ]
  },
  {
   "cell_type": "markdown",
   "metadata": {
    "colab_type": "text",
    "deletable": false,
    "editable": false,
    "id": "G52T8FtSvJ-n",
    "nbgrader": {
     "checksum": "35f3b69c54a6af41c85ff5b10b3fb4d8",
     "grade": false,
     "grade_id": "cell-bda0196dccedea42",
     "locked": true,
     "schema_version": 1,
     "solution": false
    }
   },
   "source": [
    "--- \n",
    "\n",
    "## Part 1. Modeling the real astrophysics collaboration network\n"
   ]
  },
  {
   "cell_type": "markdown",
   "metadata": {
    "colab_type": "text",
    "deletable": false,
    "editable": false,
    "id": "V34X8_bHwK1v",
    "nbgrader": {
     "checksum": "ea9e50ae631eb6722397a57aaee4c3b3",
     "grade": false,
     "grade_id": "cell-db6011e87ad393c8",
     "locked": true,
     "schema_version": 1,
     "solution": false
    }
   },
   "source": [
    "### Q1. (1 point) Degree distribution of the astrophysics collaboration network\n",
    "#### 1.1 Plot the node degree distribution of the astrophysics collaboration network in log-log scale using the function `plot_deg_distribution(G, z, log)` provided above."
   ]
  },
  {
   "cell_type": "code",
   "execution_count": 98,
   "metadata": {
    "colab": {
     "base_uri": "https://localhost:8080/",
     "height": 265
    },
    "colab_type": "code",
    "deletable": false,
    "id": "8QznQ8ghJt-6",
    "nbgrader": {
     "checksum": "340952b2054d307f019c2ae3e0c9f200",
     "grade": false,
     "grade_id": "cell-fa06c7fbbb3dcdac",
     "locked": false,
     "schema_version": 1,
     "solution": true
    },
    "outputId": "4fb4f45d-bacf-426d-bcbb-d08c0a63348d"
   },
   "outputs": [
    {
     "data": {
      "image/png": "[encoded data removed]",
      "text/plain": [
       "<Figure size 360x288 with 1 Axes>"
      ]
     },
     "metadata": {
      "needs_background": "light"
     },
     "output_type": "display_data"
    }
   ],
   "source": [
    "ans = plot_deg_distribution(G, z=-1, log=True)  # assign the return value of plot_deg_distribution(G, z, log) here\n",
    "# YOUR CODE HERE\n"
   ]
  },
  {
   "cell_type": "code",
   "execution_count": 99,
   "metadata": {
    "deletable": false,
    "editable": false,
    "nbgrader": {
     "checksum": "0140e9ab813e1f55e3bd896d9a5f0e9b",
     "grade": true,
     "grade_id": "cell-d793d0c49235c66f",
     "locked": true,
     "points": 1,
     "schema_version": 1,
     "solution": false
    }
   },
   "outputs": [],
   "source": [
    "#hidden tests for Question 1.1 are within this cell"
   ]
  },
  {
   "cell_type": "markdown",
   "metadata": {
    "deletable": false,
    "editable": false,
    "nbgrader": {
     "checksum": "2847d6942907f63f2e2ecf742b39cd2e",
     "grade": false,
     "grade_id": "cell-f92a95f68e6a2678",
     "locked": true,
     "schema_version": 1,
     "solution": false
    }
   },
   "source": [
    "#### 1.2 (1 point) Does the distribution look more like a power law distribution or a normal distribution?\n",
    "> Indicate the distribution by assigning either of the two strings to `distribution_more_like`:\n",
    "> - `\"power law\"`\n",
    "> - `\"normal\"`"
   ]
  },
  {
   "cell_type": "code",
   "execution_count": 100,
   "metadata": {
    "deletable": false,
    "nbgrader": {
     "checksum": "43cf66fe90f5f54d5956eb0479363ac1",
     "grade": false,
     "grade_id": "cell-50e046a492109b71",
     "locked": false,
     "schema_version": 1,
     "solution": true
    }
   },
   "outputs": [],
   "source": [
    "distribution_more_like = \"power law\"  # a string with the value \"power law\" or \"normal\"\n",
    "\n",
    "# YOUR CODE HERE\n"
   ]
  },
  {
   "cell_type": "code",
   "execution_count": 101,
   "metadata": {
    "deletable": false,
    "editable": false,
    "nbgrader": {
     "checksum": "b4753d78703ff8438f81ab4f57b509f7",
     "grade": true,
     "grade_id": "cell-59b561d552514817",
     "locked": true,
     "points": 1,
     "schema_version": 1,
     "solution": false
    }
   },
   "outputs": [],
   "source": [
    "#hidden tests for Question 1.2 are within this cell"
   ]
  },
  {
   "cell_type": "markdown",
   "metadata": {
    "colab_type": "text",
    "deletable": false,
    "editable": false,
    "id": "0kBXRCmsvS57",
    "nbgrader": {
     "checksum": "450994cc73962b35067ff5b75ac8a4a2",
     "grade": false,
     "grade_id": "cell-8fb95b59547a42fb",
     "locked": true,
     "schema_version": 1,
     "solution": false
    }
   },
   "source": [
    "### Q2. (2 points) What is the transitivity and average clustering coefficient of this network?"
   ]
  },
  {
   "cell_type": "code",
   "execution_count": 102,
   "metadata": {
    "colab": {
     "base_uri": "https://localhost:8080/",
     "height": 34
    },
    "colab_type": "code",
    "deletable": false,
    "id": "HWonZFvqSGDA",
    "nbgrader": {
     "checksum": "d37f162e51f3cba2f84bbb2c2b336658",
     "grade": false,
     "grade_id": "cell-77cc5d397efa86ca",
     "locked": false,
     "schema_version": 1,
     "solution": true
    },
    "outputId": "8e26bf26-966a-4f42-a78c-3fdfcff507e6"
   },
   "outputs": [],
   "source": [
    "transitivity = nx.transitivity(G)        # transitivity value\n",
    "average_clustering = nx.average_clustering(G) # average clustering coefficient \n",
    "\n"
   ]
  },
  {
   "cell_type": "code",
   "execution_count": 103,
   "metadata": {
    "deletable": false,
    "editable": false,
    "nbgrader": {
     "checksum": "fe77501b6c2fc62b8c669446b47b168b",
     "grade": true,
     "grade_id": "cell-607f330408f4f150",
     "locked": true,
     "points": 2,
     "schema_version": 1,
     "solution": false
    }
   },
   "outputs": [],
   "source": [
    "#hidden tests for Question 2 are within this cell"
   ]
  },
  {
   "cell_type": "markdown",
   "metadata": {
    "deletable": false,
    "editable": false,
    "nbgrader": {
     "checksum": "ea12ce68c4b2147ce02e711bb54f06ba",
     "grade": false,
     "grade_id": "cell-8535a16f26e4cc0f",
     "locked": true,
     "schema_version": 1,
     "solution": false
    }
   },
   "source": [
    "### Q3. (3 points) What is the maximum, minimum, mean, and standard deviation of the PageRank values of the nodes in $G$?"
   ]
  },
  {
   "cell_type": "code",
   "execution_count": 104,
   "metadata": {
    "deletable": false,
    "nbgrader": {
     "checksum": "3a63bd59936330788279e3b8ec1a32f1",
     "grade": false,
     "grade_id": "cell-0d5d7db7ea438911",
     "locked": false,
     "schema_version": 1,
     "solution": true
    }
   },
   "outputs": [],
   "source": [
    "pagerank_dict = nx.pagerank(G)\n",
    "\n",
    "all_values = pagerank_dict.values()\n",
    "\n",
    "listr = []\n",
    "\n",
    "for value in pagerank_dict.values():\n",
    "    listr.append(value)\n",
    "\n",
    "max_pgv = max(all_values) # maximum PageRank value\n",
    "min_pgv = min(all_values)  # minimum PageRank value\n",
    "mean_pgv = sum(all_values) / len(pagerank_dict)  # mean of PageRank value\n",
    "std_pgv = np.std(listr)  # standard deviation of PageRank value\n",
    "\n",
    "# YOUR CODE HERE\n"
   ]
  },
  {
   "cell_type": "code",
   "execution_count": 105,
   "metadata": {
    "deletable": false,
    "editable": false,
    "nbgrader": {
     "checksum": "42ce30d83b695d49cd92216d357c6075",
     "grade": true,
     "grade_id": "cell-0136c88c872fd4a3",
     "locked": true,
     "points": 3,
     "schema_version": 1,
     "solution": false
    }
   },
   "outputs": [],
   "source": [
    "#hidden tests for Question 3 are within this cell"
   ]
  },
  {
   "cell_type": "markdown",
   "metadata": {
    "deletable": false,
    "editable": false,
    "nbgrader": {
     "checksum": "a3fd73461638f818051bb2b749cb8bf7",
     "grade": false,
     "grade_id": "cell-c12af30fe7259332",
     "locked": true,
     "schema_version": 1,
     "solution": false
    }
   },
   "source": [
    "### Now that we have obtained some basic properties of the structure of network G, you will compare them with the properties of random networks with around the same number of nodes and edges using the various models we covered in lecture: the Erdős-Rényi model, the preferential attachment model, and a small world model. "
   ]
  },
  {
   "cell_type": "markdown",
   "metadata": {
    "colab_type": "text",
    "deletable": false,
    "editable": false,
    "id": "U9fQiTtsPp4z",
    "nbgrader": {
     "checksum": "7134f5d0b1cd256d7bf46b101ecf71fa",
     "grade": false,
     "grade_id": "cell-281456885b741f1b",
     "locked": true,
     "schema_version": 1,
     "solution": false
    }
   },
   "source": [
    "### Erdős-Rényi Graph\n",
    "\n",
    "The NetworkX function `erdos_renyi_graph` with parameters $n$ and $p$ generates an Erdős-Rényi Graph with `n` nodes and where each pair of nodes is connected by an edge with probability `p`. If the parameter directed is set to `True`, the function generates a directed graph. Since in this case we want an undirected graph, you should set the parameter directed to `False`.\n",
    "\n",
    "An alternative function, `fast_gnp_random_graph` produces the same graph and has the same parameters as `erdos_renyi_graph`. However, `fast_gnp_random_graph`is faster when the expected number of edges is small (i.e. sparse graph). "
   ]
  },
  {
   "cell_type": "markdown",
   "metadata": {
    "colab_type": "text",
    "deletable": false,
    "editable": false,
    "id": "fzC0_nm4k2zC",
    "nbgrader": {
     "checksum": "0721154e631bdb91f19017ebc495d7fb",
     "grade": false,
     "grade_id": "cell-d5c72e44a5c38ffc",
     "locked": true,
     "schema_version": 1,
     "solution": false
    }
   },
   "source": [
    "### Q4. (4 points) Use the function `fast_gnp_random_graph` to create a random graph $G_1$, such that $G_1$ has the same number of nodes as $G$ and the expected number of edges of $G_1$ is the same as the number of edges in $G$. Plot the node degree distribution of $G_1$.\n",
    "\n",
    "**Hint**: to pass the autograder, please make sure your plot is in linear scale."
   ]
  },
  {
   "cell_type": "code",
   "execution_count": 106,
   "metadata": {
    "deletable": false,
    "nbgrader": {
     "checksum": "ec53ac7794fcd19f6fd50fdf2d1d4641",
     "grade": false,
     "grade_id": "cell-4837ffba28f1f382",
     "locked": false,
     "schema_version": 1,
     "solution": true
    }
   },
   "outputs": [
    {
     "name": "stdout",
     "output_type": "stream",
     "text": [
      "<__main__.fig_wrapper object at 0x7fab5cc8c3d0>\n"
     ]
    },
    {
     "data": {
      "image/png": "[encoded data removed]",
      "text/plain": [
       "<Figure size 360x288 with 1 Axes>"
      ]
     },
     "metadata": {
      "needs_background": "light"
     },
     "output_type": "display_data"
    }
   ],
   "source": [
    "random.seed(0)   # sync the autograder\n",
    "n = len(list(G.nodes)) # number of nodes\n",
    "m = len(list(G.edges)) # number of edges\n",
    "p = (2*m)/(n*(n-1))\n",
    "# probability of edges between nodes\n",
    "G1 = nx.fast_gnp_random_graph(n, p)   # assign your networkx graph here\n",
    "ans = plot_deg_distribution(G1, z= -1, log=False)  # assign your return value of plot_deg_distribution(G, z, log) here\n",
    "\n",
    "\n",
    "\n",
    "# YOUR CODE HERE\n"
   ]
  },
  {
   "cell_type": "code",
   "execution_count": 107,
   "metadata": {
    "deletable": false,
    "editable": false,
    "nbgrader": {
     "checksum": "7683d862b2045666d11dc88245089821",
     "grade": true,
     "grade_id": "cell-a4138f547d418166",
     "locked": true,
     "points": 4,
     "schema_version": 1,
     "solution": false
    }
   },
   "outputs": [],
   "source": [
    "#hidden tests for Question 4 are within this cell"
   ]
  },
  {
   "cell_type": "markdown",
   "metadata": {
    "deletable": false,
    "editable": false,
    "nbgrader": {
     "checksum": "7702a813d69b890bbc4d43d880a7f2e7",
     "grade": false,
     "grade_id": "cell-7b4aee0618445fbd",
     "locked": true,
     "schema_version": 1,
     "solution": false
    }
   },
   "source": [
    "### Q5. (2 points) What is the transitivity and average clustering coefficient of $G_1$?"
   ]
  },
  {
   "cell_type": "code",
   "execution_count": 108,
   "metadata": {
    "deletable": false,
    "nbgrader": {
     "checksum": "46d3e8fb59d4a9a1739498ccc7eb0ee2",
     "grade": false,
     "grade_id": "cell-3f076a1b85a63541",
     "locked": false,
     "schema_version": 1,
     "solution": true
    }
   },
   "outputs": [],
   "source": [
    "transitivity = nx.transitivity(G1)\n",
    "average_clustering = nx.average_clustering(G1)\n",
    "\n",
    "# YOUR CODE HERE\n"
   ]
  },
  {
   "cell_type": "code",
   "execution_count": 109,
   "metadata": {
    "deletable": false,
    "editable": false,
    "nbgrader": {
     "checksum": "d83152da5ff9a901ecd749bc7b6898e0",
     "grade": true,
     "grade_id": "cell-888da72e394d5003",
     "locked": true,
     "points": 2,
     "schema_version": 1,
     "solution": false
    }
   },
   "outputs": [],
   "source": [
    "#hidden tests for Question 5 are within this cell"
   ]
  },
  {
   "cell_type": "markdown",
   "metadata": {
    "deletable": false,
    "editable": false,
    "nbgrader": {
     "checksum": "066387a3eaa4a3640aa33e091f133ff8",
     "grade": false,
     "grade_id": "cell-7be68355b84f52e7",
     "locked": true,
     "schema_version": 1,
     "solution": false
    }
   },
   "source": [
    "### Q6. (3 points) What is the maximum, minimum, mean, and standard deviation of the PageRank values of the nodes in $G_1$?"
   ]
  },
  {
   "cell_type": "code",
   "execution_count": 110,
   "metadata": {
    "deletable": false,
    "nbgrader": {
     "checksum": "42a0b66ad1bddf1888bab54b99a7d2c8",
     "grade": false,
     "grade_id": "cell-856a328f9524132a",
     "locked": false,
     "schema_version": 1,
     "solution": true
    }
   },
   "outputs": [],
   "source": [
    "pagerank_dict = nx.pagerank(G1)\n",
    "\n",
    "all_values = pagerank_dict.values()\n",
    "\n",
    "listr = []\n",
    "\n",
    "for value in pagerank_dict.values():\n",
    "    listr.append(value)\n",
    "\n",
    "\n",
    "\n",
    "max_pgv = max(all_values) # maximum PageRank value\n",
    "min_pgv = min(all_values)  # minimum PageRank value\n",
    "mean_pgv = sum(all_values) / len(pagerank_dict)  # mean of PageRank value\n",
    "std_pgv = np.std(listr)  # standard deviation of PageRank value\n",
    "\n",
    "\n",
    "# YOUR CODE HERE\n"
   ]
  },
  {
   "cell_type": "code",
   "execution_count": 111,
   "metadata": {
    "deletable": false,
    "editable": false,
    "nbgrader": {
     "checksum": "952439fbb3db882f4f2578ce492106bb",
     "grade": true,
     "grade_id": "cell-a919d36056d96700",
     "locked": true,
     "points": 3,
     "schema_version": 1,
     "solution": false
    }
   },
   "outputs": [],
   "source": [
    "#hidden tests for Question 6 are within this cell"
   ]
  },
  {
   "cell_type": "markdown",
   "metadata": {
    "deletable": false,
    "editable": false,
    "nbgrader": {
     "checksum": "5b3f2f78b5ff48b0b082681504b9a776",
     "grade": false,
     "grade_id": "cell-1e126cfffc3035e1",
     "locked": true,
     "schema_version": 1,
     "solution": false
    }
   },
   "source": [
    "### Preferential attachment model\n",
    "\n",
    "The function `barabasi_albert_graph(n, avg_m)` generates a random graph using the preferential attachment model with `n` nodes and where each arriving node attaches to `m` existing nodes. "
   ]
  },
  {
   "cell_type": "markdown",
   "metadata": {
    "colab_type": "text",
    "deletable": false,
    "editable": false,
    "id": "kmecSQ_2n-zY",
    "nbgrader": {
     "checksum": "e3ba6f535beb00d57dc9c9a887bd9881",
     "grade": false,
     "grade_id": "cell-f9b4400233c7127e",
     "locked": true,
     "schema_version": 1,
     "solution": false
    }
   },
   "source": [
    "### Q7. (4 points) Use the preferential attachment model to create a random graph $G_2$, such that $G_2$ has around the same number of nodes and edges as $G$. Plot the node degree distribution of $G_2$ in log-log scale.\n",
    "\n",
    "**Hint**: \n",
    "\n",
    "1. if you cannot find an integer value for the number of edges added by each node, just round down to an integer value.\n",
    "\n",
    "2. In the function `barabasi_albert_graph(n, avg_m)`, \n",
    "    - `n` is the number of nodes\n",
    "    - `avg_m` is the number of edges to attach from *a new node* to *existing nodes*. \n",
    "   Therefore, the total number of edges created by this function is around `n * avg_m`. We already know that $G_1$ has `m` edges. Therefore, using the variables we can calculate `avg_m`."
   ]
  },
  {
   "cell_type": "code",
   "execution_count": 112,
   "metadata": {
    "colab": {
     "base_uri": "https://localhost:8080/",
     "height": 265
    },
    "colab_type": "code",
    "deletable": false,
    "id": "glNw466rRoRW",
    "nbgrader": {
     "checksum": "34ff4067eab478b54d71e895a2de429a",
     "grade": false,
     "grade_id": "cell-90b89f713775ab40",
     "locked": false,
     "schema_version": 1,
     "solution": true
    },
    "outputId": "d0c31515-84b4-4e7c-9593-d69b9a9bbda9"
   },
   "outputs": [
    {
     "data": {
      "image/png": "[encoded data removed]",
      "text/plain": [
       "<Figure size 360x288 with 1 Axes>"
      ]
     },
     "metadata": {
      "needs_background": "light"
     },
     "output_type": "display_data"
    }
   ],
   "source": [
    "# total edges (m) = n * average edges (avg_m)\n",
    "n = len(list(G.nodes))\n",
    "m = len(list(G.edges))\n",
    "\n",
    "random.seed(0)  # sync for the autograder\n",
    "avg_m = math.floor(m/n)  # average number of edges increased by each additional node\n",
    "G2 = nx.barabasi_albert_graph(n, avg_m)     # assign your networkx graph here\n",
    "ans = plot_deg_distribution(G2, z= -1, log=True)    # assign your return value of plot_deg_distribution(G, z, log) here\n",
    "\n",
    "# YOUR CODE HERE\n"
   ]
  },
  {
   "cell_type": "code",
   "execution_count": 113,
   "metadata": {
    "deletable": false,
    "editable": false,
    "nbgrader": {
     "checksum": "caeef2b5589a5cd7efb7147a93dbd4cc",
     "grade": true,
     "grade_id": "cell-e01e2380c19d2007",
     "locked": true,
     "points": 4,
     "schema_version": 1,
     "solution": false
    }
   },
   "outputs": [],
   "source": [
    "#hidden tests for Question 7 are within this cell"
   ]
  },
  {
   "cell_type": "markdown",
   "metadata": {
    "deletable": false,
    "editable": false,
    "nbgrader": {
     "checksum": "dee53802e878d53485640813cbccb205",
     "grade": false,
     "grade_id": "cell-e673df1be31f7936",
     "locked": true,
     "schema_version": 1,
     "solution": false
    }
   },
   "source": [
    "### Q8. (2 points) What is the transitivity and average clustering coefficient of $G_2$?"
   ]
  },
  {
   "cell_type": "code",
   "execution_count": 114,
   "metadata": {
    "deletable": false,
    "nbgrader": {
     "checksum": "933ee0a43c9eae4ec59b5a0dfe9b5dfb",
     "grade": false,
     "grade_id": "cell-9bc7aef4ce7bb3a8",
     "locked": false,
     "schema_version": 1,
     "solution": true
    }
   },
   "outputs": [],
   "source": [
    "transitivity = nx.transitivity(G2)\n",
    "average_clustering = nx.average_clustering(G2)\n",
    "\n",
    "# YOUR CODE HERE\n"
   ]
  },
  {
   "cell_type": "code",
   "execution_count": 115,
   "metadata": {
    "deletable": false,
    "editable": false,
    "nbgrader": {
     "checksum": "87f420d997406b9a9e62fa64759f80ba",
     "grade": true,
     "grade_id": "cell-4cb541326302a683",
     "locked": true,
     "points": 2,
     "schema_version": 1,
     "solution": false
    }
   },
   "outputs": [],
   "source": [
    "#hidden tests for Question 8 are within this cell"
   ]
  },
  {
   "cell_type": "markdown",
   "metadata": {
    "deletable": false,
    "editable": false,
    "nbgrader": {
     "checksum": "4a9c175dc5e8901931fd816c2e28cb23",
     "grade": false,
     "grade_id": "cell-21d4188fde74d3a7",
     "locked": true,
     "schema_version": 1,
     "solution": false
    }
   },
   "source": [
    "### Q9. (3 points) What is the maximum, minimum, mean, and standard deviation of the PageRank values of the nodes in $G_2$?"
   ]
  },
  {
   "cell_type": "code",
   "execution_count": 116,
   "metadata": {
    "deletable": false,
    "nbgrader": {
     "checksum": "31690a7204ffb5f3d3d8911cc68bb734",
     "grade": false,
     "grade_id": "cell-eeea15cff45d3e7e",
     "locked": false,
     "schema_version": 1,
     "solution": true
    }
   },
   "outputs": [],
   "source": [
    "pagerank_dict = nx.pagerank(G2)\n",
    "\n",
    "all_values = pagerank_dict.values()\n",
    "\n",
    "listr = []\n",
    "\n",
    "for value in pagerank_dict.values():\n",
    "    listr.append(value)\n",
    "\n",
    "\n",
    "\n",
    "max_pgv = max(all_values) # maximum PageRank value\n",
    "min_pgv = min(all_values)  # minimum PageRank value\n",
    "mean_pgv = sum(all_values) / len(pagerank_dict)  # mean of PageRank value\n",
    "std_pgv = np.std(listr)  # standard deviation of PageRank value\n",
    "\n",
    "\n",
    "# YOUR CODE HERE"
   ]
  },
  {
   "cell_type": "code",
   "execution_count": 117,
   "metadata": {
    "deletable": false,
    "editable": false,
    "nbgrader": {
     "checksum": "5c3fa56cabe04d3717d6c2e6e205b612",
     "grade": true,
     "grade_id": "cell-7153a4b84e18ea6b",
     "locked": true,
     "points": 3,
     "schema_version": 1,
     "solution": false
    }
   },
   "outputs": [],
   "source": [
    "#hidden tests for Question 9 are within this cell"
   ]
  },
  {
   "cell_type": "markdown",
   "metadata": {
    "colab_type": "text",
    "deletable": false,
    "editable": false,
    "id": "SLJaM60ZN1AE",
    "nbgrader": {
     "checksum": "a8de6a49f26a8c23881685f7199afaf6",
     "grade": false,
     "grade_id": "cell-a7e1ab9982296c6a",
     "locked": true,
     "schema_version": 1,
     "solution": false
    }
   },
   "source": [
    "### Small world networks\n",
    "\n",
    "The function `nx.watts_strogatz_graph(n,k,p)` generates a small world network with `n` nodes. Initially, nodes are connected to their `k` nearest neighbors in a ring topology. Then each edge is rewired with probability `p`.\n"
   ]
  },
  {
   "cell_type": "markdown",
   "metadata": {
    "colab_type": "text",
    "deletable": false,
    "editable": false,
    "id": "mXDWdWBG491H",
    "nbgrader": {
     "checksum": "a703007f7ba3c9696e71ddf5d2958bd2",
     "grade": false,
     "grade_id": "cell-33ef66a477ca0659",
     "locked": true,
     "schema_version": 1,
     "solution": false
    }
   },
   "source": [
    "### Q10. (4 points) Create a small world network $G_3$ with the same number of nodes as network $G$ and with a number of edges that is as close as possible to the number of edges in network $G$.  Plot the node degree distribution of $G_3$ in log-log scale. Set $p=0.1$."
   ]
  },
  {
   "cell_type": "code",
   "execution_count": 118,
   "metadata": {
    "colab": {
     "base_uri": "https://localhost:8080/",
     "height": 269
    },
    "colab_type": "code",
    "deletable": false,
    "id": "Si8kGY0YOm-1",
    "nbgrader": {
     "checksum": "092eb593d3e5ce449d2571553037a079",
     "grade": false,
     "grade_id": "cell-e81d1fe0394fb826",
     "locked": false,
     "schema_version": 1,
     "solution": true
    },
    "outputId": "78ad96b3-dc6b-4b70-86f1-c056b7f841e9"
   },
   "outputs": [
    {
     "data": {
      "image/png": "[encoded data removed]",
      "text/plain": [
       "<Figure size 360x288 with 1 Axes>"
      ]
     },
     "metadata": {
      "needs_background": "light"
     },
     "output_type": "display_data"
    }
   ],
   "source": [
    "n = len(list(G.nodes))\n",
    "p = 0.1\n",
    "k = 14\n",
    "\n",
    "random.seed(0)  # sync for autograder\n",
    "G3 = nx.watts_strogatz_graph(n,k,p)      # your networkx graph\n",
    "ans =  plot_deg_distribution(G3, z= -1, log=True)       # assign your return value of plot_deg_distribution(G, z, log) here\n",
    "\n"
   ]
  },
  {
   "cell_type": "code",
   "execution_count": 119,
   "metadata": {
    "deletable": false,
    "editable": false,
    "nbgrader": {
     "checksum": "8df7d9180b8609c0c929428555fd4875",
     "grade": true,
     "grade_id": "cell-b3b55edee5db5bab",
     "locked": true,
     "points": 4,
     "schema_version": 1,
     "solution": false
    }
   },
   "outputs": [],
   "source": [
    "#hidden tests for Question 10 are within this cell"
   ]
  },
  {
   "cell_type": "markdown",
   "metadata": {
    "deletable": false,
    "editable": false,
    "nbgrader": {
     "checksum": "a126c9e8d0814e98fb524430eb29bb56",
     "grade": false,
     "grade_id": "cell-0663f49f50d898b1",
     "locked": true,
     "schema_version": 1,
     "solution": false
    }
   },
   "source": [
    "### Q11. (2 points) What is the transitivity and average clustering coefficient of $G_3$?"
   ]
  },
  {
   "cell_type": "code",
   "execution_count": 120,
   "metadata": {
    "deletable": false,
    "nbgrader": {
     "checksum": "b22bd631f8f2422213112562fcc913d4",
     "grade": false,
     "grade_id": "cell-e42fc8e5996ad3c5",
     "locked": false,
     "schema_version": 1,
     "solution": true
    }
   },
   "outputs": [],
   "source": [
    "transitivity = nx.transitivity(G3)\n",
    "average_clustering = nx.average_clustering(G3)\n",
    "\n",
    "# YOUR CODE HERE\n"
   ]
  },
  {
   "cell_type": "code",
   "execution_count": 121,
   "metadata": {
    "deletable": false,
    "editable": false,
    "nbgrader": {
     "checksum": "71e7b659cbda17e8ef3e96ff2c2799c7",
     "grade": true,
     "grade_id": "cell-d06481a392d74f32",
     "locked": true,
     "points": 2,
     "schema_version": 1,
     "solution": false
    }
   },
   "outputs": [],
   "source": [
    "#hidden tests for Question 11 are within this cell"
   ]
  },
  {
   "cell_type": "markdown",
   "metadata": {
    "deletable": false,
    "editable": false,
    "nbgrader": {
     "checksum": "d461f61d292250e0b7843955cc5efb0c",
     "grade": false,
     "grade_id": "cell-adf50e9f48809a5a",
     "locked": true,
     "schema_version": 1,
     "solution": false
    }
   },
   "source": [
    "### Q12. (3 points) What is the maximum, minimum, mean, and standard deviation of the PageRank values of the nodes in $G_3$?"
   ]
  },
  {
   "cell_type": "code",
   "execution_count": 122,
   "metadata": {
    "deletable": false,
    "nbgrader": {
     "checksum": "8fe3c2f37d8d37cc30e933e743d52ec5",
     "grade": false,
     "grade_id": "cell-090432da75dd73b1",
     "locked": false,
     "schema_version": 1,
     "solution": true
    }
   },
   "outputs": [],
   "source": [
    "pagerank_dict = nx.pagerank(G3)\n",
    "\n",
    "all_values = pagerank_dict.values()\n",
    "\n",
    "listr = []\n",
    "\n",
    "for value in pagerank_dict.values():\n",
    "    listr.append(value)\n",
    "\n",
    "\n",
    "\n",
    "max_pgv = max(all_values) # maximum PageRank value\n",
    "min_pgv = min(all_values)  # minimum PageRank value\n",
    "mean_pgv = sum(all_values) / len(pagerank_dict)  # mean of PageRank value\n",
    "std_pgv = np.std(listr)  # standard deviation of PageRank value\n",
    "\n",
    "\n",
    "# YOUR CODE HERE"
   ]
  },
  {
   "cell_type": "code",
   "execution_count": 123,
   "metadata": {
    "deletable": false,
    "editable": false,
    "nbgrader": {
     "checksum": "cd2ea761049cb0591be7b51e22ead602",
     "grade": true,
     "grade_id": "cell-b25640af8a68651b",
     "locked": true,
     "points": 3,
     "schema_version": 1,
     "solution": false
    }
   },
   "outputs": [],
   "source": [
    "#hidden tests for Question 12 are within this cell"
   ]
  },
  {
   "cell_type": "markdown",
   "metadata": {
    "colab_type": "text",
    "deletable": false,
    "editable": false,
    "id": "xsxudEFH5CWb",
    "nbgrader": {
     "checksum": "c246fe72ecf703f2eccc9255668e676f",
     "grade": false,
     "grade_id": "cell-01d3dfb1928e1b93",
     "locked": true,
     "schema_version": 1,
     "solution": false
    }
   },
   "source": [
    "### Q13. (3 points) Using the same values of `n` and `k` as you did for network $G_3$, generate a small world network using every $p$ in `np.linspace(0.1, 1, 10)` and compute the graph transitivity and average clustering coefficient. Plot a line graph for both attributes versus $p$.\n"
   ]
  },
  {
   "cell_type": "code",
   "execution_count": 124,
   "metadata": {
    "colab": {},
    "colab_type": "code",
    "deletable": false,
    "id": "lgiffLJP5Cs3",
    "nbgrader": {
     "checksum": "75ea9dc7df8eaa18d126e66517a70300",
     "grade": false,
     "grade_id": "cell-58b4f4b63a49b9bd",
     "locked": false,
     "schema_version": 1,
     "solution": true
    }
   },
   "outputs": [],
   "source": [
    "# YOUR CODE HERE\n",
    "random.seed(0)  # sync for autograder\n",
    "\n",
    "n = len(list(G.nodes))\n",
    "p = np.linspace(0.1, 1, 10)\n",
    "k = 14\n",
    "\n",
    "tran = []\n",
    "clus = []\n",
    "x_val_list = []\n",
    "\n",
    "for val in p:\n",
    "    G3 = nx.watts_strogatz_graph(n,k,val)\n",
    "    transitivity = nx.transitivity(G3)\n",
    "    clustering = nx.average_clustering(G3)\n",
    "    tran.append(transitivity)\n",
    "    clus.append(clustering)\n",
    "    x_val_list.append(val)\n",
    "\n",
    "\n",
    "\n",
    "\n"
   ]
  },
  {
   "cell_type": "code",
   "execution_count": 125,
   "metadata": {
    "deletable": false,
    "editable": false,
    "nbgrader": {
     "checksum": "c27a5ba1312d09b87f44209ca34ab3e3",
     "grade": true,
     "grade_id": "cell-11df9d8f13602090",
     "locked": true,
     "points": 3,
     "schema_version": 1,
     "solution": false
    }
   },
   "outputs": [],
   "source": [
    "#hidden tests for Question 13 are within this cell"
   ]
  },
  {
   "cell_type": "markdown",
   "metadata": {},
   "source": [
    "### (2 points) Manually graded plots:"
   ]
  },
  {
   "cell_type": "code",
   "execution_count": 126,
   "metadata": {
    "colab": {
     "base_uri": "https://localhost:8080/",
     "height": 281
    },
    "colab_type": "code",
    "deletable": false,
    "id": "GEkTGfLbTy-O",
    "nbgrader": {
     "checksum": "ad56ba2cc89672f38004f71c21c356d9",
     "grade": true,
     "grade_id": "cell-5a39dd7a401a93fe",
     "locked": false,
     "points": 0,
     "schema_version": 1,
     "solution": true
    },
    "outputId": "e25bb62a-b862-4b62-d598-267efb81cf51"
   },
   "outputs": [
    {
     "data": {
      "image/png": "[encoded data removed]",
      "text/plain": [
       "<Figure size 432x288 with 2 Axes>"
      ]
     },
     "metadata": {
      "needs_background": "light"
     },
     "output_type": "display_data"
    }
   ],
   "source": [
    "fig, (ax1, ax2) = plt.subplots(2)\n",
    "fig.suptitle('transitivity and average clustering coefficient vs. p')\n",
    "fig.tight_layout()\n",
    "ax1.plot(x_val_list, tran)\n",
    "ax2.plot(x_val_list, clus)\n",
    "ax1.title.set_text(\"Transitivity\");         # plot transitivity in subplot 0\n",
    "ax2.title.set_text(\"Average clustering\");   # plot average clustering in subplot 1"
   ]
  },
  {
   "cell_type": "markdown",
   "metadata": {
    "deletable": false,
    "editable": false,
    "nbgrader": {
     "checksum": "8447e16380c4ddf8f271a42395627e18",
     "grade": false,
     "grade_id": "cell-4dcc011af0d85ab3",
     "locked": true,
     "schema_version": 1,
     "solution": false
    }
   },
   "source": [
    "### Q14. (2 points) Compare the features of the simulated networks with the real network $G$ and think of the following questions:\n",
    "\n",
    "1. In terms of node degree distribution, which model should be most similar to the collaboration network?\n",
    "2. In terms of transitivity and average clustering coefficient, which model should best approximate the collaboration network?\n",
    "\n",
    "Indicate the solution of each question with one of the following strings:\n",
    "- \"Erdős-Rényi\"\n",
    "- \"preferential attachment model\"\n",
    "- \"small world network\"\n",
    "\n",
    "The questions are represented by `q1` and `q2`. For example, if you believe the answer to the first sub-question is Erdős-Rényi you should answer:\n",
    "```python\n",
    "q1 = \"Erdős-Rényi\"\n",
    "```"
   ]
  },
  {
   "cell_type": "code",
   "execution_count": 127,
   "metadata": {
    "deletable": false,
    "nbgrader": {
     "checksum": "20011ac35bac4e623082eb1f32712062",
     "grade": false,
     "grade_id": "cell-1caacd25d171e9f8",
     "locked": false,
     "schema_version": 1,
     "solution": true
    }
   },
   "outputs": [],
   "source": [
    "q1 = \"preferential attachment model\"\n",
    "q2 = \"small world network\"\n",
    "\n",
    "# YOUR CODE HERE\n"
   ]
  },
  {
   "cell_type": "code",
   "execution_count": 128,
   "metadata": {
    "deletable": false,
    "editable": false,
    "nbgrader": {
     "checksum": "c0a1bbc4f1637eb14ea7735e928941bf",
     "grade": true,
     "grade_id": "cell-b324984261fca304",
     "locked": true,
     "points": 2,
     "schema_version": 1,
     "solution": false
    }
   },
   "outputs": [],
   "source": [
    "#hidden tests for Question 14 are within this cell"
   ]
  },
  {
   "cell_type": "markdown",
   "metadata": {
    "deletable": false,
    "editable": false,
    "nbgrader": {
     "checksum": "25f5bc2484785ab5b62255a389f9e158",
     "grade": false,
     "grade_id": "cell-5bbadad4864807ee",
     "locked": true,
     "schema_version": 1,
     "solution": false
    }
   },
   "source": [
    "---\n",
    "\n",
    "## Part 2. Clustering of the generative models\n",
    "\n",
    "In this part, you will explore the clustering coefficient and transitivity of the aforementioned generative models. Rather than making comparisons based on a single instance of each type of network, you will generate multiple random graphs and construct a distribution of the values. You will construct networks with relatively few nodes and edges to make the computation more efficient. The networks will have 100 nodes and around 425 edges. "
   ]
  },
  {
   "cell_type": "markdown",
   "metadata": {
    "deletable": false,
    "editable": false,
    "nbgrader": {
     "checksum": "874ea058eb3efb37e3caf44427f91e8d",
     "grade": false,
     "grade_id": "cell-df07d4d84dcc71a0",
     "locked": true,
     "schema_version": 1,
     "solution": false
    }
   },
   "source": [
    "### Q15. (6 points) Create 1000 random Erdős-Rényi graphs with `fast_gnp_random_graph` such that the networks have 100 nodes and are expected to have 425 edges.  For each graph, compute its transitivity and average clustering coefficient. Plot a histogram for both attributes.\n",
    "\n",
    "<font color='red'>**Note**</font>: for the plots, use the function `hist` and set the parameter `bins=50`."
   ]
  },
  {
   "cell_type": "code",
   "execution_count": 129,
   "metadata": {
    "deletable": false,
    "nbgrader": {
     "checksum": "217b08681a1c0c284f272860434d28e1",
     "grade": false,
     "grade_id": "cell-51f4441cef9ef15e",
     "locked": false,
     "schema_version": 1,
     "solution": true
    }
   },
   "outputs": [
    {
     "data": {
      "image/png": "[encoded data removed]",
      "text/plain": [
       "<Figure size 864x288 with 2 Axes>"
      ]
     },
     "metadata": {
      "needs_background": "light"
     },
     "output_type": "display_data"
    }
   ],
   "source": [
    "random.seed(0)\n",
    "\n",
    "\n",
    "tran = []  # stores transitivity values\n",
    "clus = []  # stores average clustering val\n",
    "\n",
    "n = 100 # number of nodes\n",
    "m = 425 # number of edges\n",
    "p = (2*m)/(n*(n-1))\n",
    "\n",
    "for i in range(1000):\n",
    "    G = nx.fast_gnp_random_graph(n, p)\n",
    "    transitivity = nx.transitivity(G)\n",
    "    clustering = nx.average_clustering(G)\n",
    "    tran.append(transitivity)\n",
    "    clus.append(clustering)\n",
    "    \n",
    "tran = np.array(tran)\n",
    "clus = np.array(clus)\n",
    "\n",
    "\n",
    "\n",
    "fig, axes = plt.subplots(1,2,figsize = (12, 4))\n",
    "axes[0].hist(tran, bins=50, color = 'r')\n",
    "axes[1].hist(clus, bins=50, color = 'g')\n",
    "axes[0].title.set_text(\"Transitivity\");         # plot transitivity in subplot 0\n",
    "axes[1].title.set_text(\"Average clustering\");   # plot average clustering in subplot 1\n",
    "\n",
    "# YOUR CODE HERE\n"
   ]
  },
  {
   "cell_type": "code",
   "execution_count": 130,
   "metadata": {
    "deletable": false,
    "editable": false,
    "nbgrader": {
     "checksum": "61354b0fa823216727323b4cc3ae3ca8",
     "grade": true,
     "grade_id": "cell-6c642dbedacbc8cd",
     "locked": true,
     "points": 6,
     "schema_version": 1,
     "solution": false
    }
   },
   "outputs": [],
   "source": [
    "#hidden tests for Question 15 are within this cell"
   ]
  },
  {
   "cell_type": "markdown",
   "metadata": {
    "deletable": false,
    "editable": false,
    "nbgrader": {
     "checksum": "8996a6966a798ac9384c4f53a4953aa2",
     "grade": false,
     "grade_id": "cell-62ca6d79366dbb1b",
     "locked": true,
     "schema_version": 1,
     "solution": false
    }
   },
   "source": [
    "### Q16. (6 points) Create 1000 preferential attachment graphs with 100 nodes and each arriving node connecting to 4 existing nodes. For each graph, compute its transitivity and average clustering coefficient. Plot a histogram for both attributes."
   ]
  },
  {
   "cell_type": "code",
   "execution_count": 131,
   "metadata": {
    "deletable": false,
    "nbgrader": {
     "checksum": "8531768cfcbf4d24d40e64444e326170",
     "grade": false,
     "grade_id": "cell-ae1cdaa5464a5efe",
     "locked": false,
     "schema_version": 1,
     "solution": true
    }
   },
   "outputs": [
    {
     "data": {
      "image/png": "[encoded data removed]",
      "text/plain": [
       "<Figure size 864x288 with 2 Axes>"
      ]
     },
     "metadata": {
      "needs_background": "light"
     },
     "output_type": "display_data"
    }
   ],
   "source": [
    "random.seed(0)\n",
    "\n",
    "tran = []  # stores transitivity values\n",
    "clus = []  # stores average clustering values\n",
    "\n",
    "n = 100\n",
    "m = 425\n",
    "\n",
    "\n",
    "avg_m = math.floor(m/n)  # average number of edges increased by each additional node\n",
    "\n",
    "\n",
    "for i in range(1000):\n",
    "    G = nx.barabasi_albert_graph(n, avg_m)\n",
    "    transitivity = nx.transitivity(G)\n",
    "    clustering = nx.average_clustering(G)\n",
    "    tran.append(transitivity)\n",
    "    clus.append(clustering)\n",
    "    \n",
    "tran = np.array(tran)\n",
    "clus = np.array(clus)\n",
    "\n",
    "\n",
    "\n",
    "\n",
    "fig, axes = plt.subplots(1,2,figsize = (12, 4))\n",
    "axes[0].hist(tran, bins=50, color = 'r')\n",
    "axes[1].hist(clus, bins=50, color = 'g')\n",
    "axes[0].title.set_text(\"Transitivity\");         # plot transitivity in subplot 0\n",
    "axes[1].title.set_text(\"Average clustering\");   # plot average clustering in subplot 1\n",
    "\n",
    "# YOUR CODE HERE\n"
   ]
  },
  {
   "cell_type": "code",
   "execution_count": 132,
   "metadata": {
    "deletable": false,
    "editable": false,
    "nbgrader": {
     "checksum": "ae1f019a979bb048f45b51c4a61596a1",
     "grade": true,
     "grade_id": "cell-9edbca50fb09157d",
     "locked": true,
     "points": 6,
     "schema_version": 1,
     "solution": false
    }
   },
   "outputs": [],
   "source": [
    "#hidden tests for Question 16 are within this cell"
   ]
  },
  {
   "cell_type": "markdown",
   "metadata": {
    "colab_type": "text",
    "deletable": false,
    "editable": false,
    "id": "35s2o8UC6CD0",
    "nbgrader": {
     "checksum": "035e54c657d50d238a6e021c0f443939",
     "grade": false,
     "grade_id": "cell-8e5e2097035af91e",
     "locked": true,
     "schema_version": 1,
     "solution": false
    }
   },
   "source": [
    "### Q17. (6 points) Create 1000 small world graphs with 100 nodes, $k = 4$, and rewiring probability $p=0.1$. For each graph, compute its transitivity and average clustering coefficient. Plot a histogram for both attributes."
   ]
  },
  {
   "cell_type": "code",
   "execution_count": 40,
   "metadata": {
    "colab": {
     "base_uri": "https://localhost:8080/",
     "height": 281
    },
    "colab_type": "code",
    "deletable": false,
    "id": "BsuSp_Ce6QvQ",
    "nbgrader": {
     "checksum": "7e0af2cb246886f8025f0ce6feeec4e5",
     "grade": false,
     "grade_id": "cell-3551b77e96046f8f",
     "locked": false,
     "schema_version": 1,
     "solution": true
    },
    "outputId": "f372e67d-ab2f-4dde-cd65-e5563cfe89c8"
   },
   "outputs": [
    {
     "data": {
      "image/png": "[encoded data removed]",
      "text/plain": [
       "<Figure size 864x288 with 2 Axes>"
      ]
     },
     "metadata": {
      "needs_background": "light"
     },
     "output_type": "display_data"
    }
   ],
   "source": [
    "random.seed(0)\n",
    "\n",
    "tran = []  # stores transitivity values\n",
    "clus = []  # stores average clustering values\n",
    "\n",
    "n = 100\n",
    "k = 4\n",
    "p = 0.1\n",
    "\n",
    "for i in range(1000):\n",
    "    G = nx.watts_strogatz_graph(n,k,p)      # your networkx graph\n",
    "    transitivity = nx.transitivity(G)\n",
    "    clustering = nx.average_clustering(G)\n",
    "    tran.append(transitivity)\n",
    "    clus.append(clustering)\n",
    "    \n",
    "tran = np.array(tran)\n",
    "clus = np.array(clus)\n",
    "\n",
    "fig, axes = plt.subplots(1,2,figsize = (12, 4))\n",
    "axes[0].hist(tran, bins=50, color = 'r')\n",
    "axes[1].hist(clus, bins=50, color = 'g')\n",
    "axes[0].title.set_text(\"Transitivity\");         # plot transitivity in subplot 0\n",
    "axes[1].title.set_text(\"Average clustering\");   # plot average clustering in subplot 1\n",
    "\n",
    "# YOUR CODE HERE\n"
   ]
  },
  {
   "cell_type": "code",
   "execution_count": 41,
   "metadata": {
    "deletable": false,
    "editable": false,
    "nbgrader": {
     "checksum": "8fa4fe059b4b36626dd674bc0653be1a",
     "grade": true,
     "grade_id": "cell-9ee131fa4a7773d6",
     "locked": true,
     "points": 6,
     "schema_version": 1,
     "solution": false
    }
   },
   "outputs": [],
   "source": [
    "#hidden tests for Question 17 are within this cell"
   ]
  },
  {
   "cell_type": "markdown",
   "metadata": {
    "deletable": false,
    "editable": false,
    "nbgrader": {
     "checksum": "305901fa7d08195879b3f369e05a896c",
     "grade": false,
     "grade_id": "cell-79222bac6685ef98",
     "locked": true,
     "schema_version": 1,
     "solution": false
    }
   },
   "source": [
    "### Q18. (10 points) Compare the distribution plots of clustering coefficient values across the different network generative models. Which model gives the highest and lowest clustering coefficient values? Explain your results using the assumptions and mechanisms of the models.\n",
    "\n",
    "Your explanation should be of the form: \n",
    "\n",
    "Model X produces networks with the highest clustering coefficient because...\n",
    "\n",
    "Model Y produces networks with the lowest clustering coefficient because...\n"
   ]
  },
  {
   "cell_type": "markdown",
   "metadata": {
    "deletable": false,
    "nbgrader": {
     "checksum": "a8bf5d7fd7b5a9812599696fc86cfd9d",
     "grade": true,
     "grade_id": "cell-e1f6cf6601da13ab",
     "locked": false,
     "points": 0,
     "schema_version": 1,
     "solution": true
    }
   },
   "source": [
    "The Erdős-Rényi model produces the lowest clustering coefficient value, at about 0.06, because the probability of any given node in this model having degree k is modeled on the poisson distribution, which in turn prevents any given node from having an exceptionally high degree, which prevents the formation of hubs(nodes that accumlate a very high degree - in other words, form clusters). Taking this into account, it is understandable why this model produces the lowest clustering coefficient of the three, since the clustering coefficient is a measure of the degree to which nodes in a graph tend to cluster together. There is nothing in the assumptions this model makes that would cause any given node to have a very large degree. Indeed, as the number of nodes in the network increases, the clustering coefficient trends more towards zero.\n",
    "\n",
    "\n",
    "\n",
    "The small world model produces the highest clustering coefficient value, at about 0.475, because lots of triangles tend to form between nodes with this type of model. With the somewhat more random underlying logic of the Erdős-Rényi model, there was nothing forcing the edges in the graph to form triangles, but that is not the case with the small world model, since edges are rewired uniformly. The small world model mimics real world networks, in the sense that it exhibits a high clustering coefficient and a low average distance. In this case, we held the parameter p constant at 0.1, and held k constant at 4. The higher p is, the lower the average distance is, and 0.1 is a rather high value for p. Even if p increases by realtively minute amounts, average distance can lower by a very great degree. However, the same does not hold true for the average clustering coefficient. Even as p increases by large amounts, the impact on the average clustering coefficient is small, in that it decreases at a very slow rate. By rewiring edges periodically, as is the case with this model, the average distance can be decreased dramatically, whle only having mild effects on the average clustering coefficient.\n",
    "\n",
    "\n",
    "\n"
   ]
  },
  {
   "cell_type": "markdown",
   "metadata": {
    "colab_type": "text",
    "deletable": false,
    "editable": false,
    "id": "tWTroRrLVGAN",
    "nbgrader": {
     "checksum": "527b725cb486a6c0c05fd7865a7a0658",
     "grade": false,
     "grade_id": "cell-9a54925f95fe04ca",
     "locked": true,
     "schema_version": 1,
     "solution": false
    }
   },
   "source": [
    "---\n",
    "## Part 3. Link prediction"
   ]
  },
  {
   "cell_type": "markdown",
   "metadata": {
    "colab_type": "text",
    "deletable": false,
    "editable": false,
    "id": "ypW3jn2udDpq",
    "nbgrader": {
     "checksum": "e4242a29267f89ac34a013a6e993aa78",
     "grade": false,
     "grade_id": "cell-600024122657c791",
     "locked": true,
     "schema_version": 1,
     "solution": false
    }
   },
   "source": [
    "In this part, we are going to compare various link prediction features to predict if an edge exists in the astrophysics collaboration network. We will use the following features and their corresponding `NetworkX` functions (See [NetworkX link prediction documentation](https://networkx.github.io/documentation/networkx-1.9/reference/algorithms.link_prediction.html)).  \n",
    "\n",
    "- Resource Allocation Index --  `resource_allocation_index(G[, ebunch])`. \n",
    "- Jaccard Coefficient -- `jaccard_coefficient(G[, ebunch])`. \n",
    "- Adamic-Adar Index -- `adamic_adar_index(G[, ebunch])`.\n",
    "- Preferential Attachment Score -- `preferential_attachment(G[, ebunch])`. \n",
    "- Number of Common Neighbors -- This feature will be provided in our data set. \n",
    "\n",
    "The `assets/part3.csv` contains the set of pairs of nodes you will use for training and testing in the prediction task. Some of the pairs in `assets/part3.csv` are connected by an edge in the network and others are not. Our goal will be to predict which ones are connected using our link prediction features. \n",
    "\n",
    "The file contains 4 columns (`v1`, `v2`, `num`, `label`). Columns `v1` and `v2` represent pairs of nodes (v1,v2), `num` is the number of common neighbors between v1 and v2, and `label` is 1 if the edge (v1,v2) exists in the network and 0 otherwise. \n",
    "\n",
    "The astrophysics collaboration network `G` is fixed. That is, we will not make changes to the network. We will use the structure of the network to \"predict\" which pairs of nodes are connected (pretending we cannot simply check if the edge `(v1,v2)` exists in `G`). The intuition here is that we will pretend that these edges are not yet present in the network, and use the link prediction features to predict whether they will emerge. \n",
    "\n",
    "Caveats: \n",
    "\n",
    "Note that we are cheating slightly since we are using these edges to compute the link prediction features. Typically, if we are trying to predict edges that have not yet emerged, we cannot use them at all. \n",
    "\n",
    "As you may see, there is approximately the same number of positive and negative labels in the test dataset. This is artificially selected to facilitate the prediction task. In reality, this is rarely the case since in link prediction positive samples are far less common than negative ones.\n",
    "\n",
    "However, we will use this setup to illustrate the procedure. \n",
    "\n",
    "Let's begin by importing the libraries we will need. "
   ]
  },
  {
   "cell_type": "code",
   "execution_count": 42,
   "metadata": {
    "deletable": false,
    "editable": false,
    "nbgrader": {
     "checksum": "9e1b9802cd81047668a09103922c22b0",
     "grade": false,
     "grade_id": "cell-3cdea0e74f485e2f",
     "locked": true,
     "schema_version": 1,
     "solution": false
    }
   },
   "outputs": [],
   "source": [
    "from sklearn.model_selection import train_test_split\n",
    "from sklearn.svm import LinearSVC\n",
    "from sklearn.naive_bayes import GaussianNB, MultinomialNB\n",
    "from sklearn.ensemble import RandomForestClassifier, AdaBoostClassifier\n",
    "from sklearn.metrics import f1_score\n",
    "import warnings\n",
    "warnings.filterwarnings('ignore')"
   ]
  },
  {
   "cell_type": "markdown",
   "metadata": {
    "deletable": false,
    "editable": false,
    "nbgrader": {
     "checksum": "f3c78221c72c06ec449029e004bbccdd",
     "grade": false,
     "grade_id": "cell-64efd3860461d808",
     "locked": true,
     "schema_version": 1,
     "solution": false
    }
   },
   "source": [
    "Now let's load data from `part3.csv`, which contains the number of common neighbors and labels. \n",
    "### Q19.  (5 points) Expand the dataframe to include the other features and print part of the resulting dataframe. This may take some time. \n",
    "\n",
    "Recall that you should not change the network `G` in any way. "
   ]
  },
  {
   "cell_type": "code",
   "execution_count": 43,
   "metadata": {
    "colab": {},
    "colab_type": "code",
    "deletable": false,
    "id": "hgKU9McqUNSQ",
    "nbgrader": {
     "checksum": "0ab09b604b7ea05bad844744ded999bc",
     "grade": true,
     "grade_id": "cell-bfaaac233ca29693",
     "locked": false,
     "points": 0,
     "schema_version": 1,
     "solution": true
    }
   },
   "outputs": [
    {
     "name": "stdout",
     "output_type": "stream",
     "text": [
      "CPU times: user 1min 10s, sys: 1.15 s, total: 1min 11s\n",
      "Wall time: 1min 11s\n"
     ]
    }
   ],
   "source": [
    "%%time\n",
    "G = nx.read_gml('assets/astro_phy.gml')\n",
    "def calc_indexes(row):\n",
    "\n",
    "    ebunch =  [(row['v1'], row['v2'])]\n",
    "    \n",
    "    rai_index = nx.resource_allocation_index(G, ebunch)\n",
    "    row['rai'] = list(rai_index)[0][2]\n",
    "    \n",
    "    jac_index = nx.jaccard_coefficient(G, ebunch)\n",
    "    row['jac'] = list(jac_index)[0][2]\n",
    "    \n",
    "    ada_index = nx.adamic_adar_index(G, ebunch)\n",
    "    row['ada'] = list(ada_index)[0][2]\n",
    "    \n",
    "    pa_index = nx.preferential_attachment(G, ebunch)\n",
    "    row['pa'] = list(pa_index)[0][2]\n",
    "    \n",
    "\n",
    "    return row\n",
    "    \n",
    "link_pred = pd.read_csv('assets/part3.csv')\n",
    "link_pred['rai'] = None  # resource_allocation_index of the node pairs\n",
    "link_pred['jac'] = None  # jaccard_coefficient of the node pairs\n",
    "link_pred['ada'] = None  # adamic_adar of the node pairs\n",
    "link_pred['pa']  = None  # preferential_attachment of the node pairs\n",
    "\n",
    "link_pred = link_pred.apply(calc_indexes,axis=1)\n",
    "    \n",
    "# measurements = pd.DataFrame()\n",
    "\n",
    "# for measure_name, measure_funct in {\n",
    "#     \"rai\": nx.resource_allocation_index, \n",
    "#     \"jaccard_coefficient\": nx.jaccard_coefficient, \n",
    "#     \"adamic_adar_index\": nx.adamic_adar_index,\n",
    "#     \"preferential_attachment\": nx.preferential_attachment,\n",
    "# }.items():\n",
    "    \n",
    "#     these_vals = list(measure_funct(G[, ]))\n",
    "#     temp_df = pd.DataFrame(data=these_vals, columns=['Source', 'Target', measure_name])\n",
    "    \n",
    "#     if measurements.empty:\n",
    "#         measurements = temp_df\n",
    "#     else:\n",
    "#         measurements = measurements.merge(temp_df, how='left', on=['Source','Target'])\n",
    "        \n",
    "# measurements.sample(5)"
   ]
  },
  {
   "cell_type": "code",
   "execution_count": 44,
   "metadata": {},
   "outputs": [
    {
     "data": {
      "text/html": [
       "<div>\n",
       "<style scoped>\n",
       "    .dataframe tbody tr th:only-of-type {\n",
       "        vertical-align: middle;\n",
       "    }\n",
       "\n",
       "    .dataframe tbody tr th {\n",
       "        vertical-align: top;\n",
       "    }\n",
       "\n",
       "    .dataframe thead th {\n",
       "        text-align: right;\n",
       "    }\n",
       "</style>\n",
       "<table border=\"1\" class=\"dataframe\">\n",
       "  <thead>\n",
       "    <tr style=\"text-align: right;\">\n",
       "      <th></th>\n",
       "      <th>v1</th>\n",
       "      <th>v2</th>\n",
       "      <th>num</th>\n",
       "      <th>label</th>\n",
       "      <th>rai</th>\n",
       "      <th>jac</th>\n",
       "      <th>ada</th>\n",
       "      <th>pa</th>\n",
       "    </tr>\n",
       "  </thead>\n",
       "  <tbody>\n",
       "    <tr>\n",
       "      <th>0</th>\n",
       "      <td>BASKETT, L</td>\n",
       "      <td>SUTHERLAND, TMCW</td>\n",
       "      <td>9</td>\n",
       "      <td>0</td>\n",
       "      <td>0.096704</td>\n",
       "      <td>0.409091</td>\n",
       "      <td>1.983937</td>\n",
       "      <td>240</td>\n",
       "    </tr>\n",
       "    <tr>\n",
       "      <th>1</th>\n",
       "      <td>BROWNE, IWA</td>\n",
       "      <td>JACKSON, N</td>\n",
       "      <td>10</td>\n",
       "      <td>1</td>\n",
       "      <td>0.559679</td>\n",
       "      <td>0.222222</td>\n",
       "      <td>3.442149</td>\n",
       "      <td>516</td>\n",
       "    </tr>\n",
       "    <tr>\n",
       "      <th>2</th>\n",
       "      <td>MACRI, L</td>\n",
       "      <td>AJHAR, EA</td>\n",
       "      <td>8</td>\n",
       "      <td>0</td>\n",
       "      <td>0.144501</td>\n",
       "      <td>0.068966</td>\n",
       "      <td>1.965276</td>\n",
       "      <td>3700</td>\n",
       "    </tr>\n",
       "    <tr>\n",
       "      <th>3</th>\n",
       "      <td>ALVAREZ, D</td>\n",
       "      <td>MILLER, K</td>\n",
       "      <td>13</td>\n",
       "      <td>1</td>\n",
       "      <td>0.596234</td>\n",
       "      <td>0.866667</td>\n",
       "      <td>4.158348</td>\n",
       "      <td>196</td>\n",
       "    </tr>\n",
       "    <tr>\n",
       "      <th>4</th>\n",
       "      <td>ABAD, C</td>\n",
       "      <td>HONEYCUTT, K</td>\n",
       "      <td>40</td>\n",
       "      <td>1</td>\n",
       "      <td>0.719897</td>\n",
       "      <td>0.727273</td>\n",
       "      <td>9.872832</td>\n",
       "      <td>2256</td>\n",
       "    </tr>\n",
       "  </tbody>\n",
       "</table>\n",
       "</div>"
      ],
      "text/plain": [
       "            v1                v2  num  label       rai       jac       ada  \\\n",
       "0   BASKETT, L  SUTHERLAND, TMCW    9      0  0.096704  0.409091  1.983937   \n",
       "1  BROWNE, IWA        JACKSON, N   10      1  0.559679  0.222222  3.442149   \n",
       "2     MACRI, L         AJHAR, EA    8      0  0.144501  0.068966  1.965276   \n",
       "3   ALVAREZ, D         MILLER, K   13      1  0.596234  0.866667  4.158348   \n",
       "4      ABAD, C      HONEYCUTT, K   40      1  0.719897  0.727273  9.872832   \n",
       "\n",
       "     pa  \n",
       "0   240  \n",
       "1   516  \n",
       "2  3700  \n",
       "3   196  \n",
       "4  2256  "
      ]
     },
     "execution_count": 44,
     "metadata": {},
     "output_type": "execute_result"
    }
   ],
   "source": [
    "link_pred.head()"
   ]
  },
  {
   "cell_type": "markdown",
   "metadata": {
    "deletable": false,
    "editable": false,
    "nbgrader": {
     "checksum": "da2b0fa0d7df4cda7cc08f06f25a5bf6",
     "grade": false,
     "grade_id": "cell-d207d02ecefaad63",
     "locked": true,
     "schema_version": 1,
     "solution": false
    }
   },
   "source": [
    "### Q20. (4 points) Plot histograms of the values of each of the features (num, rai, jac, ada, pa); one set of histograms will be for pairs of nodes with label = 1 and another set for pairs of nodes with label = 0.\n",
    "\n",
    "There will be a total of 10 histograms -- 2 per feature. \n"
   ]
  },
  {
   "cell_type": "code",
   "execution_count": 45,
   "metadata": {
    "deletable": false,
    "nbgrader": {
     "checksum": "4287e556bdd83ba1607cee7f63b745a8",
     "grade": true,
     "grade_id": "cell-a835ec7508d5c82e",
     "locked": false,
     "points": 0,
     "schema_version": 1,
     "solution": true
    }
   },
   "outputs": [
    {
     "data": {
      "image/png": "[encoded data removed]",
      "text/plain": [
       "<Figure size 864x288 with 5 Axes>"
      ]
     },
     "metadata": {
      "needs_background": "light"
     },
     "output_type": "display_data"
    }
   ],
   "source": [
    "selected_attributes = selected_attributes = ['rai', 'jac', 'ada', 'pa', 'num'] \n",
    "# YOUR CODE HERE\n",
    "\n",
    "link_pred_0 = link_pred.loc[link_pred['label'] == 0]\n",
    "rai_list = link_pred_0['rai']\n",
    "jac_list = link_pred_0['jac']\n",
    "ada_list = link_pred_0['ada']\n",
    "pa_list = link_pred_0['pa']\n",
    "num_list = link_pred_0['num']\n",
    "\n",
    "\n",
    "fig, axes = plt.subplots(5, figsize = (12, 4))\n",
    "fig.tight_layout()\n",
    "axes[0].hist(rai_list, bins=50, color = 'r')\n",
    "axes[1].hist(jac_list, bins=50, color = 'g')\n",
    "axes[2].hist(ada_list, bins=50, color = 'b')\n",
    "axes[3].hist(pa_list, bins=50, color = 'y')\n",
    "axes[4].hist(num_list, bins=50, color = 'm')\n",
    "\n",
    "axes[0].title.set_text(\"rai\");        \n",
    "axes[1].title.set_text(\"jac\");   \n",
    "axes[2].title.set_text(\"ada\");   \n",
    "axes[3].title.set_text(\"pa\");\n",
    "axes[4].title.set_text(\"num\");   \n"
   ]
  },
  {
   "cell_type": "code",
   "execution_count": 46,
   "metadata": {},
   "outputs": [
    {
     "data": {
      "image/png": "[encoded data removed]",
      "text/plain": [
       "<Figure size 864x288 with 5 Axes>"
      ]
     },
     "metadata": {
      "needs_background": "light"
     },
     "output_type": "display_data"
    }
   ],
   "source": [
    "link_pred_1 = link_pred.loc[link_pred['label'] == 1]\n",
    "rai_list = link_pred_1['rai']\n",
    "jac_list = link_pred_1['jac']\n",
    "ada_list = link_pred_1['ada']\n",
    "pa_list = link_pred_1['pa']\n",
    "num_list = link_pred_1['num']\n",
    "\n",
    "\n",
    "fig, axes = plt.subplots(5, figsize = (12, 4))\n",
    "fig.tight_layout()\n",
    "axes[0].hist(rai_list, bins=50, color = 'r')\n",
    "axes[1].hist(jac_list, bins=50, color = 'g')\n",
    "axes[2].hist(ada_list, bins=50, color = 'b')\n",
    "axes[3].hist(pa_list, bins=50, color = 'y')\n",
    "axes[4].hist(num_list, bins=50, color = 'm')\n",
    "\n",
    "axes[0].title.set_text(\"rai\");        \n",
    "axes[1].title.set_text(\"jac\");   \n",
    "axes[2].title.set_text(\"ada\");   \n",
    "axes[3].title.set_text(\"pa\");\n",
    "axes[4].title.set_text(\"num\");   "
   ]
  },
  {
   "cell_type": "markdown",
   "metadata": {
    "deletable": false,
    "editable": false,
    "nbgrader": {
     "checksum": "96471edd644d718ed78062d21087577a",
     "grade": false,
     "grade_id": "cell-11f47e691938501c",
     "locked": true,
     "schema_version": 1,
     "solution": false
    }
   },
   "source": [
    "### Q21. (1 points) Measure the correlation between each of the five attributes and the label. \n",
    "\n",
    "**Hint**: You may apply [`pandas.DataFrame.corr`](https://pandas.pydata.org/pandas-docs/stable/reference/api/pandas.DataFrame.corr.html) for this question. The desired correlation dataframe should be in a square size, and the index names and the column names are the same. "
   ]
  },
  {
   "cell_type": "code",
   "execution_count": 47,
   "metadata": {
    "deletable": false,
    "nbgrader": {
     "checksum": "8baf964c2632100910d17a88a589fba5",
     "grade": false,
     "grade_id": "cell-c9dc03ff9642e9cb",
     "locked": false,
     "schema_version": 1,
     "solution": true
    }
   },
   "outputs": [
    {
     "data": {
      "text/html": [
       "<div>\n",
       "<style scoped>\n",
       "    .dataframe tbody tr th:only-of-type {\n",
       "        vertical-align: middle;\n",
       "    }\n",
       "\n",
       "    .dataframe tbody tr th {\n",
       "        vertical-align: top;\n",
       "    }\n",
       "\n",
       "    .dataframe thead th {\n",
       "        text-align: right;\n",
       "    }\n",
       "</style>\n",
       "<table border=\"1\" class=\"dataframe\">\n",
       "  <thead>\n",
       "    <tr style=\"text-align: right;\">\n",
       "      <th></th>\n",
       "      <th>num</th>\n",
       "      <th>label</th>\n",
       "      <th>rai</th>\n",
       "      <th>jac</th>\n",
       "      <th>ada</th>\n",
       "      <th>pa</th>\n",
       "    </tr>\n",
       "  </thead>\n",
       "  <tbody>\n",
       "    <tr>\n",
       "      <th>num</th>\n",
       "      <td>1.000000</td>\n",
       "      <td>0.377449</td>\n",
       "      <td>0.691309</td>\n",
       "      <td>0.526966</td>\n",
       "      <td>0.977110</td>\n",
       "      <td>0.284549</td>\n",
       "    </tr>\n",
       "    <tr>\n",
       "      <th>label</th>\n",
       "      <td>0.377449</td>\n",
       "      <td>1.000000</td>\n",
       "      <td>0.619286</td>\n",
       "      <td>0.460965</td>\n",
       "      <td>0.474494</td>\n",
       "      <td>-0.100315</td>\n",
       "    </tr>\n",
       "    <tr>\n",
       "      <th>rai</th>\n",
       "      <td>0.691309</td>\n",
       "      <td>0.619286</td>\n",
       "      <td>1.000000</td>\n",
       "      <td>0.694429</td>\n",
       "      <td>0.826830</td>\n",
       "      <td>-0.004753</td>\n",
       "    </tr>\n",
       "    <tr>\n",
       "      <th>jac</th>\n",
       "      <td>0.526966</td>\n",
       "      <td>0.460965</td>\n",
       "      <td>0.694429</td>\n",
       "      <td>1.000000</td>\n",
       "      <td>0.618852</td>\n",
       "      <td>-0.286523</td>\n",
       "    </tr>\n",
       "    <tr>\n",
       "      <th>ada</th>\n",
       "      <td>0.977110</td>\n",
       "      <td>0.474494</td>\n",
       "      <td>0.826830</td>\n",
       "      <td>0.618852</td>\n",
       "      <td>1.000000</td>\n",
       "      <td>0.208934</td>\n",
       "    </tr>\n",
       "    <tr>\n",
       "      <th>pa</th>\n",
       "      <td>0.284549</td>\n",
       "      <td>-0.100315</td>\n",
       "      <td>-0.004753</td>\n",
       "      <td>-0.286523</td>\n",
       "      <td>0.208934</td>\n",
       "      <td>1.000000</td>\n",
       "    </tr>\n",
       "  </tbody>\n",
       "</table>\n",
       "</div>"
      ],
      "text/plain": [
       "            num     label       rai       jac       ada        pa\n",
       "num    1.000000  0.377449  0.691309  0.526966  0.977110  0.284549\n",
       "label  0.377449  1.000000  0.619286  0.460965  0.474494 -0.100315\n",
       "rai    0.691309  0.619286  1.000000  0.694429  0.826830 -0.004753\n",
       "jac    0.526966  0.460965  0.694429  1.000000  0.618852 -0.286523\n",
       "ada    0.977110  0.474494  0.826830  0.618852  1.000000  0.208934\n",
       "pa     0.284549 -0.100315 -0.004753 -0.286523  0.208934  1.000000"
      ]
     },
     "execution_count": 47,
     "metadata": {},
     "output_type": "execute_result"
    }
   ],
   "source": [
    "corr = link_pred.corr()  # Assign your correlation dataframe to this variable\n",
    "\n",
    "# YOUR CODE HERE\n",
    "\n",
    "corr"
   ]
  },
  {
   "cell_type": "code",
   "execution_count": 48,
   "metadata": {
    "deletable": false,
    "editable": false,
    "nbgrader": {
     "checksum": "9239326638494d219a0dce29fd56e486",
     "grade": true,
     "grade_id": "cell-7fd19a56cfde1873",
     "locked": true,
     "points": 0,
     "schema_version": 1,
     "solution": false
    }
   },
   "outputs": [],
   "source": [
    "#hidden tests for Question 21 are within this cell"
   ]
  },
  {
   "cell_type": "markdown",
   "metadata": {
    "deletable": false,
    "editable": false,
    "nbgrader": {
     "checksum": "a68cf9163c89704c346cdb79a894304e",
     "grade": false,
     "grade_id": "cell-1bf2f6a2583fa1fa",
     "locked": true,
     "schema_version": 1,
     "solution": false
    }
   },
   "source": [
    "### Q22. (1 point) Based on the correlations, which single feature do you expect to perform best at predicting edges?\n",
    "\n",
    "Set the column name of your selection into the variable `selected_attribute` as a string. For example, if you select the attribute \"number of common neighbors\", indicate this as\n",
    "\n",
    "```python\n",
    "selected_attribute = \"num\"\n",
    "```"
   ]
  },
  {
   "cell_type": "code",
   "execution_count": 49,
   "metadata": {
    "deletable": false,
    "nbgrader": {
     "checksum": "d45bc93580bdf2337872d1c7eebc5f4b",
     "grade": false,
     "grade_id": "cell-8a87ec823a9ebd8d",
     "locked": false,
     "schema_version": 1,
     "solution": true
    }
   },
   "outputs": [],
   "source": [
    "selected_attribute = 'rai' #choose your selected attribute\n",
    "\n",
    "# YOUR CODE HERE\n"
   ]
  },
  {
   "cell_type": "code",
   "execution_count": 50,
   "metadata": {
    "deletable": false,
    "editable": false,
    "nbgrader": {
     "checksum": "448d4f12996c078730da71b2d5b59fa2",
     "grade": true,
     "grade_id": "cell-e09740f9fe726d15",
     "locked": true,
     "points": 1,
     "schema_version": 1,
     "solution": false
    }
   },
   "outputs": [],
   "source": [
    "#hidden tests for Question 22 are within this cell"
   ]
  },
  {
   "cell_type": "markdown",
   "metadata": {
    "deletable": false,
    "editable": false,
    "nbgrader": {
     "checksum": "c1906d51726e1631a251c8282fba666d",
     "grade": false,
     "grade_id": "cell-b2f8d51d6443d08b",
     "locked": true,
     "schema_version": 1,
     "solution": false
    }
   },
   "source": [
    "### Q23. (20 points) Link prediction\n",
    "\n",
    "We are now ready to train and test classifiers for the link prediction task. \n",
    "\n",
    "First, we will split the data into training and testing."
   ]
  },
  {
   "cell_type": "code",
   "execution_count": 51,
   "metadata": {
    "deletable": false,
    "editable": false,
    "nbgrader": {
     "checksum": "9fef87d9632cf4630fb3c1ccde170d94",
     "grade": false,
     "grade_id": "cell-68fefe41029fddcb",
     "locked": true,
     "schema_version": 1,
     "solution": false
    }
   },
   "outputs": [],
   "source": [
    "# split data\n",
    "X_train, X_test, y_train, y_test = train_test_split(\n",
    "    link_pred[[\"num\", \"rai\",\"jac\",\"ada\",\"pa\"]], link_pred.label, test_size=0.3, random_state=42)"
   ]
  },
  {
   "cell_type": "markdown",
   "metadata": {
    "deletable": false,
    "editable": false,
    "nbgrader": {
     "checksum": "72a65ba963ee0e50a8e649bc61feccb4",
     "grade": false,
     "grade_id": "cell-33dc655392a6fad4",
     "locked": true,
     "schema_version": 1,
     "solution": false
    }
   },
   "source": [
    "Now use each feature as the only attribute for the link prediction task. Train and test the performance of four different models:\n",
    "\n",
    "- `LinearSVC`\n",
    "- `GaussianNB`\n",
    "- `RandomForestClassifier`\n",
    "- `AdaBoostClassifier`\n",
    "\n",
    "You can choose any hyperparameters. \n",
    "\n",
    "Create a dataframe `F1_score_df`, which stores the F1-score of your test set for each of the four features for each model.\n",
    "\n",
    "Finally, train and test the performance of each model using all five features, and add a new column to the dataframe with the test F1 score. \n",
    "\n",
    "\n",
    "You dataframe will have the following format:\n",
    "\n",
    "| model| num| rai| jac| ada|pa|all features|\n",
    "|-|-|-|-|-|-|-|\n",
    "|LinearSVC|\n",
    "|GaussianNB|\n",
    "|RandomForestClassifier|\n",
    "|AdaBoostClassifier|\n",
    "\n",
    "Be sure to print the final dataframe. "
   ]
  },
  {
   "cell_type": "code",
   "execution_count": 52,
   "metadata": {
    "deletable": false,
    "nbgrader": {
     "checksum": "268afc4bcb2e2d659ffd44b0fef9ade6",
     "grade": false,
     "grade_id": "cell-681ac3665f4bd0ea",
     "locked": false,
     "schema_version": 1,
     "solution": true
    }
   },
   "outputs": [],
   "source": [
    "F1_score_df = pd.DataFrame()\n",
    "\n",
    "# YOUR CODE HERE\n",
    "\n",
    "\n",
    "\n",
    "lsvc = LinearSVC()\n",
    "lsvc.fit(X_train[['rai']], y_train)\n",
    "predictions_lsvc = lsvc.predict(X_test[['rai']])\n",
    "f1_svc = f1_score(y_test, predictions_lsvc)\n",
    "\n",
    "\n",
    "NB = GaussianNB()\n",
    "NB.fit(X_train[['rai']], y_train)\n",
    "predictions_NB = NB.predict(X_test[['rai']])\n",
    "f1_NB = f1_score(y_test, predictions_NB)\n",
    "\n",
    "rf = RandomForestClassifier()\n",
    "rf.fit(X_train[['rai']], y_train)\n",
    "predictions_rf = rf.predict(X_test[['rai']])\n",
    "f1_rf = f1_score(y_test, predictions_rf)\n",
    "\n",
    "\n",
    "ada = AdaBoostClassifier()\n",
    "ada.fit(X_train[['rai']], y_train)\n",
    "predictions_ada = ada.predict(X_test[['rai']])\n",
    "f1_ada = f1_score(y_test, predictions_ada)\n",
    "\n",
    "rai_f1 = [f1_svc, f1_NB, f1_rf, f1_ada]\n",
    "\n"
   ]
  },
  {
   "cell_type": "code",
   "execution_count": 53,
   "metadata": {},
   "outputs": [
    {
     "ename": "KeyboardInterrupt",
     "evalue": "",
     "output_type": "error",
     "traceback": [
      "\u001b[0;31m---------------------------------------------------------------------------\u001b[0m",
      "\u001b[0;31mKeyboardInterrupt\u001b[0m                         Traceback (most recent call last)",
      "\u001b[0;32m/tmp/ipykernel_30/3818021393.py\u001b[0m in \u001b[0;36m<module>\u001b[0;34m\u001b[0m\n\u001b[1;32m      1\u001b[0m \u001b[0mlsvc\u001b[0m \u001b[0;34m=\u001b[0m \u001b[0mLinearSVC\u001b[0m\u001b[0;34m(\u001b[0m\u001b[0;34m)\u001b[0m\u001b[0;34m\u001b[0m\u001b[0;34m\u001b[0m\u001b[0m\n\u001b[0;32m----> 2\u001b[0;31m \u001b[0mlsvc\u001b[0m\u001b[0;34m.\u001b[0m\u001b[0mfit\u001b[0m\u001b[0;34m(\u001b[0m\u001b[0mX_train\u001b[0m\u001b[0;34m[\u001b[0m\u001b[0;34m[\u001b[0m\u001b[0;34m'num'\u001b[0m\u001b[0;34m]\u001b[0m\u001b[0;34m]\u001b[0m\u001b[0;34m,\u001b[0m \u001b[0my_train\u001b[0m\u001b[0;34m)\u001b[0m\u001b[0;34m\u001b[0m\u001b[0;34m\u001b[0m\u001b[0m\n\u001b[0m\u001b[1;32m      3\u001b[0m \u001b[0mpredictions_lsvc\u001b[0m \u001b[0;34m=\u001b[0m \u001b[0mlsvc\u001b[0m\u001b[0;34m.\u001b[0m\u001b[0mpredict\u001b[0m\u001b[0;34m(\u001b[0m\u001b[0mX_test\u001b[0m\u001b[0;34m[\u001b[0m\u001b[0;34m[\u001b[0m\u001b[0;34m'num'\u001b[0m\u001b[0;34m]\u001b[0m\u001b[0;34m]\u001b[0m\u001b[0;34m)\u001b[0m\u001b[0;34m\u001b[0m\u001b[0;34m\u001b[0m\u001b[0m\n\u001b[1;32m      4\u001b[0m \u001b[0mf1_svc\u001b[0m \u001b[0;34m=\u001b[0m \u001b[0mf1_score\u001b[0m\u001b[0;34m(\u001b[0m\u001b[0my_test\u001b[0m\u001b[0;34m,\u001b[0m \u001b[0mpredictions_lsvc\u001b[0m\u001b[0;34m)\u001b[0m\u001b[0;34m\u001b[0m\u001b[0;34m\u001b[0m\u001b[0m\n\u001b[1;32m      5\u001b[0m \u001b[0;34m\u001b[0m\u001b[0m\n",
      "\u001b[0;32m/opt/conda/lib/python3.7/site-packages/sklearn/svm/_classes.py\u001b[0m in \u001b[0;36mfit\u001b[0;34m(self, X, y, sample_weight)\u001b[0m\n\u001b[1;32m    236\u001b[0m             \u001b[0mself\u001b[0m\u001b[0;34m.\u001b[0m\u001b[0mclass_weight\u001b[0m\u001b[0;34m,\u001b[0m \u001b[0mself\u001b[0m\u001b[0;34m.\u001b[0m\u001b[0mpenalty\u001b[0m\u001b[0;34m,\u001b[0m \u001b[0mself\u001b[0m\u001b[0;34m.\u001b[0m\u001b[0mdual\u001b[0m\u001b[0;34m,\u001b[0m \u001b[0mself\u001b[0m\u001b[0;34m.\u001b[0m\u001b[0mverbose\u001b[0m\u001b[0;34m,\u001b[0m\u001b[0;34m\u001b[0m\u001b[0;34m\u001b[0m\u001b[0m\n\u001b[1;32m    237\u001b[0m             \u001b[0mself\u001b[0m\u001b[0;34m.\u001b[0m\u001b[0mmax_iter\u001b[0m\u001b[0;34m,\u001b[0m \u001b[0mself\u001b[0m\u001b[0;34m.\u001b[0m\u001b[0mtol\u001b[0m\u001b[0;34m,\u001b[0m \u001b[0mself\u001b[0m\u001b[0;34m.\u001b[0m\u001b[0mrandom_state\u001b[0m\u001b[0;34m,\u001b[0m \u001b[0mself\u001b[0m\u001b[0;34m.\u001b[0m\u001b[0mmulti_class\u001b[0m\u001b[0;34m,\u001b[0m\u001b[0;34m\u001b[0m\u001b[0;34m\u001b[0m\u001b[0m\n\u001b[0;32m--> 238\u001b[0;31m             self.loss, sample_weight=sample_weight)\n\u001b[0m\u001b[1;32m    239\u001b[0m \u001b[0;34m\u001b[0m\u001b[0m\n\u001b[1;32m    240\u001b[0m         \u001b[0;32mif\u001b[0m \u001b[0mself\u001b[0m\u001b[0;34m.\u001b[0m\u001b[0mmulti_class\u001b[0m \u001b[0;34m==\u001b[0m \u001b[0;34m\"crammer_singer\"\u001b[0m \u001b[0;32mand\u001b[0m \u001b[0mlen\u001b[0m\u001b[0;34m(\u001b[0m\u001b[0mself\u001b[0m\u001b[0;34m.\u001b[0m\u001b[0mclasses_\u001b[0m\u001b[0;34m)\u001b[0m \u001b[0;34m==\u001b[0m \u001b[0;36m2\u001b[0m\u001b[0;34m:\u001b[0m\u001b[0;34m\u001b[0m\u001b[0;34m\u001b[0m\u001b[0m\n",
      "\u001b[0;32m/opt/conda/lib/python3.7/site-packages/sklearn/svm/_base.py\u001b[0m in \u001b[0;36m_fit_liblinear\u001b[0;34m(X, y, C, fit_intercept, intercept_scaling, class_weight, penalty, dual, verbose, max_iter, tol, random_state, multi_class, loss, epsilon, sample_weight)\u001b[0m\n\u001b[1;32m    976\u001b[0m         \u001b[0mX\u001b[0m\u001b[0;34m,\u001b[0m \u001b[0my_ind\u001b[0m\u001b[0;34m,\u001b[0m \u001b[0msp\u001b[0m\u001b[0;34m.\u001b[0m\u001b[0misspmatrix\u001b[0m\u001b[0;34m(\u001b[0m\u001b[0mX\u001b[0m\u001b[0;34m)\u001b[0m\u001b[0;34m,\u001b[0m \u001b[0msolver_type\u001b[0m\u001b[0;34m,\u001b[0m \u001b[0mtol\u001b[0m\u001b[0;34m,\u001b[0m \u001b[0mbias\u001b[0m\u001b[0;34m,\u001b[0m \u001b[0mC\u001b[0m\u001b[0;34m,\u001b[0m\u001b[0;34m\u001b[0m\u001b[0;34m\u001b[0m\u001b[0m\n\u001b[1;32m    977\u001b[0m         \u001b[0mclass_weight_\u001b[0m\u001b[0;34m,\u001b[0m \u001b[0mmax_iter\u001b[0m\u001b[0;34m,\u001b[0m \u001b[0mrnd\u001b[0m\u001b[0;34m.\u001b[0m\u001b[0mrandint\u001b[0m\u001b[0;34m(\u001b[0m\u001b[0mnp\u001b[0m\u001b[0;34m.\u001b[0m\u001b[0miinfo\u001b[0m\u001b[0;34m(\u001b[0m\u001b[0;34m'i'\u001b[0m\u001b[0;34m)\u001b[0m\u001b[0;34m.\u001b[0m\u001b[0mmax\u001b[0m\u001b[0;34m)\u001b[0m\u001b[0;34m,\u001b[0m\u001b[0;34m\u001b[0m\u001b[0;34m\u001b[0m\u001b[0m\n\u001b[0;32m--> 978\u001b[0;31m         epsilon, sample_weight)\n\u001b[0m\u001b[1;32m    979\u001b[0m     \u001b[0;31m# Regarding rnd.randint(..) in the above signature:\u001b[0m\u001b[0;34m\u001b[0m\u001b[0;34m\u001b[0m\u001b[0;34m\u001b[0m\u001b[0m\n\u001b[1;32m    980\u001b[0m     \u001b[0;31m# seed for srand in range [0..INT_MAX); due to limitations in Numpy\u001b[0m\u001b[0;34m\u001b[0m\u001b[0;34m\u001b[0m\u001b[0;34m\u001b[0m\u001b[0m\n",
      "\u001b[0;31mKeyboardInterrupt\u001b[0m: "
     ]
    }
   ],
   "source": [
    "lsvc = LinearSVC()\n",
    "lsvc.fit(X_train[['num']], y_train)\n",
    "predictions_lsvc = lsvc.predict(X_test[['num']])\n",
    "f1_svc = f1_score(y_test, predictions_lsvc)\n",
    "\n",
    "\n",
    "NB = GaussianNB()\n",
    "NB.fit(X_train[['num']], y_train)\n",
    "predictions_NB = NB.predict(X_test[['num']])\n",
    "f1_NB = f1_score(y_test, predictions_NB)\n",
    "\n",
    "rf = RandomForestClassifier()\n",
    "rf.fit(X_train[['num']], y_train)\n",
    "predictions_rf = rf.predict(X_test[['num']])\n",
    "f1_rf = f1_score(y_test, predictions_rf)\n",
    "\n",
    "\n",
    "ada = AdaBoostClassifier()\n",
    "ada.fit(X_train[['num']], y_train)\n",
    "predictions_ada = ada.predict(X_test[['num']])\n",
    "f1_ada = f1_score(y_test, predictions_ada)\n",
    "\n",
    "num_f1 = [f1_svc, f1_NB, f1_rf, f1_ada]\n"
   ]
  },
  {
   "cell_type": "code",
   "execution_count": null,
   "metadata": {},
   "outputs": [],
   "source": [
    "lsvc = LinearSVC()\n",
    "lsvc.fit(X_train[['jac']], y_train)\n",
    "predictions_lsvc = lsvc.predict(X_test[['jac']])\n",
    "f1_svc = f1_score(y_test, predictions_lsvc)\n",
    "\n",
    "\n",
    "NB = GaussianNB()\n",
    "NB.fit(X_train[['jac']], y_train)\n",
    "predictions_NB = NB.predict(X_test[['jac']])\n",
    "f1_NB = f1_score(y_test, predictions_NB)\n",
    "\n",
    "rf = RandomForestClassifier()\n",
    "rf.fit(X_train[['jac']], y_train)\n",
    "predictions_rf = rf.predict(X_test[['jac']])\n",
    "f1_rf = f1_score(y_test, predictions_rf)\n",
    "\n",
    "\n",
    "ada = AdaBoostClassifier()\n",
    "ada.fit(X_train[['jac']], y_train)\n",
    "predictions_ada = ada.predict(X_test[['jac']])\n",
    "f1_ada = f1_score(y_test, predictions_ada)\n",
    "\n",
    "jac_f1 = [f1_svc, f1_NB, f1_rf, f1_ada]\n"
   ]
  },
  {
   "cell_type": "code",
   "execution_count": null,
   "metadata": {
    "deletable": false,
    "nbgrader": {
     "checksum": "76ae14f5f31d3d915e16f46915e51c10",
     "grade": true,
     "grade_id": "cell-f149e83ef99c661e",
     "locked": false,
     "points": 0,
     "schema_version": 1,
     "solution": true
    }
   },
   "outputs": [],
   "source": [
    "# YOUR CODE HERE\n",
    "lsvc = LinearSVC()\n",
    "lsvc.fit(X_train[['ada']], y_train)\n",
    "predictions_lsvc = lsvc.predict(X_test[['ada']])\n",
    "f1_svc = f1_score(y_test, predictions_lsvc)\n",
    "\n",
    "\n",
    "NB = GaussianNB()\n",
    "NB.fit(X_train[['ada']], y_train)\n",
    "predictions_NB = NB.predict(X_test[['ada']])\n",
    "f1_NB = f1_score(y_test, predictions_NB)\n",
    "\n",
    "rf = RandomForestClassifier()\n",
    "rf.fit(X_train[['ada']], y_train)\n",
    "predictions_rf = rf.predict(X_test[['ada']])\n",
    "f1_rf = f1_score(y_test, predictions_rf)\n",
    "\n",
    "\n",
    "ada = AdaBoostClassifier()\n",
    "ada.fit(X_train[['ada']], y_train)\n",
    "predictions_ada = ada.predict(X_test[['ada']])\n",
    "f1_ada = f1_score(y_test, predictions_ada)\n",
    "\n",
    "ada_f1 = [f1_svc, f1_NB, f1_rf, f1_ada]\n"
   ]
  },
  {
   "cell_type": "code",
   "execution_count": null,
   "metadata": {},
   "outputs": [],
   "source": [
    "# YOUR CODE HERE\n",
    "lsvc = LinearSVC()\n",
    "lsvc.fit(X_train[['pa']], y_train)\n",
    "predictions_lsvc = lsvc.predict(X_test[['pa']])\n",
    "f1_svc = f1_score(y_test, predictions_lsvc)\n",
    "\n",
    "\n",
    "NB = GaussianNB()\n",
    "NB.fit(X_train[['pa']], y_train)\n",
    "predictions_NB = NB.predict(X_test[['pa']])\n",
    "f1_NB = f1_score(y_test, predictions_NB)\n",
    "\n",
    "rf = RandomForestClassifier()\n",
    "rf.fit(X_train[['pa']], y_train)\n",
    "predictions_rf = rf.predict(X_test[['pa']])\n",
    "f1_rf = f1_score(y_test, predictions_rf)\n",
    "\n",
    "\n",
    "ada = AdaBoostClassifier()\n",
    "ada.fit(X_train[['pa']], y_train)\n",
    "predictions_ada = ada.predict(X_test[['pa']])\n",
    "f1_ada = f1_score(y_test, predictions_ada)\n",
    "\n",
    "pa_f1 = [f1_svc, f1_NB, f1_rf, f1_ada]\n"
   ]
  },
  {
   "cell_type": "code",
   "execution_count": null,
   "metadata": {},
   "outputs": [],
   "source": [
    "# YOUR CODE HERE\n",
    "lsvc = LinearSVC()\n",
    "lsvc.fit(X_train, y_train)\n",
    "predictions_lsvc = lsvc.predict(X_test)\n",
    "f1_svc = f1_score(y_test, predictions_lsvc)\n",
    "\n",
    "\n",
    "NB = GaussianNB()\n",
    "NB.fit(X_train, y_train)\n",
    "predictions_NB = NB.predict(X_test)\n",
    "f1_NB = f1_score(y_test, predictions_NB)\n",
    "\n",
    "rf = RandomForestClassifier()\n",
    "rf.fit(X_train, y_train)\n",
    "predictions_rf = rf.predict(X_test)\n",
    "f1_rf = f1_score(y_test, predictions_rf)\n",
    "\n",
    "\n",
    "ada = AdaBoostClassifier()\n",
    "ada.fit(X_train, y_train)\n",
    "predictions_ada = ada.predict(X_test)\n",
    "f1_ada = f1_score(y_test, predictions_ada)\n",
    "\n",
    "all_f1 = [f1_svc, f1_NB, f1_rf, f1_ada]\n"
   ]
  },
  {
   "cell_type": "code",
   "execution_count": null,
   "metadata": {},
   "outputs": [],
   "source": [
    "model = ['LinearSVC', 'GaussianNB', 'RandomForestClassifier', 'AdaBoostClassifier']\n",
    "\n",
    "F1_score_df['model'] = model  \n",
    "F1_score_df['num'] = num_f1  \n",
    "F1_score_df['jac'] = jac_f1  \n",
    "F1_score_df['ada'] = ada_f1 \n",
    "F1_score_df['pa']  = pa_f1  \n",
    "F1_score_df['all_features']  = all_f1 \n",
    "\n"
   ]
  },
  {
   "cell_type": "code",
   "execution_count": null,
   "metadata": {},
   "outputs": [],
   "source": [
    "\n",
    "F1_score_df = F1_score_df.set_index('model')"
   ]
  },
  {
   "cell_type": "code",
   "execution_count": null,
   "metadata": {},
   "outputs": [],
   "source": [
    "F1_score_df"
   ]
  },
  {
   "cell_type": "markdown",
   "metadata": {
    "deletable": false,
    "editable": false,
    "nbgrader": {
     "checksum": "7aea846a6c81a8abb91bcfc7c3b7a79f",
     "grade": false,
     "grade_id": "cell-e3218db6ccd63b81",
     "locked": true,
     "schema_version": 1,
     "solution": false
    }
   },
   "source": [
    "# End"
   ]
  },
  {
   "cell_type": "code",
   "execution_count": null,
   "metadata": {},
   "outputs": [],
   "source": []
  }
 ],
 "metadata": {
  "anaconda-cloud": {},
  "colab": {
   "collapsed_sections": [],
   "name": "assignment2.ipynb",
   "provenance": []
  },
  "coursera": {
   "schema_names": [
    "mads_network_analysis_v2_assignment2"
   ]
  },
  "kernelspec": {
   "display_name": "Python 3 (ipykernel)",
   "language": "python",
   "name": "python3"
  },
  "language_info": {
   "codemirror_mode": {
    "name": "ipython",
    "version": 3
   },
   "file_extension": ".py",
   "mimetype": "text/x-python",
   "name": "python",
   "nbconvert_exporter": "python",
   "pygments_lexer": "ipython3",
   "version": "3.7.10"
  }
 },
 "nbformat": 4,
 "nbformat_minor": 4
}
