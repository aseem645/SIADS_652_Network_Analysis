{
 "cells": [
  {
   "cell_type": "markdown",
   "metadata": {},
   "source": [
    "# Assignment 3\n",
    "### Last updated: December 20, 2021"
   ]
  },
  {
   "cell_type": "markdown",
   "metadata": {},
   "source": [
    "### Name: Aseem Sachdeva\n",
    "\n",
    "### Uniqname: aseemsa\n",
    "\n",
    "## Instructions\n",
    "\n",
    "Please turn in:\n",
    "1. A Jupyter Notebook file. This file should show all of the required work, including code, results, visualizations (if any), and necessary comments to your code. Irrelevant code and results should be deleted prior to submission.\n",
    "\n",
    "2. An html file showing the preview of the Notebook. To create this file, select File -> Download as > HTML. \n",
    "\n",
    "### Before submitting, please select Kernel -> Restart & Run All."
   ]
  },
  {
   "cell_type": "code",
   "execution_count": 1,
   "metadata": {
    "deletable": false,
    "editable": false,
    "nbgrader": {
     "checksum": "3cc973548729ba485ec709da6275a463",
     "grade": false,
     "grade_id": "cell-2c6d714aeee78e15",
     "locked": true,
     "schema_version": 1,
     "solution": false
    }
   },
   "outputs": [],
   "source": [
    "import networkx as nx\n",
    "import numpy as np\n",
    "import matplotlib.pyplot as plt\n",
    "from networkx.drawing.nx_pydot import graphviz_layout\n",
    "import ndlib.models.ModelConfig as mc\n",
    "import ndlib.models.epidemics as ep\n",
    "import operator\n",
    "import random"
   ]
  },
  {
   "cell_type": "code",
   "execution_count": 2,
   "metadata": {},
   "outputs": [],
   "source": [
    "import heapq\n",
    "from operator import itemgetter\n",
    "import pandas as pd\n",
    "from collections import Counter"
   ]
  },
  {
   "cell_type": "markdown",
   "metadata": {
    "deletable": false,
    "editable": false,
    "nbgrader": {
     "checksum": "6d0d879e04ae0c9a127317ee880bea90",
     "grade": false,
     "grade_id": "cell-34a675ac21d3702c",
     "locked": true,
     "schema_version": 1,
     "solution": false
    }
   },
   "source": [
    "## German highway system network\n",
    "\n",
    "The data source used in this assignment is adopted and modified from the original Matlab file on the [website](http://www.biological-networks.org/?page_id=25). You can read more about the data source in its [paper](https://www.dynamic-connectome.org/pubs/Kaiser2004b.pdf).\n",
    "\n",
    "> Kaiser M., and Hilgetag C.-C. (2004) Spatial growth of real-world networks. Physical Review E 69:036103."
   ]
  },
  {
   "cell_type": "markdown",
   "metadata": {
    "deletable": false,
    "editable": false,
    "nbgrader": {
     "checksum": "ab6f44dfb7eb19cf408336098f60faff",
     "grade": false,
     "grade_id": "cell-116edbe869b9808d",
     "locked": true,
     "schema_version": 1,
     "solution": false
    }
   },
   "source": [
    "### Q1. (1 point) Load the graph from the dataset. How many nodes in the graph have a degree of one?"
   ]
  },
  {
   "cell_type": "code",
   "execution_count": 3,
   "metadata": {
    "deletable": false,
    "nbgrader": {
     "checksum": "ee74adf006ed847d80b19d337c48a0e8",
     "grade": false,
     "grade_id": "cell-6b20b64ec74373a8",
     "locked": false,
     "schema_version": 1,
     "solution": true
    }
   },
   "outputs": [],
   "source": [
    "G=nx.read_edgelist(\"assets/german.txt\", delimiter=' ')\n",
    " # assign it with the number of nodes of degree one\n",
    "degree_dict = dict(nx.degree(G))\n",
    "\n",
    "# YOUR CODE HERE\n",
    "degree_is_one = sum(x == 1 for x in degree_dict.values())\n",
    "\n"
   ]
  },
  {
   "cell_type": "code",
   "execution_count": 4,
   "metadata": {
    "deletable": false,
    "editable": false,
    "nbgrader": {
     "checksum": "0457135a04c70034b03c7538b36ffae0",
     "grade": true,
     "grade_id": "cell-137d7d15f673c376",
     "locked": true,
     "points": 1,
     "schema_version": 1,
     "solution": false
    }
   },
   "outputs": [],
   "source": [
    "#hidden tests for Question 1 are within this cell"
   ]
  },
  {
   "cell_type": "markdown",
   "metadata": {
    "deletable": false,
    "editable": false,
    "nbgrader": {
     "checksum": "c8e341c328e824349c2da6b40fe588f4",
     "grade": false,
     "grade_id": "cell-fed68077433d3ee1",
     "locked": true,
     "schema_version": 1,
     "solution": false
    }
   },
   "source": [
    "## Part 1. Diffusion models\n",
    "\n",
    "In this part, you will practice simulating diffusion process on the graph with several difussion models we have learned."
   ]
  },
  {
   "cell_type": "markdown",
   "metadata": {
    "deletable": false,
    "editable": false,
    "nbgrader": {
     "checksum": "fc4be90d6bc44c7aaae29eb8325823cd",
     "grade": false,
     "grade_id": "cell-9edd033377b0e2e7",
     "locked": true,
     "schema_version": 1,
     "solution": false
    }
   },
   "source": [
    "### Q2. (7 points) Threshold model\n",
    "\n",
    "Use the [threshold model](https://ndlib.readthedocs.io/en/latest/reference/models/epidemics/Threshold.html) provided by the NDlib library:\n",
    "\n",
    "```python\n",
    "ndlib.models.epidemics.ThresholdModel.ThresholdModel(graph, seed=None)\n",
    "```\n",
    "\n",
    "Complete the following function with the given signature, so that it simulates a diffusion process with a threshold model and returns a list of infected number in each iteration.\n",
    "\n",
    "The function has two options for determining seed nodes:\n",
    "- Passing a function as input (```importance_measure```), which takes in G and outputs a dictionary with nodes as the keys and scores as the values. Our function should use the top `n` nodes based on these scores as the seed nodes. For example, ```importance_measure``` could output a dictionary with the degree of each node. \n",
    "\n",
    "- If ```importance_measure``` is not passed, then our function should pick a random ```float(n)/len(G.nodes)``` fraction of nodes to be infected.  \n",
    "\n",
    "**Hint**\n",
    "\n",
    "The `ModelConfig` object supports two configuration parameters:\n",
    "\n",
    "- To specify a list of initially infected nodes `infected_nodes` use:\n",
    "    ```python\n",
    "    config.add_model_initial_configuration(\"Infected\", infected_nodes)\n",
    "    ``` \n",
    "- To choose a random fraction of infected nodes use:\n",
    "    ```python\n",
    "    config.add_model_parameter('fraction_infected', fraction)\n",
    "    ```\n"
   ]
  },
  {
   "cell_type": "code",
   "execution_count": 5,
   "metadata": {
    "deletable": false,
    "nbgrader": {
     "checksum": "bb917e2de03d77676eb5f710b5d448e2",
     "grade": false,
     "grade_id": "cell-2bb1c38fb1645e97",
     "locked": false,
     "schema_version": 1,
     "solution": true
    }
   },
   "outputs": [],
   "source": [
    "def simulate_threshold(G, importance_measure=None, iterate=50, n=1, threshold=0.25):\n",
    "    model = ep.ThresholdModel(G, seed = 42)\n",
    "    config = mc.Configuration()\n",
    "    fraction = float(n)/len(G.nodes)\n",
    "\n",
    "    if importance_measure:\n",
    "        # select seed nodes\n",
    "        sorted_node = sorted(importance_measure(G).items(), key=operator.itemgetter(1))[::-1]\n",
    "        highest_nodes = [n for n, _ in sorted_node[:n]]\n",
    "        config.add_model_initial_configuration(\"Infected\", highest_nodes)\n",
    "        \n",
    "    elif importance_measure == None:\n",
    "        # select seed nodes\n",
    "        config.add_model_parameter('fraction_infected', fraction)\n",
    "        \n",
    "    for i in G.nodes():\n",
    "        config.add_node_configuration(\"threshold\", i, threshold)\n",
    "\n",
    "    model.set_initial_status(config)\n",
    "    \n",
    "    # Simulation execution\n",
    "    iterations = model.iteration_bunch(iterate)\n",
    "    return [it['node_count'][1] for it in iterations]"
   ]
  },
  {
   "cell_type": "code",
   "execution_count": 6,
   "metadata": {
    "deletable": false,
    "editable": false,
    "nbgrader": {
     "checksum": "2233b4865c31614e15728b597b8e086a",
     "grade": true,
     "grade_id": "cell-952b9c22cf3d4feb",
     "locked": true,
     "points": 7,
     "schema_version": 1,
     "solution": false
    }
   },
   "outputs": [],
   "source": [
    "#hidden tests for Question 2 are within this cell"
   ]
  },
  {
   "cell_type": "markdown",
   "metadata": {
    "deletable": false,
    "editable": false,
    "nbgrader": {
     "checksum": "1b524dce98d2595005de61181052a425",
     "grade": false,
     "grade_id": "cell-355f8f1d41c6056f",
     "locked": true,
     "schema_version": 1,
     "solution": false
    }
   },
   "source": [
    "### Q3. (3 points) Selection of seed nodes\n",
    "\n",
    "Compare 5 different settings of seed nodes:\n",
    "\n",
    "- randomly select `N` nodes\n",
    "- select `N` nodes with the highest degree\n",
    "- select `N` nodes with the highest closeness centrality\n",
    "- select `N` nodes with the highest betweenness centrality\n",
    "- select `N` nodes with the highest PageRank value\n",
    "\n",
    "\n",
    "\n",
    "Use the function in question 2 to simulate the diffusion for each seed node set, with `iterate=50`, `N=5`, and  `threshold=0.3`.   Create a single plot with 5 curves (one for each set of seed nodes) with iteration number on the x-axis and the number of infected nodes on the y-axis.\n",
    "\n",
    "**Note**: please do not modify the random seed. This is to ensure that your simulation will be consistent with the autograder."
   ]
  },
  {
   "cell_type": "code",
   "execution_count": 7,
   "metadata": {
    "deletable": false,
    "nbgrader": {
     "checksum": "67e8776491a82999f7b914843a78b937",
     "grade": false,
     "grade_id": "cell-c13734874e159cd3",
     "locked": false,
     "schema_version": 1,
     "solution": true
    }
   },
   "outputs": [
    {
     "data": {
      "image/png": "[encoded data removed]",
      "text/plain": [
       "<Figure size 432x288 with 1 Axes>"
      ]
     },
     "metadata": {
      "needs_background": "light"
     },
     "output_type": "display_data"
    }
   ],
   "source": [
    "I=50\n",
    "N=5\n",
    "T=0.3\n",
    "random.seed(42)\n",
    "node_count_random = simulate_threshold(G, None, iterate=I, n=N, threshold=T)     # number of infected nodes in each iteration, init with randomly selected nodes\n",
    "node_count_deg = simulate_threshold(G, nx.degree_centrality, iterate=I, n=N, threshold=T)       # number of infected nodes in each iteration, init with nodes of highest degree\n",
    "node_count_closeness = simulate_threshold(G, nx.closeness_centrality, iterate=I, n=N, threshold=T) # number of infected nodes in each iteration, init with nodes of highest closeness centrality\n",
    "node_count_betweenness =  simulate_threshold(G, nx.betweenness_centrality, iterate=I, n=N, threshold=T) # number of infected nodes in each iteration, init with nodes of highest betweenness centrality\n",
    "node_count_pagerank = simulate_threshold(G, nx.pagerank, iterate=I, n=N, threshold=T)   # number of infected nodes in each iteration, init with nodes of highest pagerank \n",
    "\n",
    "# YOUR CODE HERE\n",
    "\n",
    "data_tuples = list(zip(node_count_random,node_count_deg, node_count_closeness, node_count_betweenness, node_count_pagerank))\n",
    "\n",
    "df = pd.DataFrame(data_tuples, columns=['random','deg', 'close', 'between', 'pagerank'])\n",
    "\n",
    "df['iteration'] = np.arange(len(df))\n",
    "\n",
    "\n",
    "\n",
    "\n",
    "plt.plot(df['iteration'], df['random'], label = \"random\")\n",
    "plt.plot(df['iteration'], df['deg'], label = \"deg\")\n",
    "plt.plot(df['iteration'], df['close'], label = \"close\")\n",
    "plt.plot(df['iteration'], df['between'], label = \"between\")\n",
    "plt.plot(df['iteration'], df['pagerank'], label = \"pagerank\")\n",
    "plt.xlabel(\"iteration\")\n",
    "plt.ylabel(\"number of infected nodes\")\n",
    "plt.legend(loc=\"upper left\")\n",
    "plt.show()"
   ]
  },
  {
   "cell_type": "code",
   "execution_count": 8,
   "metadata": {
    "deletable": false,
    "editable": false,
    "nbgrader": {
     "checksum": "d45605a30beec6ae9e201b241ed22d7c",
     "grade": true,
     "grade_id": "cell-fc2dcd992532529d",
     "locked": true,
     "points": 3,
     "schema_version": 1,
     "solution": false
    }
   },
   "outputs": [],
   "source": [
    "#hidden tests for Question 3 are within this cell"
   ]
  },
  {
   "cell_type": "markdown",
   "metadata": {
    "deletable": false,
    "editable": false,
    "nbgrader": {
     "checksum": "7ddcc7283e52dceb07012638fdd272a5",
     "grade": false,
     "grade_id": "cell-2af0dee3617c1803",
     "locked": true,
     "schema_version": 1,
     "solution": false
    }
   },
   "source": [
    "### Q4. (1 point) Which seed nodes generation methods converges first?\n",
    "\n",
    "### Informally, we say that a method converges when the number of infected nodes stops changing significantly as the number of iterations increases. \n",
    "\n",
    "Accepted strings:\n",
    "```python\n",
    "\"random\" | \"degree\" | \"closeness\" | \"betweenness\" | \"pagerank\"\n",
    "```\n",
    "Select all that apply to the list in the following cell. For example, if \"closeness\" and \"degree\" are the equally fast and converge first, you should input\n",
    "```python\n",
    "method = [\"closeness\", \"degree\"]\n",
    "```\n"
   ]
  },
  {
   "cell_type": "code",
   "execution_count": 9,
   "metadata": {
    "deletable": false,
    "nbgrader": {
     "checksum": "1abb31c134c9f4c4bb77ab7a2b746dec",
     "grade": false,
     "grade_id": "cell-cea2b38062886d2f",
     "locked": false,
     "schema_version": 1,
     "solution": true
    }
   },
   "outputs": [],
   "source": [
    "\n",
    "# YOUR CODE HERE\n",
    "method = [\"random\"]"
   ]
  },
  {
   "cell_type": "code",
   "execution_count": 10,
   "metadata": {
    "deletable": false,
    "editable": false,
    "nbgrader": {
     "checksum": "f236f60939fcc5983e35093ad35c9aed",
     "grade": true,
     "grade_id": "cell-d9364018badfbc48",
     "locked": true,
     "points": 1,
     "schema_version": 1,
     "solution": false
    }
   },
   "outputs": [],
   "source": [
    "#hidden tests for Question 4 are within this cell"
   ]
  },
  {
   "cell_type": "markdown",
   "metadata": {
    "deletable": false,
    "editable": false,
    "nbgrader": {
     "checksum": "5c529103ec7b24ed7cfb22301de22a11",
     "grade": false,
     "grade_id": "cell-39b3684ef6e08c62",
     "locked": true,
     "schema_version": 1,
     "solution": false
    }
   },
   "source": [
    "### Q5. (3 points) Randomized threshold model\n",
    "We can add randomness to the threshold model by randomly assigning thresholds to the nodes.\n",
    "\n",
    "Modify the function you wrote in Q2. Instead of setting the same threshold value for each node, use the `random.uniform(lower, upper)` function to randomly generate a threshold between $[lower, upper)$. "
   ]
  },
  {
   "cell_type": "code",
   "execution_count": 11,
   "metadata": {
    "deletable": false,
    "nbgrader": {
     "checksum": "700f9832c28e7ad14afae5f755630e84",
     "grade": false,
     "grade_id": "cell-0f208cf6770b45e1",
     "locked": false,
     "schema_version": 1,
     "solution": true
    }
   },
   "outputs": [],
   "source": [
    "def simulate_rand_threshold(G, importance_measure=None, iterate=100, n=1, lower=0, upper=1):\n",
    "    model = ep.ThresholdModel(G, seed = 42)\n",
    "    config = mc.Configuration()\n",
    "    fraction = float(n)/len(G.nodes)\n",
    "\n",
    "    if importance_measure:\n",
    "        # select seed nodes\n",
    "        sorted_node = sorted(importance_measure(G).items(), key=operator.itemgetter(1))[::-1]\n",
    "        highest_nodes = [n for n, _ in sorted_node[:n]]\n",
    "        config.add_model_initial_configuration(\"Infected\", highest_nodes)\n",
    "        \n",
    "    elif importance_measure == None:\n",
    "        # select seed nodes\n",
    "        config.add_model_parameter('fraction_infected', fraction)\n",
    "        \n",
    "    for i in G.nodes():\n",
    "        config.add_node_configuration(\"threshold\", i, random.uniform(lower, upper))\n",
    "\n",
    "    model.set_initial_status(config)\n",
    "    \n",
    "    # Simulation execution\n",
    "    iterations = model.iteration_bunch(iterate)\n",
    "    return [it['node_count'][1] for it in iterations]"
   ]
  },
  {
   "cell_type": "code",
   "execution_count": 12,
   "metadata": {
    "deletable": false,
    "editable": false,
    "nbgrader": {
     "checksum": "25d9bf80768d79b4398b11ad7c037a84",
     "grade": true,
     "grade_id": "cell-1b371e0139f5fb81",
     "locked": true,
     "points": 3,
     "schema_version": 1,
     "solution": false
    }
   },
   "outputs": [],
   "source": [
    "#hidden tests for Question 5 are within this cell"
   ]
  },
  {
   "cell_type": "markdown",
   "metadata": {
    "deletable": false,
    "editable": false,
    "nbgrader": {
     "checksum": "2ed861ade81c4f311ee120767cef97fb",
     "grade": false,
     "grade_id": "cell-cbba3a632c4df883",
     "locked": true,
     "schema_version": 1,
     "solution": false
    }
   },
   "source": [
    "### Q6. (4 points) Threshold range selection\n",
    "\n",
    "Find a range $[a, b)$ such that the seed nodes selected using a random approach **converges** faster than at least one other method. You should run at least 50 iterations.\n",
    "\n",
    "**Hint**: You can solve through trial and error, but think about what range of values would lead to slower convergence of the random strategy. There is no exact answer, but you can reason about the range of values that could work. What happens if the thresholds are all very large? Very small? Mid-range?"
   ]
  },
  {
   "cell_type": "code",
   "execution_count": 13,
   "metadata": {
    "deletable": false,
    "nbgrader": {
     "checksum": "1a2b815addcaab63a84188de47c9c9c8",
     "grade": false,
     "grade_id": "cell-50e5048ea344a94c",
     "locked": false,
     "schema_version": 1,
     "solution": true
    }
   },
   "outputs": [],
   "source": [
    "a = 0.3  # seleted lower bound\n",
    "b = 0.4 # seleted upper bound\n",
    "\n",
    "\n",
    "\n",
    "\n",
    "\n",
    "\n",
    "# YOUR CODE HERE\n"
   ]
  },
  {
   "cell_type": "code",
   "execution_count": 14,
   "metadata": {
    "deletable": false,
    "editable": false,
    "nbgrader": {
     "checksum": "e76090be8f7876578111b8765fd5fa77",
     "grade": true,
     "grade_id": "cell-f4f45e84afbebd42",
     "locked": true,
     "points": 4,
     "schema_version": 1,
     "solution": false
    }
   },
   "outputs": [],
   "source": [
    "x = simulate_rand_threshold(G, n=N, iterate=I, lower=a, upper=b)\n",
    "r1 = simulate_rand_threshold(G, nx.degree_centrality, n=N, iterate=I, lower=a, upper=b)\n",
    "r2 = simulate_rand_threshold(G, nx.closeness_centrality, n=N, iterate=I, lower=a, upper=b)\n",
    "r3 = simulate_rand_threshold(G, nx.betweenness_centrality, n=N, iterate=I, lower=a, upper=b)\n",
    "r4 = simulate_rand_threshold(G, nx.pagerank, n=N, iterate=I, lower=a, upper=b)\n",
    "\n",
    "#hidden tests for Question 6 are within this cell"
   ]
  },
  {
   "cell_type": "code",
   "execution_count": 15,
   "metadata": {},
   "outputs": [
    {
     "data": {
      "image/png": "[encoded data removed]",
      "text/plain": [
       "<Figure size 432x288 with 1 Axes>"
      ]
     },
     "metadata": {
      "needs_background": "light"
     },
     "output_type": "display_data"
    }
   ],
   "source": [
    "data_tuples = list(zip(x,r1, r2, r3, r4))\n",
    "\n",
    "df = pd.DataFrame(data_tuples, columns=['random','deg', 'close', 'between', 'pagerank'])\n",
    "\n",
    "df['iteration'] = np.arange(len(df))\n",
    "\n",
    "\n",
    "\n",
    "\n",
    "plt.plot(df['iteration'], df['random'], label = \"random\")\n",
    "plt.plot(df['iteration'], df['deg'], label = \"deg\")\n",
    "plt.plot(df['iteration'], df['close'], label = \"close\")\n",
    "plt.plot(df['iteration'], df['between'], label = \"between\")\n",
    "plt.plot(df['iteration'], df['pagerank'], label = \"pagerank\")\n",
    "plt.xlabel(\"iteration\")\n",
    "plt.ylabel(\"number of infected nodes\")\n",
    "plt.legend(loc=\"upper left\")\n",
    "plt.show()"
   ]
  },
  {
   "cell_type": "markdown",
   "metadata": {
    "deletable": false,
    "editable": false,
    "nbgrader": {
     "checksum": "cb1ba70877b43b4c089aa2f6e7ec31a1",
     "grade": false,
     "grade_id": "cell-d262ac66fee1c8be",
     "locked": true,
     "schema_version": 1,
     "solution": false
    }
   },
   "source": [
    "### Q7. (5 points) Independent cascade model\n",
    "\n",
    "The [independent cascade model](https://ndlib.readthedocs.io/en/latest/reference/models/epidemics/IndependentCascades.html) also has a threshold parameter. Note that this threshold is not the same as the threshold of the threshold model. Here it is specified for edges and represents the probability of diffusion along each edge.\n",
    "\n",
    "Complete the following function with the given signature, so that it simulates a diffusion process with an independent cascade model and returns a list of the number infected in each iteration. The seed nodes should be selected in the same way as in Q2. "
   ]
  },
  {
   "cell_type": "code",
   "execution_count": 16,
   "metadata": {
    "deletable": false,
    "nbgrader": {
     "checksum": "e18368fd725f6490d8b167a800b4be57",
     "grade": true,
     "grade_id": "cell-2a1277d0d59ba9c5",
     "locked": false,
     "points": 0,
     "schema_version": 1,
     "solution": true
    }
   },
   "outputs": [],
   "source": [
    "def simulate_IC(G, importance_measure=None, iterate=100, n=1, threshold=0.3):\n",
    "    model = ep.IndependentCascadesModel(G)\n",
    "    random.seed(42)\n",
    "    config = mc.Configuration()\n",
    "    fraction = float(n)/len(G.nodes)\n",
    "\n",
    "    if importance_measure:\n",
    "        # select seed nodes\n",
    "        sorted_node = sorted(importance_measure(G).items(), key=operator.itemgetter(1))[::-1]\n",
    "        highest_nodes = [n for n, _ in sorted_node[:n]]\n",
    "        config.add_model_initial_configuration(\"Infected\", highest_nodes)\n",
    "        \n",
    "    elif importance_measure == None:\n",
    "        # select seed nodes\n",
    "        config.add_model_parameter('fraction_infected', fraction)\n",
    "        \n",
    "    for e in G.edges():\n",
    "        config.add_edge_configuration(\"threshold\", e, threshold)\n",
    "\n",
    "    model.set_initial_status(config)\n",
    "    \n",
    "    # Simulation execution\n",
    "    iterations = model.iteration_bunch(iterate)\n",
    "    return [it['node_count'][1] + it['node_count'][2] for it in iterations]  # number of people who already know"
   ]
  },
  {
   "cell_type": "markdown",
   "metadata": {
    "deletable": false,
    "editable": false,
    "nbgrader": {
     "checksum": "e3aa232d8e30ff48863a77e44ce31cc0",
     "grade": false,
     "grade_id": "cell-fbea5aa3301e30de",
     "locked": true,
     "schema_version": 1,
     "solution": false
    }
   },
   "source": [
    "### Q8. (5 points) Seed node comparison\n",
    "\n",
    "Apply the same comparison on the 5 seed node sets for the independent cascade model with the function you implemented in Q7. Set the parameters as `N=20`, `iterate=40` and `threshold=0.3`.\n",
    "\n",
    "Create a single plot with 5 curves (one for each set of seed nodes) with iteration number on the x-axis and the number of infected nodes on the y-axis.\n"
   ]
  },
  {
   "cell_type": "code",
   "execution_count": 17,
   "metadata": {
    "deletable": false,
    "nbgrader": {
     "checksum": "c7fdefc90e15957c9f33378aa67c7767",
     "grade": true,
     "grade_id": "cell-a50f5258eb7966a6",
     "locked": false,
     "points": 0,
     "schema_version": 1,
     "solution": true
    }
   },
   "outputs": [
    {
     "data": {
      "image/png": "[encoded data removed]",
      "text/plain": [
       "<Figure size 432x288 with 1 Axes>"
      ]
     },
     "metadata": {
      "needs_background": "light"
     },
     "output_type": "display_data"
    }
   ],
   "source": [
    "I=40\n",
    "N=20\n",
    "T=0.3\n",
    "node_count_random = simulate_IC(G, importance_measure=None, iterate=I, n=N, threshold=T)    # number of infected nodes in each iteration, init with randomly selected nodes\n",
    "node_count_deg = simulate_IC(G, importance_measure=nx.degree_centrality, iterate=I, n=N, threshold=T)         # number of infected nodes in each iteration, init with nodes of highest degree\n",
    "node_count_closeness= simulate_IC(G, importance_measure=nx.closeness_centrality, iterate=I, n=N, threshold=T)  # number of infected nodes in each iteration, init with nodes of highest closeness centrality\n",
    "node_count_betweenness = simulate_IC(G, importance_measure=nx.betweenness_centrality, iterate=I, n=N, threshold=T)  # number of infected nodes in each iteration, init with nodes of highest betweenness centrality\n",
    "node_count_pagerank = simulate_IC(G, importance_measure=nx.pagerank, iterate=I, n=N, threshold=T)   # number of infected nodes in each iteration, init with nodes of highest pagerank \n",
    "\n",
    "# YOUR CODE HERE\n",
    "data_tuples = list(zip(node_count_random,node_count_deg, node_count_closeness, node_count_betweenness, node_count_pagerank))\n",
    "\n",
    "df = pd.DataFrame(data_tuples, columns=['random','deg', 'close', 'between', 'pagerank'])\n",
    "\n",
    "df['iteration'] = np.arange(len(df))\n",
    "\n",
    "\n",
    "\n",
    "\n",
    "plt.plot(df['iteration'], df['random'], label = \"random\")\n",
    "plt.plot(df['iteration'], df['deg'], label = \"deg\")\n",
    "plt.plot(df['iteration'], df['close'], label = \"close\")\n",
    "plt.plot(df['iteration'], df['between'], label = \"between\")\n",
    "plt.plot(df['iteration'], df['pagerank'], label = \"pagerank\")\n",
    "plt.xlabel(\"iteration\")\n",
    "plt.ylabel(\"number of infected nodes\")\n",
    "plt.legend(loc=\"lower right\")\n",
    "plt.show()\n"
   ]
  },
  {
   "cell_type": "markdown",
   "metadata": {
    "deletable": false,
    "editable": false,
    "nbgrader": {
     "checksum": "14643140a252152a45f3832aae7971d8",
     "grade": false,
     "grade_id": "cell-dc410c4a26af6de1",
     "locked": true,
     "schema_version": 1,
     "solution": false
    }
   },
   "source": [
    "### Q9. (2 points) Which method results in the largest cascade size?\n",
    "\n",
    "Accepted strings:\n",
    "```python\n",
    "\"random\" | \"degree\" | \"closeness\" | \"betweenness\" | \"pagerank\"\n",
    "```\n",
    "Select all that apply to the list in the following cell. For example, if \"random\" and \"degree\" are both the fastest, you should input\n",
    "\n",
    "```python\n",
    "method = [\"random\", \"degree\"]\n",
    "```"
   ]
  },
  {
   "cell_type": "code",
   "execution_count": 18,
   "metadata": {
    "deletable": false,
    "nbgrader": {
     "checksum": "766fe7fd4f3236c3db8a2d318171a429",
     "grade": false,
     "grade_id": "cell-dd0142f146a1347e",
     "locked": false,
     "schema_version": 1,
     "solution": true
    }
   },
   "outputs": [],
   "source": [
    "method = ['pagerank']\n",
    "\n",
    "# YOUR CODE HERE\n"
   ]
  },
  {
   "cell_type": "code",
   "execution_count": 19,
   "metadata": {
    "deletable": false,
    "editable": false,
    "nbgrader": {
     "checksum": "e96e307b3bc4114d32164c8b6d72553b",
     "grade": true,
     "grade_id": "cell-a0dc1395346fa78d",
     "locked": true,
     "points": 2,
     "schema_version": 1,
     "solution": false
    }
   },
   "outputs": [],
   "source": [
    "#hidden tests for Question 9 are within this cell"
   ]
  },
  {
   "cell_type": "markdown",
   "metadata": {
    "deletable": false,
    "editable": false,
    "nbgrader": {
     "checksum": "57123b67d96c57d734493f86395899f2",
     "grade": false,
     "grade_id": "cell-22ce2dc385e01b88",
     "locked": true,
     "schema_version": 1,
     "solution": false
    }
   },
   "source": [
    "### Q10. (5 points) SI model\n",
    "\n",
    "The [SI model](https://ndlib.readthedocs.io/en/latest/reference/models/epidemics/SIm.html) considers two states: \"susceptible\" and \"infected\". The statuses are interpreted as: \n",
    "\n",
    "|Name\t|Code\n",
    "|---    |--- \n",
    "|Susceptible|0\n",
    "|Infected\t|1\n",
    "\n",
    "The infection probability is given by the parameter `beta`, which should be between 0 and 1. \n",
    "\n",
    "\n",
    "Complete the following function with the given signature, so that it simulates a diffusion process with an SI model and returns a list of currently infected number in each iteration.\n"
   ]
  },
  {
   "cell_type": "code",
   "execution_count": 20,
   "metadata": {
    "deletable": false,
    "nbgrader": {
     "checksum": "7eda8572ba2c06aaaf4147570ffe3c40",
     "grade": true,
     "grade_id": "cell-4594cfaa04d23b14",
     "locked": false,
     "points": 0,
     "schema_version": 1,
     "solution": true
    }
   },
   "outputs": [],
   "source": [
    "def simulate_SI(G, importance_measure=None, iterate=100, n=1, beta=0.1):\n",
    "    # Model selection\n",
    "    model = ep.SIModel(G)\n",
    "    config = mc.Configuration()\n",
    "    fraction = float(n)/len(G.nodes)\n",
    "    \n",
    "    if importance_measure:\n",
    "        # select seed nodes\n",
    "        sorted_node = sorted(importance_measure(G).items(), key=operator.itemgetter(1))[::-1]\n",
    "        highest_nodes = [n for n, _ in sorted_node[:n]]\n",
    "        config.add_model_initial_configuration(\"Infected\", highest_nodes)\n",
    "        \n",
    "    elif importance_measure == None:\n",
    "        # select seed nodes\n",
    "        config.add_model_parameter('fraction_infected', fraction)    \n",
    "        \n",
    "\n",
    "    config.add_model_parameter('beta', beta)\n",
    "    model.set_initial_status(config)\n",
    "\n",
    "    # YOUR CODE HERE\n",
    "  \n",
    "\n",
    "    # Simulation execution\n",
    "    iterations = model.iteration_bunch(iterate)\n",
    "    return [it['node_count'][1] for it in iterations]"
   ]
  },
  {
   "cell_type": "markdown",
   "metadata": {
    "deletable": false,
    "editable": false,
    "nbgrader": {
     "checksum": "e876a35539886aba880db7cdb0c9fe94",
     "grade": false,
     "grade_id": "cell-9491a872be5d2cd1",
     "locked": true,
     "schema_version": 1,
     "solution": false
    }
   },
   "source": [
    "### Q11. (3 points) Seed node comparison\n",
    "Apply the same comparison on the 5 seed node sets for the SI model with the function you implemented in question 10. Set the parameters `N=5`, `iterate=300`, `beta=0.1`.\n",
    "\n",
    "\n",
    "Create a single plot with 5 curves (one for each set of seed nodes) with iteration number on the x-axis and the number of currently infected nodes on the y-axis."
   ]
  },
  {
   "cell_type": "code",
   "execution_count": 21,
   "metadata": {
    "deletable": false,
    "nbgrader": {
     "checksum": "1e5ac77d46be35ac504421e4f17af1c4",
     "grade": true,
     "grade_id": "cell-571db480b8eea80c",
     "locked": false,
     "points": 0,
     "schema_version": 1,
     "solution": true
    }
   },
   "outputs": [
    {
     "data": {
      "image/png": "[encoded data removed]",
      "text/plain": [
       "<Figure size 432x288 with 1 Axes>"
      ]
     },
     "metadata": {
      "needs_background": "light"
     },
     "output_type": "display_data"
    }
   ],
   "source": [
    "random.seed(42)\n",
    "N=5\n",
    "I=300\n",
    "b = 0.1\n",
    "node_count_random = simulate_SI(G, importance_measure=None, iterate=I, n=N, beta=b)     # number of infected nodes in each iteration, init with randomly selected nodes\n",
    "node_count_deg = simulate_SI(G, importance_measure=nx.degree_centrality, iterate=I, n=N, beta=b)        # number of infected nodes in each iteration, init with nodes of highest degree\n",
    "node_count_closeness= simulate_SI(G, importance_measure=nx.closeness_centrality, iterate=I, n=N, beta=b)   # number of infected nodes in each iteration, init with nodes of highest closeness centrality\n",
    "node_count_betweenness = simulate_SI(G, importance_measure=nx.betweenness_centrality, iterate=I, n=N, beta=b)  # number of infected nodes in each iteration, init with nodes of highest betweenness centrality\n",
    "node_count_pagerank = simulate_SI(G, importance_measure=nx.pagerank, iterate=I, n=N, beta=b)   # number of infected nodes in each iteration, init with nodes of highest pagerank \n",
    "\n",
    "# YOUR CODE HERE\n",
    "\n",
    "data_tuples = list(zip(node_count_random,node_count_deg, node_count_closeness, node_count_betweenness, node_count_pagerank))\n",
    "\n",
    "df = pd.DataFrame(data_tuples, columns=['random','deg', 'close', 'between', 'pagerank'])\n",
    "\n",
    "df['iteration'] = np.arange(len(df))\n",
    "\n",
    "\n",
    "\n",
    "\n",
    "plt.plot(df['iteration'], df['random'], label = \"random\")\n",
    "plt.plot(df['iteration'], df['deg'], label = \"deg\")\n",
    "plt.plot(df['iteration'], df['close'], label = \"close\")\n",
    "plt.plot(df['iteration'], df['between'], label = \"between\")\n",
    "plt.plot(df['iteration'], df['pagerank'], label = \"pagerank\")\n",
    "plt.xlabel(\"iteration\")\n",
    "plt.ylabel(\"number of infected nodes\")\n",
    "plt.legend(loc=\"lower right\")\n",
    "plt.show()\n",
    "\n",
    "\n"
   ]
  },
  {
   "cell_type": "markdown",
   "metadata": {
    "deletable": false,
    "editable": false,
    "nbgrader": {
     "checksum": "cbc7ce4b3699b7b9e4b1099413624c2e",
     "grade": false,
     "grade_id": "cell-62d5e202c0047bdd",
     "locked": true,
     "schema_version": 1,
     "solution": false
    }
   },
   "source": [
    "### Q12. (5 points) SIR model\n",
    "\n",
    "The [SIR model](https://ndlib.readthedocs.io/en/latest/reference/models/epidemics/SIR.html) has one more state than the SI model:\n",
    "\n",
    "|Name\t|Code\n",
    "|---|---\n",
    "|Susceptible\t|0\n",
    "|Infected\t|1\n",
    "|Removed\t|2\n",
    "\n",
    "And in addition to `beta`, it has an additional `gamma` parameter which indicates removal probability. Complete the following function with the given signature, so that it simulates a diffusion process with a SIR model and returns a list of the number of currently infected nodes and the cumulative number of infected nodes at each iteration. \n",
    "\n",
    "#### Notice\n",
    "For the SIR model, since it has an additional recovery stage, the numer of infected nodes can decrease. Therefore, the function `simulate_SIR` will return two lists: one is the same as before --- the number of currently infected nodes. The other one (`total_infected_nodes`) is the total number of nodes that have been infected at least once across all iterations, whether or not they have recovered. "
   ]
  },
  {
   "cell_type": "code",
   "execution_count": 22,
   "metadata": {
    "deletable": false,
    "nbgrader": {
     "checksum": "7dafd2163f697994abda14a6b14108f5",
     "grade": true,
     "grade_id": "cell-53233e9260876d89",
     "locked": false,
     "points": 0,
     "schema_version": 1,
     "solution": true
    }
   },
   "outputs": [],
   "source": [
    "def simulate_SIR(G, importance_measure=None, iterate=100, n=1, beta=0.1, gamma=0.05):\n",
    "    # write your code for model configuration here\n",
    "    # Model Configuration\n",
    "    ###\n",
    "    random.seed(42)\n",
    "    model = ep.SIRModel(G)\n",
    "    config = mc.Configuration()\n",
    "    config.add_model_parameter(\"beta\", beta)\n",
    "    config.add_model_parameter(\"gamma\", gamma)\n",
    "    fraction = float(n)/len(G.nodes) \n",
    "    \n",
    "    if importance_measure:\n",
    "        # select seed nodes\n",
    "        sorted_node = sorted(importance_measure(G).items(), key=operator.itemgetter(1))[::-1]\n",
    "        highest_nodes = [n for n, _ in sorted_node[:n]]\n",
    "        config.add_model_initial_configuration(\"Infected\", highest_nodes)\n",
    "    \n",
    "        model.set_initial_status(config)\n",
    "    \n",
    "    elif importance_measure==None:\n",
    "   \n",
    "        config.add_model_parameter(\"fraction_infected\", fraction)\n",
    "        \n",
    "        model.set_initial_status(config)\n",
    "\n",
    "\n",
    "    # Simulation execution\n",
    "    iterations = model.iteration_bunch(iterate)\n",
    "    \n",
    "    total_infected_nodes = [0] * iterate\n",
    "    # write your code for computing total number of infected nodes here\n",
    "    ###\n",
    "    total_infected_nodes = [(it['node_count'][1] + it['node_count'][2]) for it in iterations]\n",
    "    ###\n",
    "\n",
    "    return [it['node_count'][1] for it in iterations], total_infected_nodes"
   ]
  },
  {
   "cell_type": "markdown",
   "metadata": {
    "deletable": false,
    "editable": false,
    "nbgrader": {
     "checksum": "c0ea19fde9dc8e9cd599a95a09b0302b",
     "grade": false,
     "grade_id": "cell-bfda0e922d0f4958",
     "locked": true,
     "schema_version": 1,
     "solution": false
    }
   },
   "source": [
    "### Q13. (6 points) Seed node comparison\n",
    "\n",
    "Apply the same comparison on the 5 seed node sets for the SIR model with the function you implemented in question 12. Set the parameters `N=25`, `iterate=300`, `beta=0.1`, `gamma=0.05`.\n",
    "\n",
    "(a) Create a single plot with 5 curves (one for each set of seed nodes) with iteration number on the x-axis and the number of currently infected nodes on the y-axis.\n",
    "\n",
    "(b) Create a single plot with 5 curves (one for each set of seed nodes) with iteration number on the x-axis and the total number of nodes that have ever been infected up to the current iteration on the y-axis."
   ]
  },
  {
   "cell_type": "code",
   "execution_count": 23,
   "metadata": {
    "deletable": false,
    "nbgrader": {
     "checksum": "032d200657a5e0f9ee3cb34a719cef05",
     "grade": true,
     "grade_id": "cell-4e615051d883fdfb",
     "locked": false,
     "points": 0,
     "schema_version": 1,
     "solution": true
    }
   },
   "outputs": [
    {
     "data": {
      "image/png": "[encoded data removed]",
      "text/plain": [
       "<Figure size 432x288 with 1 Axes>"
      ]
     },
     "metadata": {
      "needs_background": "light"
     },
     "output_type": "display_data"
    }
   ],
   "source": [
    "N=25\n",
    "I=300\n",
    "b = 0.1\n",
    "g = 0.05\n",
    "\n",
    "node_count_random = simulate_SIR(G, importance_measure=None, iterate=I, n=N, beta=b, gamma=g)[0]     # number of infected nodes in each iteration, init with randomly selected nodes\n",
    "node_count_deg = simulate_SIR(G, importance_measure=nx.degree_centrality, iterate=I, n=N, beta=b, gamma=g)[0]         # number of infected nodes in each iteration, init with nodes of highest degree\n",
    "node_count_closeness= simulate_SIR(G, importance_measure=nx.closeness_centrality, iterate=I, n=N, beta=b, gamma=g)[0]    # number of infected nodes in each iteration, init with nodes of highest closeness centrality\n",
    "node_count_betweenness = simulate_SIR(G, importance_measure=nx.betweenness_centrality, iterate=I, n=N, beta=b, gamma=g)[0]  # number of infected nodes in each iteration, init with nodes of highest betweenness centrality\n",
    "node_count_pagerank = simulate_SIR(G, importance_measure=nx.pagerank, iterate=I, n=N, beta=b, gamma=g)[0]    # number of infected nodes in each iteration, init with nodes of highest pagerank \n",
    "\n",
    "# YOUR CODE HERE\n",
    "data_tuples = list(zip(node_count_random,node_count_deg, node_count_closeness, node_count_betweenness, node_count_pagerank))\n",
    "\n",
    "df = pd.DataFrame(data_tuples, columns=['random','deg', 'close', 'between', 'pagerank'])\n",
    "\n",
    "df['iteration'] = np.arange(len(df))\n",
    "\n",
    "\n",
    "\n",
    "\n",
    "plt.plot(df['iteration'], df['random'], label = \"random\")\n",
    "plt.plot(df['iteration'], df['deg'], label = \"deg\")\n",
    "plt.plot(df['iteration'], df['close'], label = \"close\")\n",
    "plt.plot(df['iteration'], df['between'], label = \"between\")\n",
    "plt.plot(df['iteration'], df['pagerank'], label = \"pagerank\")\n",
    "plt.xlabel(\"iteration\")\n",
    "plt.ylabel(\"number of currently infected nodes\")\n",
    "plt.legend(loc=\"lower right\")\n",
    "plt.show()\n",
    "\n"
   ]
  },
  {
   "cell_type": "code",
   "execution_count": 24,
   "metadata": {},
   "outputs": [
    {
     "data": {
      "image/png": "[encoded data removed]",
      "text/plain": [
       "<Figure size 432x288 with 1 Axes>"
      ]
     },
     "metadata": {
      "needs_background": "light"
     },
     "output_type": "display_data"
    }
   ],
   "source": [
    "node_count_random = simulate_SIR(G, importance_measure=None, iterate=I, n=N, beta=b, gamma=g)[1]     # number of infected nodes in each iteration, init with randomly selected nodes\n",
    "node_count_deg = simulate_SIR(G, importance_measure=nx.degree_centrality, iterate=I, n=N, beta=b, gamma=g)[1]         # number of infected nodes in each iteration, init with nodes of highest degree\n",
    "node_count_closeness= simulate_SIR(G, importance_measure=nx.closeness_centrality, iterate=I, n=N, beta=b, gamma=g)[1]    # number of infected nodes in each iteration, init with nodes of highest closeness centrality\n",
    "node_count_betweenness = simulate_SIR(G, importance_measure=nx.betweenness_centrality, iterate=I, n=N, beta=b, gamma=g)[1]  # number of infected nodes in each iteration, init with nodes of highest betweenness centrality\n",
    "node_count_pagerank = simulate_SIR(G, importance_measure=nx.pagerank, iterate=I, n=N, beta=b, gamma=g)[1]    # number of infected nodes in each iteration, init with nodes of highest pagerank \n",
    "\n",
    "# YOUR CODE HERE\n",
    "data_tuples = list(zip(node_count_random,node_count_deg, node_count_closeness, node_count_betweenness, node_count_pagerank))\n",
    "\n",
    "df = pd.DataFrame(data_tuples, columns=['random','deg', 'close', 'between', 'pagerank'])\n",
    "\n",
    "df['iteration'] = np.arange(len(df))\n",
    "\n",
    "\n",
    "\n",
    "\n",
    "plt.plot(df['iteration'], df['random'], label = \"random\")\n",
    "plt.plot(df['iteration'], df['deg'], label = \"deg\")\n",
    "plt.plot(df['iteration'], df['close'], label = \"close\")\n",
    "plt.plot(df['iteration'], df['between'], label = \"between\")\n",
    "plt.plot(df['iteration'], df['pagerank'], label = \"pagerank\")\n",
    "plt.xlabel(\"iteration\")\n",
    "plt.ylabel(\"number of total infected nodes\")\n",
    "plt.legend(loc=\"lower right\")\n",
    "plt.show()\n"
   ]
  },
  {
   "cell_type": "markdown",
   "metadata": {
    "deletable": false,
    "editable": false,
    "nbgrader": {
     "checksum": "cabdef3184a7560de455e1a63068c752",
     "grade": false,
     "grade_id": "cell-9e940c69098f3676",
     "locked": true,
     "schema_version": 1,
     "solution": false
    }
   },
   "source": [
    "### Q14. (5 points) SIS model\n",
    "\n",
    "The [SIS model](https://ndlib.readthedocs.io/en/latest/reference/models/epidemics/SIS.html) has two states: susceptible and infected:\n",
    "\n",
    "|Name\t|Code\n",
    "|---|---\n",
    "|Susceptible\t|0\n",
    "|Infected\t|1\n",
    "\n",
    "And in addition to `beta`, it has an additional `lambda` parameter which indicates the probability of an infected node transferring back to the susceptible state. Complete the following function with the given signature, so that it simulates a diffusion process with an SIS model and returns a list of infected number in each iteration.\n",
    "\n",
    "#### Notice\n",
    "`lambda` is a reserved keyword in Python, so we use `_lambda` instead in the function argument."
   ]
  },
  {
   "cell_type": "code",
   "execution_count": 25,
   "metadata": {
    "deletable": false,
    "nbgrader": {
     "checksum": "3931452b4b50e6ccd9485f7c2444bf38",
     "grade": true,
     "grade_id": "cell-0f86f422edb43776",
     "locked": false,
     "points": 0,
     "schema_version": 1,
     "solution": true
    }
   },
   "outputs": [],
   "source": [
    "def simulate_SIS(G, importance_measure=None, iterate=100, n=1, beta=0.1, _lambda=0.05):\n",
    "    \n",
    "    model = ep.SISModel(G)\n",
    "    config = mc.Configuration()\n",
    "    fraction = float(n)/len(G.nodes) \n",
    "    config.add_model_parameter('beta', beta)\n",
    "    config.add_model_parameter('lambda', _lambda)\n",
    "    \n",
    "    \n",
    "    if importance_measure:\n",
    "        # select seed nodes\n",
    "        sorted_node = sorted(importance_measure(G).items(), key=operator.itemgetter(1))[::-1]\n",
    "        highest_nodes = [n for n, _ in sorted_node[:n]]\n",
    "        config.add_model_initial_configuration(\"Infected\", highest_nodes)\n",
    "        model.set_initial_status(config)\n",
    " \n",
    "\n",
    "    elif importance_measure == None:\n",
    "        config.add_model_parameter(\"fraction_infected\", fraction)\n",
    "        \n",
    "        model.set_initial_status(config)\n",
    "    \n",
    "    \n",
    "    \n",
    "    \n",
    "    \n",
    "    \n",
    "    \n",
    "\n",
    "    # Simulation execution\n",
    "    iterations = model.iteration_bunch(iterate)\n",
    "    return [it['node_count'][1] for it in iterations]"
   ]
  },
  {
   "cell_type": "markdown",
   "metadata": {
    "deletable": false,
    "editable": false,
    "nbgrader": {
     "checksum": "bedf409c9a19039482c8224d4062505b",
     "grade": false,
     "grade_id": "cell-ff9083ab8fbfc2c7",
     "locked": true,
     "schema_version": 1,
     "solution": false
    }
   },
   "source": [
    "### Q15. (3 points) Seed node comparison\n",
    "\n",
    "Apply the same comparison on the 5 seed node sets for the SIS model with the function you implemented in question 14. \n",
    "\n",
    "Set parameters `N=5`, `iterate=700`, `beta=0.1`, `lambda=0.05`.\n",
    "\n",
    "Create a single plot with 5 curves (one for each set of seed nodes) with iteration number on the x-axis and the number of currently infected nodes on the y-axis."
   ]
  },
  {
   "cell_type": "code",
   "execution_count": 26,
   "metadata": {
    "deletable": false,
    "nbgrader": {
     "checksum": "b669440abc2208339160692b5c3270cd",
     "grade": true,
     "grade_id": "cell-718ca1be21365ee0",
     "locked": false,
     "points": 0,
     "schema_version": 1,
     "solution": true
    }
   },
   "outputs": [
    {
     "data": {
      "image/png": "[encoded data removed]",
      "text/plain": [
       "<Figure size 432x288 with 1 Axes>"
      ]
     },
     "metadata": {
      "needs_background": "light"
     },
     "output_type": "display_data"
    }
   ],
   "source": [
    "N=5\n",
    "I=700\n",
    "b = 0.1\n",
    "l = 0.05\n",
    "\n",
    "node_count_random = simulate_SIS(G, importance_measure=None, iterate=I, n=N, beta=b, _lambda=l)     # number of infected nodes in each iteration, init with randomly selected nodes\n",
    "node_count_deg = simulate_SIS(G, importance_measure=nx.degree_centrality, iterate=I, n=N, beta=b, _lambda=l)        # number of infected nodes in each iteration, init with nodes of highest degree\n",
    "node_count_closeness= simulate_SIS(G, importance_measure=nx.closeness_centrality, iterate=I, n=N, beta=b, _lambda=l)  # number of infected nodes in each iteration, init with nodes of highest closeness centrality\n",
    "node_count_betweenness = simulate_SIS(G, importance_measure=nx.betweenness_centrality, iterate=I, n=N, beta=b, _lambda=l)  # number of infected nodes in each iteration, init with nodes of highest betweenness centrality\n",
    "node_count_pagerank = simulate_SIS(G, importance_measure=nx.pagerank, iterate=I, n=N, beta=b, _lambda=l)   # number of infected nodes in each iteration, init with nodes of highest pagerank \n",
    "\n",
    "# YOUR CODE HERE\n",
    "data_tuples = list(zip(node_count_random,node_count_deg, node_count_closeness, node_count_betweenness, node_count_pagerank))\n",
    "\n",
    "df = pd.DataFrame(data_tuples, columns=['random','deg', 'close', 'between', 'pagerank'])\n",
    "\n",
    "df['iteration'] = np.arange(len(df))\n",
    "\n",
    "\n",
    "\n",
    "\n",
    "plt.plot(df['iteration'], df['random'], label = \"random\")\n",
    "plt.plot(df['iteration'], df['deg'], label = \"deg\")\n",
    "plt.plot(df['iteration'], df['close'], label = \"close\")\n",
    "plt.plot(df['iteration'], df['between'], label = \"between\")\n",
    "plt.plot(df['iteration'], df['pagerank'], label = \"pagerank\")\n",
    "plt.xlabel(\"iteration\")\n",
    "plt.ylabel(\"number of infected nodes\")\n",
    "plt.legend(loc=\"lower right\")\n",
    "plt.show()\n"
   ]
  },
  {
   "cell_type": "markdown",
   "metadata": {
    "deletable": false,
    "editable": false,
    "nbgrader": {
     "checksum": "02bc0f6a372bf9194344d5d87bb5540b",
     "grade": false,
     "grade_id": "cell-7be863c8ea1ba969",
     "locked": true,
     "schema_version": 1,
     "solution": false
    }
   },
   "source": [
    "### Q16. (5 points) SI, SIR, SIS\n",
    "\n",
    "Compare the plots of the number of currently infected nodes of the SI, SIR, and SIS models and answer the following questions with a written response. \n",
    "\n",
    "\n",
    "1. Which model is the first to converge? Why do you think this model converges first?\n",
    "2. Which model is the last to converge? Why do you think this model converges last?\n",
    "3. Which model has the largest final number of infected nodes? Why?\n",
    "4. Which model has the smallest final number of infected nodes? Why?\n",
    "5. Why does the SIS model fail to completely stabilize in terms of the number of infected nodes?"
   ]
  },
  {
   "cell_type": "markdown",
   "metadata": {
    "deletable": false,
    "nbgrader": {
     "checksum": "8920577204053f48549b1d8861cfed80",
     "grade": true,
     "grade_id": "cell-193eb93759f0077c",
     "locked": false,
     "points": 0,
     "schema_version": 1,
     "solution": true
    }
   },
   "source": [
    "1. The independent cascade model converges first for essentially every importance measure. With each iteration, each node only has one shot at infecting its neighbors, and cannot do so in subsequent iterations even if it fails. This means that it will typically run out of activations relatively quickly. \n",
    "\n",
    "2. The model that is the last to converge(excluding the SIS model which doesn't actually end up converging) is the SI model. This model likely converges last because the probability of a node being infected is entirely dependent on the variable beta, in the sense that all of the nodes will share that probability of infection(which is a somewhat unrealistic assumption). In this case, the probability of infection was set to 0.10, or 10%, which means that at any given iteration, the probability of a given node being infected is only 10%.\n",
    "\n",
    "3. The model with the largest final number of infected nodes is the SI model. This is likely the case because unlike the SIR or the SIS model, when a node is infected, it stays in the infected state forever. With the SIR model and SIS model, however, the state of a node can change from iteration to iteration(i.e. infected to susceptible or infected to removed.\n",
    "\n",
    "4. The model with the smallest final number of infected nodes is the independent cascade model. This is likely because activations run out relatively quickly, as aforementioned, so new nodes stop getting infected at a much earlier iteration.\n",
    "\n",
    "5. The SIS model fails to completely stabilize because, unlike the SIR model, nodes are never removed during any iteration, and only revert from infected to susceptible, which means that any given node has a chance of getting infected and subsequently recovering multiple times. This is why the lines never quite converge. However, it is possible that increasing the parameter lambda(probability of nodes becoming susceptible) would cause the lines to stabilize more quickly, as that would cause the nodes to linger in the infected state for a shorter period of time. If probability of infection remains constant, then increasing the probability of a node becoming susceptible will cause the lines to converge more quickly."
   ]
  },
  {
   "cell_type": "markdown",
   "metadata": {
    "deletable": false,
    "editable": false,
    "nbgrader": {
     "checksum": "2588769108235dcf571fb3a53f89cae3",
     "grade": false,
     "grade_id": "cell-2e2ac4c4c5194bb7",
     "locked": true,
     "schema_version": 1,
     "solution": false
    }
   },
   "source": [
    "---\n",
    "## Part 2. Alternate threshold model\n",
    "\n",
    "In this part, you are going to make some modifications to the threshold model to create a new model and compare it with the original version.\n",
    "\n",
    "### Q17.  (10 points) The Volatile Threshold model class\n",
    "\n",
    "In the below cell, an incomplete class `VolatileThreshold` is provided. The diffusion rule for the volatile threshold model is the following:\n",
    "\n",
    "> In each iteration, only a random subset of `n` neighbors for each node `v` is evaluated. If the ratio of infection is ***at or above*** the threshold of `v` *within the subset*, then node `v` will become infected. A parameter `sample` determines the number of neighbors to sample. \n",
    "\n",
    "Based on this specification of the model, complete the `iteration` method. Please do not make any changes to the rest of the class. \n",
    "\n",
    "--- \n",
    "#### Notes\n",
    "\n",
    "1. If the sample size is ***larger*** than the number of neighbors a node has, just take all its neighbors as a sample.\n",
    "2. You can use the function `random.sample(original_data, sample_size)` to get a sample of size `sample_size` from collection `original_data`.\n",
    "3. `class` object: in this part, we introduce a class object to construct our `VolatileThreshold` model. In Python, each class maintains its member attributes and methods with the `self` keyword. For example, `self.G`, `self.config` are simply `G` and `config` and belong to a specific instance of this class. You can see more in this [tutorial](https://www.w3schools.com/python/python_classes.asp)."
   ]
  },
  {
   "cell_type": "code",
   "execution_count": 27,
   "metadata": {
    "deletable": false,
    "nbgrader": {
     "checksum": "3598e649b6477269cf5b49745262fc8f",
     "grade": true,
     "grade_id": "cell-7907648e74466435",
     "locked": false,
     "points": 0,
     "schema_version": 1,
     "solution": true
    }
   },
   "outputs": [],
   "source": [
    "from tqdm import tqdm\n",
    "class VolatileThreshold:\n",
    "    def __init__(self, graph):\n",
    "        self.G = graph\n",
    "        self.config = None\n",
    "        self.status = {n: 0 for n in graph.nodes}\n",
    "        self.threshold = {n: 0 for n in graph.nodes}\n",
    "        self.num_sample = 0  # since the graph is connected\n",
    "        self.N = len(graph.nodes)\n",
    "        \n",
    "    def set_initial_status(self, config):\n",
    "        self.config = config\n",
    "        # set threshold\n",
    "        thred = config.__dict__['config']['nodes']['threshold']\n",
    "        for n in self.G.nodes:\n",
    "            self.threshold[n] = thred[n]\n",
    "        # set number of samples\n",
    "        self.num_sample = config.__dict__['config']['model']['num_sample']\n",
    "        # set seed nodes\n",
    "        if 'fraction_infected' in config.__dict__['config']['model']:\n",
    "                seed_nodes = random.sample(\n",
    "                    self.G.nodes(), int(config.__dict__['config']['model']['fraction_infected'] * len(self.G.nodes())))\n",
    "        else:\n",
    "            seed_nodes = config.__dict__['config']['status']['Infected']\n",
    "        for n in seed_nodes:\n",
    "            self.status[n] = 1\n",
    "    \n",
    "    def iteration(self):\n",
    "        num_infected_nodes_total = 0  # number of infected node (with status 1)\n",
    "        tmp = {n: self.status[n] for n in self.G.nodes}\n",
    "        for n in self.G.nodes:\n",
    "            if self.status[n] == 0:\n",
    "                \n",
    "                num_infected_nodes_in_sample = 0 # initiate a counter for n's infected neighbors\n",
    "                \n",
    "                neighbors = list(self.G.neighbors(n))\n",
    "                if len(neighbors) > self.num_sample:\n",
    "                    # get a sample of n's neighbors neighbors of size self.num_sample\n",
    "                    # YOUR CODE HERE\n",
    "                    sampled_neighbors = random.sample(neighbors, self.num_sample)\n",
    "                else:\n",
    "                    sampled_neighbors = neighbors\n",
    "                \n",
    "                # count the number of infected neighbors in the sampled neighbors using the statuses stored in tmp\n",
    "                # YOUR CODE HERE\n",
    "                for node in sampled_neighbors:\n",
    "                    if tmp[node] == 1:\n",
    "                        num_infected_nodes_in_sample +=1\n",
    "                \n",
    "                # compute the ratio of infected nodes in the sampled neighbors\n",
    "                # YOUR CODE HERE\n",
    "                ratio = num_infected_nodes_in_sample / len(sampled_neighbors)\n",
    "                \n",
    "                # if the ratio is AT OR ABOVE n's threshold (self.threshold[n]), the node becomes infected. \n",
    "                # in this case, update self.status[n] to 1 and increase the count of total infected nodes by 1\n",
    "                # YOUR CODE HERE\n",
    "                if ratio >= self.threshold[n]:\n",
    "                    self.status[n] = 1\n",
    "                    num_infected_nodes_total +=1\n",
    "            else:\n",
    "                num_infected_nodes_total += 1\n",
    "        return num_infected_nodes_total\n",
    "    \n",
    "    \n",
    "    \n",
    "    def iteration_bunch(self, bunch_size):\n",
    "        results = []\n",
    "        num_infected_nodes_total = 0\n",
    "        for n in self.G.nodes:\n",
    "            num_infected_nodes_total += self.status[n]\n",
    "        results.append({0: self.N - num_infected_nodes_total, 1: num_infected_nodes_total})\n",
    "        for i in tqdm(range(bunch_size)):\n",
    "            num_infected_nodes_total = self.iteration()\n",
    "            results.append({0: self.N - num_infected_nodes_total, 1: num_infected_nodes_total})\n",
    "        return results"
   ]
  },
  {
   "cell_type": "markdown",
   "metadata": {
    "deletable": false,
    "editable": false,
    "nbgrader": {
     "checksum": "db0e9eaf05e6de308fe508299fa12aa9",
     "grade": false,
     "grade_id": "cell-7c2e84c404c34b94",
     "locked": true,
     "schema_version": 1,
     "solution": false
    }
   },
   "source": [
    "### Q18. (7 points) Seed nodes comparison\n",
    "\n",
    "Complete the following function with the given signature, so that it simulates a diffusion process with the volatile threshold model and returns a list of infected number in each iteration."
   ]
  },
  {
   "cell_type": "code",
   "execution_count": 28,
   "metadata": {
    "deletable": false,
    "nbgrader": {
     "checksum": "451d1725fe7b80aa375cbddfb0675bac",
     "grade": false,
     "grade_id": "cell-315f4d6ef167aeff",
     "locked": false,
     "schema_version": 1,
     "solution": true
    }
   },
   "outputs": [],
   "source": [
    "def simulate_volatile(G, importance_measure=None, iterate=100, n=1, threshold=0.5, sample=5):\n",
    "    \n",
    "    # Model selection\n",
    "    model = VolatileThreshold(G)\n",
    "    random.seed(0)   \n",
    "    config = mc.Configuration()\n",
    "    fraction = float(n)/len(G.nodes) \n",
    "\n",
    "    \n",
    "    \n",
    "    if importance_measure:\n",
    "        # select seed nodes\n",
    "        sorted_node = sorted(importance_measure(G).items(), key=operator.itemgetter(1))[::-1]\n",
    "        highest_nodes = [n for n, _ in sorted_node[:n]]\n",
    "        config.add_model_initial_configuration(\"Infected\", highest_nodes)\n",
    "        \n",
    "        \n",
    "    elif importance_measure == None:\n",
    "        # select seed nodes\n",
    "        config.add_model_parameter('fraction_infected', fraction)\n",
    "        \n",
    "    for i in G.nodes():\n",
    "        config.add_node_configuration(\"threshold\", i, threshold)\n",
    "    \n",
    "    config.add_model_parameter('num_sample', sample)\n",
    "\n",
    "    model.set_initial_status(config)\n",
    "\n",
    "\n",
    "    # YOUR CODE HERE\n",
    "    \n",
    "\n",
    "    # Simulation execution\n",
    "    iterations = model.iteration_bunch(iterate)\n",
    "    return [it[1] for it in iterations]  "
   ]
  },
  {
   "cell_type": "code",
   "execution_count": 29,
   "metadata": {},
   "outputs": [],
   "source": [
    "# F = simulate_volatile(G, importance_measure=None, iterate=100, n=1, threshold=0.5, sample=5)\n",
    "# F"
   ]
  },
  {
   "cell_type": "code",
   "execution_count": 30,
   "metadata": {
    "deletable": false,
    "editable": false,
    "nbgrader": {
     "checksum": "c37679d01bef68a863aa5334af71bb18",
     "grade": true,
     "grade_id": "cell-00edec253cff01fc",
     "locked": true,
     "points": 7,
     "schema_version": 1,
     "solution": false
    }
   },
   "outputs": [],
   "source": [
    "#hidden tests for Question 18 are within this cell"
   ]
  },
  {
   "cell_type": "markdown",
   "metadata": {
    "deletable": false,
    "editable": false,
    "nbgrader": {
     "checksum": "af5beea39409927769ce3c0e6e42b078",
     "grade": false,
     "grade_id": "cell-bee3287b0510fd1b",
     "locked": true,
     "schema_version": 1,
     "solution": false
    }
   },
   "source": [
    "### Q19. (12 points) Using parameters `I=100`, `N=10`, `T=0.5`, create a plot of the diffusion process when the sample size $S = [1, 2, 3, 4, 5,100]$, one in each cell. As we have done in previous questions, pick the seed nodes using the 5 different strategies: random, degree, closeness, betweenness, pagerank. "
   ]
  },
  {
   "cell_type": "code",
   "execution_count": 31,
   "metadata": {
    "deletable": false,
    "nbgrader": {
     "checksum": "1de39e96d6f90aff9b32962d8c77ddb9",
     "grade": true,
     "grade_id": "cell-1408762b6e84c5f9",
     "locked": false,
     "points": 0,
     "schema_version": 1,
     "solution": true
    }
   },
   "outputs": [
    {
     "name": "stderr",
     "output_type": "stream",
     "text": [
      "100%|██████████| 100/100 [00:00<00:00, 909.17it/s]\n",
      "100%|██████████| 100/100 [00:00<00:00, 1275.78it/s]\n",
      "100%|██████████| 100/100 [00:00<00:00, 920.82it/s]\n",
      "100%|██████████| 100/100 [00:00<00:00, 1196.54it/s]\n",
      "100%|██████████| 100/100 [00:00<00:00, 1120.58it/s]\n"
     ]
    },
    {
     "data": {
      "image/png": "[encoded data removed]",
      "text/plain": [
       "<Figure size 432x288 with 1 Axes>"
      ]
     },
     "metadata": {
      "needs_background": "light"
     },
     "output_type": "display_data"
    }
   ],
   "source": [
    "I=100\n",
    "N=10\n",
    "T = 0.5\n",
    "S = 1\n",
    "\n",
    "node_count_random = simulate_volatile(G, importance_measure=None, iterate=I, n=N, threshold=T, sample=S)    # number of infected nodes in each iteration, init with randomly selected nodes\n",
    "node_count_deg = simulate_volatile(G, importance_measure=nx.degree_centrality, iterate=I, n=N, threshold=T, sample=S)        # number of infected nodes in each iteration, init with nodes of highest degree\n",
    "node_count_closeness= simulate_volatile(G, importance_measure=nx.closeness_centrality, iterate=I, n=N, threshold=T, sample=S)  # number of infected nodes in each iteration, init with nodes of highest closeness centrality\n",
    "node_count_betweenness = simulate_volatile(G, importance_measure=nx.betweenness_centrality, iterate=I, n=N, threshold=T, sample=S)  # number of infected nodes in each iteration, init with nodes of highest betweenness centrality\n",
    "node_count_pagerank = simulate_volatile(G, importance_measure=nx.pagerank, iterate=I, n=N, threshold=T, sample=S)   # number of infected nodes in each iteration, init with nodes of highest pagerank \n",
    "\n",
    "# YOUR CODE HERE\n",
    "data_tuples = list(zip(node_count_random,node_count_deg, node_count_closeness, node_count_betweenness, node_count_pagerank))\n",
    "\n",
    "df = pd.DataFrame(data_tuples, columns=['random','deg', 'close', 'between', 'pagerank'])\n",
    "\n",
    "df['iteration'] = np.arange(len(df))\n",
    "\n",
    "\n",
    "\n",
    "\n",
    "plt.plot(df['iteration'], df['random'], label = \"random\")\n",
    "plt.plot(df['iteration'], df['deg'], label = \"deg\")\n",
    "plt.plot(df['iteration'], df['close'], label = \"close\")\n",
    "plt.plot(df['iteration'], df['between'], label = \"between\")\n",
    "plt.plot(df['iteration'], df['pagerank'], label = \"pagerank\")\n",
    "plt.xlabel(\"iteration\")\n",
    "plt.ylabel(\"number of infected nodes\")\n",
    "plt.legend(loc=\"lower right\")\n",
    "plt.show()\n",
    "\n"
   ]
  },
  {
   "cell_type": "code",
   "execution_count": 32,
   "metadata": {
    "deletable": false,
    "nbgrader": {
     "checksum": "5e5b9ccd40900c10e10da63ffb98e6c5",
     "grade": true,
     "grade_id": "cell-465bf288f3efc1df",
     "locked": false,
     "points": 0,
     "schema_version": 1,
     "solution": true
    }
   },
   "outputs": [
    {
     "name": "stderr",
     "output_type": "stream",
     "text": [
      "100%|██████████| 100/100 [00:00<00:00, 2564.48it/s]\n",
      "100%|██████████| 100/100 [00:00<00:00, 2941.16it/s]\n",
      "100%|██████████| 100/100 [00:00<00:00, 2543.56it/s]\n",
      "100%|██████████| 100/100 [00:00<00:00, 2843.31it/s]\n",
      "100%|██████████| 100/100 [00:00<00:00, 2997.97it/s]\n"
     ]
    },
    {
     "data": {
      "image/png": "[encoded data removed]",
      "text/plain": [
       "<Figure size 432x288 with 1 Axes>"
      ]
     },
     "metadata": {
      "needs_background": "light"
     },
     "output_type": "display_data"
    }
   ],
   "source": [
    "I=100\n",
    "N=10\n",
    "T = 0.5\n",
    "S = 2\n",
    "\n",
    "node_count_random = simulate_volatile(G, importance_measure=None, iterate=I, n=N, threshold=T, sample=S)    # number of infected nodes in each iteration, init with randomly selected nodes\n",
    "node_count_deg = simulate_volatile(G, importance_measure=nx.degree_centrality, iterate=I, n=N, threshold=T, sample=S)        # number of infected nodes in each iteration, init with nodes of highest degree\n",
    "node_count_closeness= simulate_volatile(G, importance_measure=nx.closeness_centrality, iterate=I, n=N, threshold=T, sample=S)  # number of infected nodes in each iteration, init with nodes of highest closeness centrality\n",
    "node_count_betweenness = simulate_volatile(G, importance_measure=nx.betweenness_centrality, iterate=I, n=N, threshold=T, sample=S)  # number of infected nodes in each iteration, init with nodes of highest betweenness centrality\n",
    "node_count_pagerank = simulate_volatile(G, importance_measure=nx.pagerank, iterate=I, n=N, threshold=T, sample=S)   # number of infected nodes in each iteration, init with nodes of highest pagerank \n",
    "\n",
    "# YOUR CODE HERE\n",
    "data_tuples = list(zip(node_count_random,node_count_deg, node_count_closeness, node_count_betweenness, node_count_pagerank))\n",
    "\n",
    "df = pd.DataFrame(data_tuples, columns=['random','deg', 'close', 'between', 'pagerank'])\n",
    "\n",
    "df['iteration'] = np.arange(len(df))\n",
    "\n",
    "\n",
    "\n",
    "\n",
    "plt.plot(df['iteration'], df['random'], label = \"random\")\n",
    "plt.plot(df['iteration'], df['deg'], label = \"deg\")\n",
    "plt.plot(df['iteration'], df['close'], label = \"close\")\n",
    "plt.plot(df['iteration'], df['between'], label = \"between\")\n",
    "plt.plot(df['iteration'], df['pagerank'], label = \"pagerank\")\n",
    "plt.xlabel(\"iteration\")\n",
    "plt.ylabel(\"number of infected nodes\")\n",
    "plt.legend(loc=\"lower right\")\n",
    "plt.show()"
   ]
  },
  {
   "cell_type": "code",
   "execution_count": 33,
   "metadata": {
    "deletable": false,
    "nbgrader": {
     "checksum": "076c96b5cca2c502309cf4d021895886",
     "grade": true,
     "grade_id": "cell-97f590224d5a3d56",
     "locked": false,
     "points": 0,
     "schema_version": 1,
     "solution": true
    }
   },
   "outputs": [
    {
     "name": "stderr",
     "output_type": "stream",
     "text": [
      "100%|██████████| 100/100 [00:00<00:00, 667.66it/s]\n",
      "100%|██████████| 100/100 [00:00<00:00, 1078.04it/s]\n",
      "100%|██████████| 100/100 [00:00<00:00, 737.44it/s]\n",
      "100%|██████████| 100/100 [00:00<00:00, 881.51it/s]\n",
      "100%|██████████| 100/100 [00:00<00:00, 1100.48it/s]\n"
     ]
    },
    {
     "data": {
      "image/png": "[encoded data removed]",
      "text/plain": [
       "<Figure size 432x288 with 1 Axes>"
      ]
     },
     "metadata": {
      "needs_background": "light"
     },
     "output_type": "display_data"
    }
   ],
   "source": [
    "I=100\n",
    "N=10\n",
    "T = 0.5\n",
    "S = 3\n",
    "\n",
    "node_count_random = simulate_volatile(G, importance_measure=None, iterate=I, n=N, threshold=T, sample=S)    # number of infected nodes in each iteration, init with randomly selected nodes\n",
    "node_count_deg = simulate_volatile(G, importance_measure=nx.degree_centrality, iterate=I, n=N, threshold=T, sample=S)        # number of infected nodes in each iteration, init with nodes of highest degree\n",
    "node_count_closeness= simulate_volatile(G, importance_measure=nx.closeness_centrality, iterate=I, n=N, threshold=T, sample=S)  # number of infected nodes in each iteration, init with nodes of highest closeness centrality\n",
    "node_count_betweenness = simulate_volatile(G, importance_measure=nx.betweenness_centrality, iterate=I, n=N, threshold=T, sample=S)  # number of infected nodes in each iteration, init with nodes of highest betweenness centrality\n",
    "node_count_pagerank = simulate_volatile(G, importance_measure=nx.pagerank, iterate=I, n=N, threshold=T, sample=S)   # number of infected nodes in each iteration, init with nodes of highest pagerank \n",
    "\n",
    "# YOUR CODE HERE\n",
    "data_tuples = list(zip(node_count_random,node_count_deg, node_count_closeness, node_count_betweenness, node_count_pagerank))\n",
    "\n",
    "df = pd.DataFrame(data_tuples, columns=['random','deg', 'close', 'between', 'pagerank'])\n",
    "\n",
    "df['iteration'] = np.arange(len(df))\n",
    "\n",
    "\n",
    "\n",
    "\n",
    "plt.plot(df['iteration'], df['random'], label = \"random\")\n",
    "plt.plot(df['iteration'], df['deg'], label = \"deg\")\n",
    "plt.plot(df['iteration'], df['close'], label = \"close\")\n",
    "plt.plot(df['iteration'], df['between'], label = \"between\")\n",
    "plt.plot(df['iteration'], df['pagerank'], label = \"pagerank\")\n",
    "plt.xlabel(\"iteration\")\n",
    "plt.ylabel(\"number of infected nodes\")\n",
    "plt.legend(loc=\"lower right\")\n",
    "plt.show()"
   ]
  },
  {
   "cell_type": "code",
   "execution_count": 34,
   "metadata": {
    "deletable": false,
    "nbgrader": {
     "checksum": "48f09e313fc7f47ba6ff9cb7f0f9e651",
     "grade": true,
     "grade_id": "cell-3a7f1a95e1ba3696",
     "locked": false,
     "points": 0,
     "schema_version": 1,
     "solution": true
    }
   },
   "outputs": [
    {
     "name": "stderr",
     "output_type": "stream",
     "text": [
      "100%|██████████| 100/100 [00:00<00:00, 753.43it/s]\n",
      "100%|██████████| 100/100 [00:00<00:00, 1245.20it/s]\n",
      "100%|██████████| 100/100 [00:00<00:00, 802.67it/s]\n",
      "100%|██████████| 100/100 [00:00<00:00, 1004.26it/s]\n",
      "100%|██████████| 100/100 [00:00<00:00, 1234.18it/s]\n"
     ]
    },
    {
     "data": {
      "image/png": "[encoded data removed]",
      "text/plain": [
       "<Figure size 432x288 with 1 Axes>"
      ]
     },
     "metadata": {
      "needs_background": "light"
     },
     "output_type": "display_data"
    }
   ],
   "source": [
    "I=100\n",
    "N=10\n",
    "T = 0.5\n",
    "S = 4\n",
    "\n",
    "node_count_random = simulate_volatile(G, importance_measure=None, iterate=I, n=N, threshold=T, sample=S)    # number of infected nodes in each iteration, init with randomly selected nodes\n",
    "node_count_deg = simulate_volatile(G, importance_measure=nx.degree_centrality, iterate=I, n=N, threshold=T, sample=S)        # number of infected nodes in each iteration, init with nodes of highest degree\n",
    "node_count_closeness= simulate_volatile(G, importance_measure=nx.closeness_centrality, iterate=I, n=N, threshold=T, sample=S)  # number of infected nodes in each iteration, init with nodes of highest closeness centrality\n",
    "node_count_betweenness = simulate_volatile(G, importance_measure=nx.betweenness_centrality, iterate=I, n=N, threshold=T, sample=S)  # number of infected nodes in each iteration, init with nodes of highest betweenness centrality\n",
    "node_count_pagerank = simulate_volatile(G, importance_measure=nx.pagerank, iterate=I, n=N, threshold=T, sample=S)   # number of infected nodes in each iteration, init with nodes of highest pagerank \n",
    "\n",
    "# YOUR CODE HERE\n",
    "data_tuples = list(zip(node_count_random,node_count_deg, node_count_closeness, node_count_betweenness, node_count_pagerank))\n",
    "\n",
    "df = pd.DataFrame(data_tuples, columns=['random','deg', 'close', 'between', 'pagerank'])\n",
    "\n",
    "df['iteration'] = np.arange(len(df))\n",
    "\n",
    "\n",
    "\n",
    "\n",
    "plt.plot(df['iteration'], df['random'], label = \"random\")\n",
    "plt.plot(df['iteration'], df['deg'], label = \"deg\")\n",
    "plt.plot(df['iteration'], df['close'], label = \"close\")\n",
    "plt.plot(df['iteration'], df['between'], label = \"between\")\n",
    "plt.plot(df['iteration'], df['pagerank'], label = \"pagerank\")\n",
    "plt.xlabel(\"iteration\")\n",
    "plt.ylabel(\"number of infected nodes\")\n",
    "plt.legend(loc=\"lower right\")\n",
    "plt.show()"
   ]
  },
  {
   "cell_type": "code",
   "execution_count": 35,
   "metadata": {
    "deletable": false,
    "nbgrader": {
     "checksum": "d8e20aacbc1e898b6e56474ee73fee77",
     "grade": true,
     "grade_id": "cell-023b7a23bda22ee5",
     "locked": false,
     "points": 0,
     "schema_version": 1,
     "solution": true
    }
   },
   "outputs": [
    {
     "name": "stderr",
     "output_type": "stream",
     "text": [
      "100%|██████████| 100/100 [00:00<00:00, 751.62it/s]\n",
      "100%|██████████| 100/100 [00:00<00:00, 992.53it/s]\n",
      "100%|██████████| 100/100 [00:00<00:00, 786.08it/s]\n",
      "100%|██████████| 100/100 [00:00<00:00, 880.49it/s]\n",
      "100%|██████████| 100/100 [00:00<00:00, 1027.53it/s]\n"
     ]
    },
    {
     "data": {
      "image/png": "[encoded data removed]",
      "text/plain": [
       "<Figure size 432x288 with 1 Axes>"
      ]
     },
     "metadata": {
      "needs_background": "light"
     },
     "output_type": "display_data"
    }
   ],
   "source": [
    "I=100\n",
    "N=10\n",
    "T = 0.5\n",
    "S = 5\n",
    "\n",
    "node_count_random = simulate_volatile(G, importance_measure=None, iterate=I, n=N, threshold=T, sample=S)    # number of infected nodes in each iteration, init with randomly selected nodes\n",
    "node_count_deg = simulate_volatile(G, importance_measure=nx.degree_centrality, iterate=I, n=N, threshold=T, sample=S)        # number of infected nodes in each iteration, init with nodes of highest degree\n",
    "node_count_closeness= simulate_volatile(G, importance_measure=nx.closeness_centrality, iterate=I, n=N, threshold=T, sample=S)  # number of infected nodes in each iteration, init with nodes of highest closeness centrality\n",
    "node_count_betweenness = simulate_volatile(G, importance_measure=nx.betweenness_centrality, iterate=I, n=N, threshold=T, sample=S)  # number of infected nodes in each iteration, init with nodes of highest betweenness centrality\n",
    "node_count_pagerank = simulate_volatile(G, importance_measure=nx.pagerank, iterate=I, n=N, threshold=T, sample=S)   # number of infected nodes in each iteration, init with nodes of highest pagerank \n",
    "\n",
    "# YOUR CODE HERE\n",
    "data_tuples = list(zip(node_count_random,node_count_deg, node_count_closeness, node_count_betweenness, node_count_pagerank))\n",
    "\n",
    "df = pd.DataFrame(data_tuples, columns=['random','deg', 'close', 'between', 'pagerank'])\n",
    "\n",
    "df['iteration'] = np.arange(len(df))\n",
    "\n",
    "\n",
    "\n",
    "\n",
    "plt.plot(df['iteration'], df['random'], label = \"random\")\n",
    "plt.plot(df['iteration'], df['deg'], label = \"deg\")\n",
    "plt.plot(df['iteration'], df['close'], label = \"close\")\n",
    "plt.plot(df['iteration'], df['between'], label = \"between\")\n",
    "plt.plot(df['iteration'], df['pagerank'], label = \"pagerank\")\n",
    "plt.xlabel(\"iteration\")\n",
    "plt.ylabel(\"number of infected nodes\")\n",
    "plt.legend(loc=\"lower right\")\n",
    "plt.show()"
   ]
  },
  {
   "cell_type": "code",
   "execution_count": 36,
   "metadata": {
    "deletable": false,
    "nbgrader": {
     "checksum": "9556cd06453c566fd12e13b8e3096214",
     "grade": true,
     "grade_id": "cell-68fe1985a928cf68",
     "locked": false,
     "points": 0,
     "schema_version": 1,
     "solution": true
    }
   },
   "outputs": [
    {
     "name": "stderr",
     "output_type": "stream",
     "text": [
      "100%|██████████| 100/100 [00:00<00:00, 826.21it/s]\n",
      "100%|██████████| 100/100 [00:00<00:00, 1058.34it/s]\n",
      "100%|██████████| 100/100 [00:00<00:00, 817.75it/s]\n",
      "100%|██████████| 100/100 [00:00<00:00, 968.97it/s]\n",
      "100%|██████████| 100/100 [00:00<00:00, 1067.48it/s]\n"
     ]
    },
    {
     "data": {
      "image/png": "[encoded data removed]",
      "text/plain": [
       "<Figure size 432x288 with 1 Axes>"
      ]
     },
     "metadata": {
      "needs_background": "light"
     },
     "output_type": "display_data"
    }
   ],
   "source": [
    "I=100\n",
    "N=10\n",
    "T = 0.5\n",
    "S = 100\n",
    "\n",
    "node_count_random = simulate_volatile(G, importance_measure=None, iterate=I, n=N, threshold=T, sample=S)    # number of infected nodes in each iteration, init with randomly selected nodes\n",
    "node_count_deg = simulate_volatile(G, importance_measure=nx.degree_centrality, iterate=I, n=N, threshold=T, sample=S)        # number of infected nodes in each iteration, init with nodes of highest degree\n",
    "node_count_closeness= simulate_volatile(G, importance_measure=nx.closeness_centrality, iterate=I, n=N, threshold=T, sample=S)  # number of infected nodes in each iteration, init with nodes of highest closeness centrality\n",
    "node_count_betweenness = simulate_volatile(G, importance_measure=nx.betweenness_centrality, iterate=I, n=N, threshold=T, sample=S)  # number of infected nodes in each iteration, init with nodes of highest betweenness centrality\n",
    "node_count_pagerank = simulate_volatile(G, importance_measure=nx.pagerank, iterate=I, n=N, threshold=T, sample=S)   # number of infected nodes in each iteration, init with nodes of highest pagerank \n",
    "\n",
    "# YOUR CODE HERE\n",
    "data_tuples = list(zip(node_count_random,node_count_deg, node_count_closeness, node_count_betweenness, node_count_pagerank))\n",
    "\n",
    "df = pd.DataFrame(data_tuples, columns=['random','deg', 'close', 'between', 'pagerank'])\n",
    "\n",
    "df['iteration'] = np.arange(len(df))\n",
    "\n",
    "\n",
    "\n",
    "\n",
    "plt.plot(df['iteration'], df['random'], label = \"random\")\n",
    "plt.plot(df['iteration'], df['deg'], label = \"deg\")\n",
    "plt.plot(df['iteration'], df['close'], label = \"close\")\n",
    "plt.plot(df['iteration'], df['between'], label = \"between\")\n",
    "plt.plot(df['iteration'], df['pagerank'], label = \"pagerank\")\n",
    "plt.xlabel(\"iteration\")\n",
    "plt.ylabel(\"number of infected nodes\")\n",
    "plt.legend(loc=\"lower right\")\n",
    "plt.show()"
   ]
  },
  {
   "cell_type": "markdown",
   "metadata": {
    "deletable": false,
    "editable": false,
    "nbgrader": {
     "checksum": "3d54f483d42aff05e94a94abf1a6de3b",
     "grade": false,
     "grade_id": "cell-482a586ee3c81b19",
     "locked": true,
     "schema_version": 1,
     "solution": false
    }
   },
   "source": [
    "### Q20. (8 points) Based on your results in the Q19, given the same set of seed nodes and a sample size within $[0,5]$, how does the total number of infected nodes change as you increase the number of sampled neighbors? Why?\n",
    "\n",
    "**Hint**: Note that we using a relatively high $T$ of 0.5. Think about what this implies about the chances that a node becomes infected when using a large vs. a small sample size. "
   ]
  },
  {
   "cell_type": "markdown",
   "metadata": {
    "deletable": false,
    "nbgrader": {
     "checksum": "a12ddd2be7aa1dc3b1a05beec9c3c900",
     "grade": true,
     "grade_id": "cell-d24fbb9f85385344",
     "locked": false,
     "points": 0,
     "schema_version": 1,
     "solution": true
    }
   },
   "source": [
    "Generally speaking, as the sample sizes increase from 1 to 5, the number of infected nodes converges more quickly regardless of which importance measure is used. Regardless of the threshold that is put in place, the more nodes that exist in a network, the greater chance that any number of nodes will get infected, simply as a consequence of there being more nodes to infect. Each node will likely have more connections to more neighbors, and thus, will have more opportunities to infect. \n",
    "\n",
    "The changes are more pronounced for the random and closeness centrality importance measures than the others, in the sense that they converge the quickest as the sample size increases within [0,5]. This somewhat makes sense, as closeness centrality doesn't have quite as much bearing regarding the amount of influence a node has in terms of its influence on the flow of infection, unlike a score like betweeness, which quantifies how well a node can act like a \"shortest path bridge\" between all other nodes(in other words, how well it can facilitate infection)."
   ]
  },
  {
   "cell_type": "markdown",
   "metadata": {
    "deletable": false,
    "editable": false,
    "nbgrader": {
     "checksum": "da45aebcbb1e20360db9257f8cf15a6d",
     "grade": false,
     "grade_id": "cell-bb012faf1867e298",
     "locked": true,
     "schema_version": 1,
     "solution": false
    }
   },
   "source": [
    "# End"
   ]
  },
  {
   "cell_type": "code",
   "execution_count": null,
   "metadata": {},
   "outputs": [],
   "source": []
  }
 ],
 "metadata": {
  "coursera": {
   "schema_names": [
    "mads_network_analysis_v2_assignment3"
   ]
  },
  "kernelspec": {
   "display_name": "Python 3 (ipykernel)",
   "language": "python",
   "name": "python3"
  },
  "language_info": {
   "codemirror_mode": {
    "name": "ipython",
    "version": 3
   },
   "file_extension": ".py",
   "mimetype": "text/x-python",
   "name": "python",
   "nbconvert_exporter": "python",
   "pygments_lexer": "ipython3",
   "version": "3.7.10"
  }
 },
 "nbformat": 4,
 "nbformat_minor": 4
}
