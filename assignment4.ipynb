{
 "cells": [
  {
   "cell_type": "markdown",
   "metadata": {},
   "source": [
    "# Assignment 4\n",
    "### Last updated: December 20, 2021"
   ]
  },
  {
   "cell_type": "markdown",
   "metadata": {},
   "source": [
    "### Name: Aseem Sachdeva\n",
    "\n",
    "### Uniqname: aseemsa\n",
    "\n",
    "## Instructions\n",
    "\n",
    "Please turn in:\n",
    "1. A Jupyter Notebook file. This file should show all of the required work, including code, results, visualizations (if any), and necessary comments to your code. Irrelevant code and results should be deleted prior to submission.\n",
    "\n",
    "2. An html file showing the preview of the Notebook. To create this file, select File -> Download as > HTML. \n",
    "\n",
    "### Before submitting, please select Kernel -> Restart & Run All."
   ]
  },
  {
   "cell_type": "code",
   "execution_count": 20,
   "metadata": {
    "deletable": false,
    "editable": false,
    "nbgrader": {
     "checksum": "26ab959677f86b9b8005fc1cf5939930",
     "grade": false,
     "grade_id": "cell-cbb762bbf6158a49",
     "locked": true,
     "schema_version": 1,
     "solution": false
    }
   },
   "outputs": [],
   "source": [
    "import re\n",
    "import time\n",
    "import pickle\n",
    "\n",
    "from networkx.drawing.nx_pydot import graphviz_layout\n",
    "from networkx.algorithms import community\n",
    "from networkx.algorithms.community import modularity\n",
    "import networkx as nx\n",
    "\n",
    "import pandas as pd\n",
    "import numpy as np\n",
    "\n",
    "import matplotlib.pyplot as plt\n",
    "import seaborn as sns\n",
    "%matplotlib inline"
   ]
  },
  {
   "cell_type": "markdown",
   "metadata": {
    "deletable": false,
    "editable": false,
    "nbgrader": {
     "checksum": "57485d479164cadae9178efec70d48c3",
     "grade": false,
     "grade_id": "cell-bd9a395226f37983",
     "locked": true,
     "schema_version": 1,
     "solution": false
    }
   },
   "source": [
    "## <font color='red'>Important Notification </font>\n",
    "\n",
    "<font color='red' size=2>Please **AVOID** using `community` and `modularity` as your variable names. These are imported as preserved names for networkx submodules. Changing their representations would result in autograder failuers.</font>"
   ]
  },
  {
   "cell_type": "code",
   "execution_count": 21,
   "metadata": {
    "deletable": false,
    "editable": false,
    "nbgrader": {
     "checksum": "0b71f287201e1b965acec515da08072d",
     "grade": false,
     "grade_id": "cell-a153a9e069d2ebc9",
     "locked": true,
     "schema_version": 1,
     "solution": false
    }
   },
   "outputs": [],
   "source": [
    "# disable warnings\n",
    "import warnings\n",
    "warnings.filterwarnings('ignore')"
   ]
  },
  {
   "cell_type": "markdown",
   "metadata": {
    "deletable": false,
    "editable": false,
    "nbgrader": {
     "checksum": "3326eb93830cdea1921cfa2fe3004ca6",
     "grade": false,
     "grade_id": "cell-3ffd78762d33a575",
     "locked": true,
     "schema_version": 1,
     "solution": false
    }
   },
   "source": [
    "## Part 1. Wikipedia Network with Communities"
   ]
  },
  {
   "cell_type": "markdown",
   "metadata": {
    "deletable": false,
    "editable": false,
    "nbgrader": {
     "checksum": "5ba84c4781e22b42f067b97314641bb6",
     "grade": false,
     "grade_id": "cell-e47cb3e7eeae8502",
     "locked": true,
     "schema_version": 1,
     "solution": false
    }
   },
   "source": [
    "## Data description\n",
    "\n",
    "In this assignment, we are going to analyze the community structure of a network. We will use a Wikipedia based [Map of Science](https://figshare.com/articles/A_Wikipedia_Based_Map_of_Science/11638932) network for our exploration. In this network, each node represents a Wikipedia page in a domain of science, such as natural science or social science. An edge exists between two nodes if the cosine similarity of their page contents reaches a pre-defined threshold."
   ]
  },
  {
   "cell_type": "code",
   "execution_count": 22,
   "metadata": {
    "deletable": false,
    "editable": false,
    "nbgrader": {
     "checksum": "2ea3bbfb454fb0ab6a56a3f3ce57e657",
     "grade": false,
     "grade_id": "cell-73a6af20dfcfa965",
     "locked": true,
     "schema_version": 1,
     "solution": false
    }
   },
   "outputs": [],
   "source": [
    "G = nx.read_gml('assets/MapOfScience.gml', label='id')"
   ]
  },
  {
   "cell_type": "markdown",
   "metadata": {
    "deletable": false,
    "editable": false,
    "nbgrader": {
     "checksum": "c1109f6be5477c535e1bc6277cc6ad54",
     "grade": false,
     "grade_id": "cell-5ed018278efe2e27",
     "locked": true,
     "schema_version": 1,
     "solution": false
    }
   },
   "source": [
    "Each node in the graph contains the attributes:\n",
    "- \"name:\" the title of the article \n",
    "- \"Class\" the science domain \n",
    "- \"WikipediaUrl:\" the Wikipedia URL \n",
    "\n",
    "Let's look at some examples: "
   ]
  },
  {
   "cell_type": "code",
   "execution_count": 23,
   "metadata": {
    "deletable": false,
    "editable": false,
    "nbgrader": {
     "checksum": "8519f4bde34eccd3ad7fd3cd0dfdf93b",
     "grade": false,
     "grade_id": "cell-c03f2a02455bb3bf",
     "locked": true,
     "schema_version": 1,
     "solution": false
    }
   },
   "outputs": [
    {
     "data": {
      "text/plain": [
       "[(0,\n",
       "  {'label': '0',\n",
       "   'name': 'Accounting',\n",
       "   'Class': 'Applied',\n",
       "   'WikipediaUrl': 'https://en.wikipedia.org/wiki/Accounting'}),\n",
       " (1,\n",
       "  {'label': '1',\n",
       "   'name': 'Aerospace engineering',\n",
       "   'Class': 'Applied',\n",
       "   'WikipediaUrl': 'https://en.wikipedia.org/wiki/Aerospace_engineering'}),\n",
       " (2,\n",
       "  {'label': '2',\n",
       "   'name': 'Agricultural engineering',\n",
       "   'Class': 'Applied',\n",
       "   'WikipediaUrl': 'https://en.wikipedia.org/wiki/Agricultural_engineering'}),\n",
       " (3,\n",
       "  {'label': '3',\n",
       "   'name': 'Agricultural science',\n",
       "   'Class': 'Applied',\n",
       "   'WikipediaUrl': 'https://en.wikipedia.org/wiki/Agricultural_science'}),\n",
       " (4,\n",
       "  {'label': '4',\n",
       "   'name': 'Agronomy',\n",
       "   'Class': 'Applied',\n",
       "   'WikipediaUrl': 'https://en.wikipedia.org/wiki/Agronomy'})]"
      ]
     },
     "execution_count": 23,
     "metadata": {},
     "output_type": "execute_result"
    }
   ],
   "source": [
    "list(G.nodes(data=True))[0:5]"
   ]
  },
  {
   "cell_type": "markdown",
   "metadata": {
    "deletable": false,
    "editable": false,
    "nbgrader": {
     "checksum": "bba19fe6c2c058d816f19a6d56b3023c",
     "grade": false,
     "grade_id": "cell-ee6a059bdb97205e",
     "locked": true,
     "schema_version": 1,
     "solution": false
    }
   },
   "source": [
    "The edges contain the cosine similarity of the text of the two articles："
   ]
  },
  {
   "cell_type": "code",
   "execution_count": 24,
   "metadata": {
    "deletable": false,
    "editable": false,
    "nbgrader": {
     "checksum": "5c5f51ef3f2006b40600ab4c98cb34c7",
     "grade": false,
     "grade_id": "cell-2cb8b84411fee838",
     "locked": true,
     "schema_version": 1,
     "solution": false
    }
   },
   "outputs": [
    {
     "data": {
      "text/plain": [
       "[(0, 21, {'CosineSimilarity': 0.369447477753246}),\n",
       " (0, 50, {'CosineSimilarity': 0.395432741205435}),\n",
       " (0, 70, {'CosineSimilarity': 0.388758063740006}),\n",
       " (0, 88, {'CosineSimilarity': 0.371542879166867}),\n",
       " (0, 516, {'CosineSimilarity': 0.365688238862527})]"
      ]
     },
     "execution_count": 24,
     "metadata": {},
     "output_type": "execute_result"
    }
   ],
   "source": [
    "list(G.edges(data=True))[0:5]"
   ]
  },
  {
   "cell_type": "markdown",
   "metadata": {
    "deletable": false,
    "editable": false,
    "nbgrader": {
     "checksum": "7692dbf9e8f3ce3bf2b76a921a7bb89e",
     "grade": false,
     "grade_id": "cell-25a3c079a4f2c1f1",
     "locked": true,
     "schema_version": 1,
     "solution": false
    }
   },
   "source": [
    "### Q1. (1 point) Let's extract the largest connected component from the above graph. In the following questions, we will focus our analysis on this sub-graph. How many nodes are there in this new network?"
   ]
  },
  {
   "cell_type": "code",
   "execution_count": 25,
   "metadata": {
    "deletable": false,
    "nbgrader": {
     "checksum": "c38e8e8c0e4d7cda66bc69f807ad88b9",
     "grade": false,
     "grade_id": "cell-1b6842675838d7ac",
     "locked": false,
     "schema_version": 1,
     "solution": true
    }
   },
   "outputs": [],
   "source": [
    "# Extract the largest connected component of the original dataset\n",
    "G = G.subgraph(max(nx.connected_components(G), key=len))\n",
    "N = G.number_of_nodes()  # stores the number of nodes in this graph\n",
    "\n",
    "# YOUR CODE HERE\n"
   ]
  },
  {
   "cell_type": "code",
   "execution_count": 26,
   "metadata": {
    "deletable": false,
    "editable": false,
    "nbgrader": {
     "checksum": "1f01e15c0bbd400e3c391719426a7dd7",
     "grade": true,
     "grade_id": "cell-0cc698bddd1e3d1e",
     "locked": true,
     "points": 1,
     "schema_version": 1,
     "solution": false
    }
   },
   "outputs": [],
   "source": [
    "#hidden tests for Question 1 are within this cell"
   ]
  },
  {
   "cell_type": "markdown",
   "metadata": {
    "deletable": false,
    "editable": false,
    "nbgrader": {
     "checksum": "805553cc8740a126a6698d9a9646842f",
     "grade": false,
     "grade_id": "cell-854257bfff9229b8",
     "locked": true,
     "schema_version": 1,
     "solution": false
    }
   },
   "source": [
    "### Q2. (2 points) If we think of science domains as communities, how many communities are there in the network and what are their Classes?"
   ]
  },
  {
   "cell_type": "code",
   "execution_count": 27,
   "metadata": {
    "deletable": false,
    "nbgrader": {
     "checksum": "5975e74c2506844784f716498bf6291b",
     "grade": false,
     "grade_id": "cell-d3ff05cbf4b9676b",
     "locked": false,
     "schema_version": 1,
     "solution": true
    }
   },
   "outputs": [],
   "source": [
    "list_of_communities = set() # set of unique community labels\n",
    "N = None           # number of communities in total\n",
    "\n",
    "# YOUR CODE HERE\n",
    "list_of_communities = list(G.nodes(data='Class'))\n",
    "list_of_communities = [d[1] for d in list_of_communities]\n",
    "list_of_communities = set(list_of_communities)\n",
    "\n",
    "N = len(list_of_communities)\n"
   ]
  },
  {
   "cell_type": "code",
   "execution_count": 28,
   "metadata": {
    "deletable": false,
    "editable": false,
    "nbgrader": {
     "checksum": "ac01050deb4596027b11c6dd2ca6cbd7",
     "grade": true,
     "grade_id": "cell-5f93323b10c08ea8",
     "locked": true,
     "points": 2,
     "schema_version": 1,
     "solution": false
    }
   },
   "outputs": [],
   "source": [
    "#hidden tests for Question 2 are within this cell"
   ]
  },
  {
   "cell_type": "markdown",
   "metadata": {
    "deletable": false,
    "editable": false,
    "nbgrader": {
     "checksum": "3fed1aa76f122809a1108e68273f9656",
     "grade": false,
     "grade_id": "cell-2610662db639d85c",
     "locked": true,
     "schema_version": 1,
     "solution": false
    }
   },
   "source": [
    "### Q3. (4 points) How many nodes does each community have?\n",
    "\n",
    "Hint: you may want to use the [`Counter`](https://docs.python.org/2/library/collections.html#counter-objects) object for this question."
   ]
  },
  {
   "cell_type": "code",
   "execution_count": 29,
   "metadata": {
    "deletable": false,
    "nbgrader": {
     "checksum": "b55bdbc00821c7b45be39c49ca938b5e",
     "grade": false,
     "grade_id": "cell-09fdbc86fa20dfd4",
     "locked": false,
     "schema_version": 1,
     "solution": true
    }
   },
   "outputs": [
    {
     "data": {
      "text/plain": [
       "Counter({'Applied': 92, 'Formal': 193, 'Natural': 168, 'Social': 224})"
      ]
     },
     "execution_count": 29,
     "metadata": {},
     "output_type": "execute_result"
    }
   ],
   "source": [
    "from collections import Counter\n",
    "\n",
    "list_of_communities = list(G.nodes(data='Class'))\n",
    "list_of_communities = [d[1] for d in list_of_communities]\n",
    "dict_num_community = Counter(list_of_communities) # a Counter object with the format {community_name: number_of_nodes}\n",
    "\n",
    "dict_num_community\n",
    "\n",
    "# YOUR CODE HERE\n"
   ]
  },
  {
   "cell_type": "code",
   "execution_count": 30,
   "metadata": {
    "deletable": false,
    "editable": false,
    "nbgrader": {
     "checksum": "44c00ea49385e053a6caabfc165d3ec5",
     "grade": true,
     "grade_id": "cell-9511c2d056da75f8",
     "locked": true,
     "points": 4,
     "schema_version": 1,
     "solution": false
    }
   },
   "outputs": [],
   "source": [
    "#hidden tests for Question 3 are within this cell"
   ]
  },
  {
   "cell_type": "markdown",
   "metadata": {
    "deletable": false,
    "editable": false,
    "nbgrader": {
     "checksum": "bbd4a6d337b69a20c93e14b44d9b0b94",
     "grade": false,
     "grade_id": "cell-048b60c63409d020",
     "locked": true,
     "schema_version": 1,
     "solution": false
    }
   },
   "source": [
    "## Part 2. Measures of Partition Quality\n",
    "\n",
    "We discussed 5 ways to measure the quality of a partition: modularity, coverage, performance, separability, and density. \n",
    "\n",
    "Modularity, coverage, and performance can be measured using `networkx` functions in the `algorithms.community` module. You can check all the functions provided by a module with the built-in `dir()` function:\n",
    "\n",
    "```python\n",
    "from networkx.algorithms import community\n",
    "dir(community)\n",
    ">>> ...\n",
    " 'coverage',\n",
    " 'modularity',\n",
    " 'performance',\n",
    "```\n",
    "\n",
    "Descriptions of the three measures are provided in the source code,\n",
    "\n",
    "1. `networkx.algorithms.community.modularity(G, communities, weight='weight')`\n",
    "\n",
    "2. [`networkx.algorithms.community.quality.coverage(G, partition)`](https://networkx.github.io/documentation/stable/reference/algorithms/generated/networkx.algorithms.community.quality.coverage.html#networkx.algorithms.community.quality.coverage)\n",
    "\n",
    "3. [`networkx.algorithms.community.quality.performance(G, partition)`](https://networkx.github.io/documentation/stable/reference/algorithms/generated/networkx.algorithms.community.quality.performance.html#networkx.algorithms.community.quality.performance)\n",
    "\n",
    "\n",
    "\n"
   ]
  },
  {
   "cell_type": "markdown",
   "metadata": {
    "deletable": false,
    "editable": false,
    "nbgrader": {
     "checksum": "7b5596c9a838066cb554470f76032e15",
     "grade": false,
     "grade_id": "cell-f08daf1d92f00ad2",
     "locked": true,
     "schema_version": 1,
     "solution": false
    }
   },
   "source": [
    "For separability and density, you will implement your own functions. \n",
    "\n",
    "Since separability and density first apply a measure to each community and then takes the average over all communities, we provide a helper function `avg_measure(G, communities, measure)` that computes the average value for a given measure over all communities in a graph:"
   ]
  },
  {
   "cell_type": "code",
   "execution_count": 31,
   "metadata": {
    "deletable": false,
    "editable": false,
    "nbgrader": {
     "checksum": "e36624198c914a4e1284e1eb39e48f23",
     "grade": false,
     "grade_id": "cell-b55f3e4297624eeb",
     "locked": true,
     "schema_version": 1,
     "solution": false
    }
   },
   "outputs": [],
   "source": [
    "def avg_measure(G, communities, measure):\n",
    "    \"\"\"\n",
    "    Calculate the average value of a given measure across communities in a graph.\n",
    "    \n",
    "    Args:\n",
    "        G - nx graph object; a graph to operate upon.\n",
    "        communities - list; a collection of sets of nodes that each comprise a community.\n",
    "        measure - function; calculates a measure for a community in a graph.\n",
    "    \n",
    "    Returns:\n",
    "        (unnamed) - float; the calculated average measure.\n",
    "    \"\"\"\n",
    "    sum_ = 0\n",
    "    for comm in communities:\n",
    "        sum_ += measure(G, comm)\n",
    "    return sum_ / len(communities)"
   ]
  },
  {
   "cell_type": "markdown",
   "metadata": {
    "deletable": false,
    "editable": false,
    "nbgrader": {
     "checksum": "66677131d6e89e632bfb993a105bf295",
     "grade": false,
     "grade_id": "cell-a17d794bcf715f28",
     "locked": true,
     "schema_version": 1,
     "solution": false
    }
   },
   "source": [
    "### Q4. (10 points) Let's begin implementing the function to measure the separability for a single community. That is, measure the ratio of intra-community to inter-community edges. \n",
    "\n",
    "If there are 0 inter-community edges, the function should assume that the actual number is 1, making the separability value equal to the number of intra-community edges. \n",
    "\n",
    "Hint: `G.edges(community)`, where `community` is a set of nodes, returns the edges that are incident to at least one node in `community`. That is, it returns the edges that have at least one endpoint in `community`. "
   ]
  },
  {
   "cell_type": "code",
   "execution_count": 32,
   "metadata": {
    "deletable": false,
    "nbgrader": {
     "checksum": "39ccdeebf2ad5d1ec3408e86c9a3f681",
     "grade": false,
     "grade_id": "cell-aed0aa4c64d6d1b9",
     "locked": false,
     "schema_version": 1,
     "solution": true
    }
   },
   "outputs": [],
   "source": [
    "def separability_one_community(G, community):\n",
    "    \"\"\"\n",
    "    Calculate the separability of a community by finding the ratio of\n",
    "    intra-community edges to inter-community edges.\n",
    "    \n",
    "    Args:\n",
    "        G - nx graph object; a graph to operate upon.\n",
    "        community - set; a collection of nodes that comprise a community.\n",
    "    \n",
    "    Returns:\n",
    "        result - float; the separability in a given community.\n",
    "    \"\"\"\n",
    "    result = None # assign separability to it and return\n",
    "    \n",
    "    \n",
    "    com = list(community)\n",
    "    intra_comm = []\n",
    "    for n in com:\n",
    "        neighbors = list(nx.neighbors(G, n))\n",
    "        for node in neighbors:\n",
    "            if node in com:\n",
    "                intra_comm.append((n, node))\n",
    "    same = [(a,b) for (a,b) in intra_comm if (b,a) in intra_comm]\n",
    "    intra_community_edges = len(intra_comm) - (len(same) / 2)\n",
    "    \n",
    "    inter_comm = []\n",
    "    for n in com:\n",
    "        neighbors = list(nx.neighbors(G, n))\n",
    "        for node in neighbors:\n",
    "            if node not in com:\n",
    "                inter_comm.append((n, node))\n",
    "    same = [(a,b) for (a,b) in inter_comm if (b,a) in inter_comm]\n",
    "    inter_community_edges = len(inter_comm) - (len(same) / 2)\n",
    "    \n",
    "    \n",
    "    if inter_community_edges == 0:\n",
    "        result = intra_community_edges\n",
    "    else: \n",
    "        result = intra_community_edges/inter_community_edges\n",
    "\n",
    "# YOUR CODE HERE\n",
    "\n",
    "    \n",
    "    \n",
    "    return result\n"
   ]
  },
  {
   "cell_type": "code",
   "execution_count": 33,
   "metadata": {},
   "outputs": [
    {
     "data": {
      "text/plain": [
       "0.2882758620689655"
      ]
     },
     "execution_count": 33,
     "metadata": {},
     "output_type": "execute_result"
    }
   ],
   "source": [
    "test_applied = set([i[0] for i in list(G.nodes(data=\"Class\")) if i[1] == 'Applied'])\n",
    "separability_one_community(G, test_applied)"
   ]
  },
  {
   "cell_type": "code",
   "execution_count": 34,
   "metadata": {
    "deletable": false,
    "editable": false,
    "nbgrader": {
     "checksum": "a2e38c5721963da1d4bc7e41269fe5b9",
     "grade": true,
     "grade_id": "cell-62195a623ab0cc20",
     "locked": true,
     "points": 10,
     "schema_version": 1,
     "solution": false
    }
   },
   "outputs": [],
   "source": [
    "#hidden tests for Question 4 are within this cell"
   ]
  },
  {
   "cell_type": "markdown",
   "metadata": {
    "deletable": false,
    "editable": false,
    "nbgrader": {
     "checksum": "88ccd20934cc6c5894ece9ab23ffc87a",
     "grade": false,
     "grade_id": "cell-4a468d697f83b86f",
     "locked": true,
     "schema_version": 1,
     "solution": false
    }
   },
   "source": [
    "Now we can simply use `avg_measure(G, communities, separability_one_community)` to measure the separability of a partition. "
   ]
  },
  {
   "cell_type": "markdown",
   "metadata": {
    "deletable": false,
    "editable": false,
    "nbgrader": {
     "checksum": "bff56e43a3666cc0b28187d478140f92",
     "grade": false,
     "grade_id": "cell-cc321d8b6eb45cfa",
     "locked": true,
     "schema_version": 1,
     "solution": false
    }
   },
   "source": [
    "### Q5. (10 points) Let's now implement the function to measure the density of a single community. That is, the fraction of intra-community edges out of all possible edges. "
   ]
  },
  {
   "cell_type": "code",
   "execution_count": 35,
   "metadata": {
    "deletable": false,
    "nbgrader": {
     "checksum": "9260570d8f831e18df093ef35cc16581",
     "grade": false,
     "grade_id": "cell-9625f434a453c682",
     "locked": false,
     "schema_version": 1,
     "solution": true
    }
   },
   "outputs": [],
   "source": [
    "def density_one_community(G, community):\n",
    "    \"\"\"\n",
    "    Calculate the density of a community by finding the fraction of\n",
    "    intra-community edges out of all possible edges.\n",
    "    \n",
    "    Args:\n",
    "        G - nx graph object; a graph to operate upon.\n",
    "        community - set; a collection of nodes that comprise a community.\n",
    "    \n",
    "    Returns:\n",
    "        result - float; the density of a given community.\n",
    "    \"\"\"\n",
    "    \n",
    "    result = None # assign density to it and return  \n",
    "    \n",
    "    \n",
    "    com = list(community)\n",
    "    intra_comm = []\n",
    "    for n in com:\n",
    "        neighbors = list(nx.neighbors(G, n))\n",
    "        for node in neighbors:\n",
    "            if node in com:\n",
    "                intra_comm.append((n, node))\n",
    "    same = [(a,b) for (a,b) in intra_comm if (b,a) in intra_comm]\n",
    "    intra_community_edges = len(intra_comm) - (len(same) / 2)\n",
    "    \n",
    "    \n",
    "    if len(community) == 1:  # If the community has only one node, just return 1 \n",
    "        return 1\n",
    "    else:\n",
    "        result =  intra_community_edges*2/(len(com)*(len(com)-1))\n",
    "    \n",
    "    \n",
    "    \n",
    "    \n",
    "\n",
    "    \n",
    "    # YOUR CODE HERE\n",
    "    \n",
    "    \n",
    "    \n",
    "    \n",
    "    \n",
    "\n",
    "    return result\n",
    "\n",
    "\n"
   ]
  },
  {
   "cell_type": "code",
   "execution_count": 36,
   "metadata": {
    "deletable": false,
    "editable": false,
    "nbgrader": {
     "checksum": "ebabcfa3dc7a91d4e731cfd3188e1e58",
     "grade": true,
     "grade_id": "cell-414758ad39282a47",
     "locked": true,
     "points": 10,
     "schema_version": 1,
     "solution": false
    }
   },
   "outputs": [],
   "source": [
    "#hidden tests for Question 5 are within this cell"
   ]
  },
  {
   "cell_type": "markdown",
   "metadata": {
    "deletable": false,
    "editable": false,
    "nbgrader": {
     "checksum": "c34b7b513544b2586fd54796f3525142",
     "grade": false,
     "grade_id": "cell-25f04374a0e0c54b",
     "locked": true,
     "schema_version": 1,
     "solution": false
    }
   },
   "source": [
    "Now we can simply use `avg_measure(G, communities, density_one_community)` to measure the density of a partition. "
   ]
  },
  {
   "cell_type": "markdown",
   "metadata": {
    "deletable": false,
    "editable": false,
    "nbgrader": {
     "checksum": "6cd589726b892e19090e5fdc41cf133e",
     "grade": false,
     "grade_id": "cell-95d850943ebe0453",
     "locked": true,
     "schema_version": 1,
     "solution": false
    }
   },
   "source": [
    "### Q6. (5 points) What is the modularity, coverage, performance, density, and separability of this network using the science domain as a partition?"
   ]
  },
  {
   "cell_type": "code",
   "execution_count": 37,
   "metadata": {
    "deletable": false,
    "nbgrader": {
     "checksum": "ec893dbc0667401d47ec3737ba56ae2f",
     "grade": false,
     "grade_id": "cell-3609557357c7e27e",
     "locked": false,
     "schema_version": 1,
     "solution": true
    }
   },
   "outputs": [],
   "source": [
    "nodes_applied = (\n",
    "    node\n",
    "    for node, data\n",
    "    in G.nodes(data=True)\n",
    "    if data.get(\"Class\") == \"Applied\"\n",
    ")\n",
    "\n",
    "nodes_formal = (\n",
    "    node\n",
    "    for node, data\n",
    "    in G.nodes(data=True)\n",
    "    if data.get(\"Class\") == \"Formal\"\n",
    ")\n",
    "\n",
    "\n",
    "nodes_natural = (\n",
    "    node\n",
    "    for node, data\n",
    "    in G.nodes(data=True)\n",
    "    if data.get(\"Class\") == \"Natural\"\n",
    ")\n",
    "\n",
    "\n",
    "nodes_social = (\n",
    "    node\n",
    "    for node, data\n",
    "    in G.nodes(data=True)\n",
    "    if data.get(\"Class\") == \"Social\"\n",
    ")\n",
    "\n",
    "\n",
    "\n",
    "Applied = G.subgraph(nodes_applied)\n",
    "\n",
    "Formal = G.subgraph(nodes_formal)\n",
    "\n",
    "\n",
    "Natural = G.subgraph(nodes_natural)\n",
    "\n",
    "Social = G.subgraph(nodes_social)\n",
    "\n",
    "\n",
    "communities = [Applied, Formal, Natural, Social]\n",
    "\n",
    "mod  = community.modularity(G, communities)  # modularity\n",
    "cov  = community.quality.coverage(G, communities)  # coverage\n",
    "perf = community.quality.performance(G, communities)  # performance\n",
    "den  = (density_one_community(G,set((Applied)))+density_one_community(G,set((Formal)))+density_one_community(G,set((Natural)))+\n",
    "        density_one_community(G,set((Social))))/4  # density\n",
    "sep  = (separability_one_community(G,set((Applied)))+separability_one_community(G,set((Formal)))+separability_one_community(G,set((Natural)))+\n",
    "        separability_one_community(G,set((Social))))/4  # separability\n",
    "\n"
   ]
  },
  {
   "cell_type": "code",
   "execution_count": 38,
   "metadata": {},
   "outputs": [
    {
     "name": "stdout",
     "output_type": "stream",
     "text": [
      "0.39848031219396246\n",
      "0.7152063833052018\n",
      "0.7425423684371532\n",
      "0.0693753209666948\n",
      "1.1403277162954395\n"
     ]
    }
   ],
   "source": [
    "print(mod)\n",
    "print(cov)\n",
    "print(perf)\n",
    "print(den)\n",
    "print(sep)"
   ]
  },
  {
   "cell_type": "code",
   "execution_count": 39,
   "metadata": {
    "deletable": false,
    "editable": false,
    "nbgrader": {
     "checksum": "e697119e375a623bf39ea6ac5268e6bd",
     "grade": true,
     "grade_id": "cell-f4fa3f64ad9b4ef3",
     "locked": true,
     "points": 5,
     "schema_version": 1,
     "solution": false
    }
   },
   "outputs": [],
   "source": [
    "#hidden tests for Question 6 are within this cell"
   ]
  },
  {
   "cell_type": "markdown",
   "metadata": {
    "deletable": false,
    "editable": false,
    "nbgrader": {
     "checksum": "38df9d655296238150ffc9b84477870a",
     "grade": false,
     "grade_id": "cell-18bced4b431138f5",
     "locked": true,
     "schema_version": 1,
     "solution": false
    }
   },
   "source": [
    "## Part 3. Community Detection Algorithms\n",
    "\n",
    "Now let's apply community detection algorithms to the Wikipedia graph. For this part, we will ignore the science domains since we are trying to find communities purely based on the structure of the network. \n",
    "\n",
    "We will begin with the Girvan-Newman algorithm and pick the partition that results in the largest modularity, as described in the lecture. Since computing this partition takes a long time, we have precomputed the communities in the notebook `Girvan-Newman.ipynb` and exported the partition to a pickle file. The pickle file is stored as `assets/answer/max_mod_community`. Note that you do not need to run the notebook `Girvan-Newman.ipynb` since we have already done it for you. We only provide it to you as a reference."
   ]
  },
  {
   "cell_type": "markdown",
   "metadata": {
    "deletable": false,
    "editable": false,
    "nbgrader": {
     "checksum": "beb4c458c2c4beaf3bff47c3a4ea12e5",
     "grade": false,
     "grade_id": "cell-d40da06410c2c088",
     "locked": true,
     "schema_version": 1,
     "solution": false
    }
   },
   "source": [
    "### Q7. (1 point) Load the partition from `assets/answer/max_mod_community`. How many communities are there in this partition?\n",
    "\n",
    "**Hint**:\n",
    "\n",
    "The partition is stored as a pickle file, which can be imported as the following example:\n",
    "```python\n",
    "with open(\"my_pickle_file_name\", 'rb') as f:\n",
    "    my_data = pickle.load(f)\n",
    "\n",
    "```"
   ]
  },
  {
   "cell_type": "code",
   "execution_count": 40,
   "metadata": {
    "deletable": false,
    "nbgrader": {
     "checksum": "5061c107912043d9e19c2a64bf962672",
     "grade": false,
     "grade_id": "cell-d6ca32d0759c4f18",
     "locked": false,
     "schema_version": 1,
     "solution": true
    }
   },
   "outputs": [
    {
     "data": {
      "text/plain": [
       "35"
      ]
     },
     "execution_count": 40,
     "metadata": {},
     "output_type": "execute_result"
    }
   ],
   "source": [
    "num_max_mod_communities = None  # number of communities in the partition with the largest modularity value\n",
    "\n",
    "# YOUR CODE HERE\n",
    "with open(\"assets/answer/max_mod_community\", 'rb') as f:\n",
    "    my_data = pickle.load(f)\n",
    "    \n",
    "num_max_mod_communities = len(my_data)\n",
    "\n",
    "num_max_mod_communities"
   ]
  },
  {
   "cell_type": "code",
   "execution_count": 41,
   "metadata": {
    "deletable": false,
    "editable": false,
    "nbgrader": {
     "checksum": "a2df5b2adc9ba9c23801ee7613cc8b44",
     "grade": true,
     "grade_id": "cell-5a0174bdc35868f0",
     "locked": true,
     "points": 1,
     "schema_version": 1,
     "solution": false
    }
   },
   "outputs": [],
   "source": [
    "#hidden tests for Question 7 are within this cell"
   ]
  },
  {
   "cell_type": "markdown",
   "metadata": {
    "deletable": false,
    "editable": false,
    "nbgrader": {
     "checksum": "cb0dc6b6e9d0fb2484ef1903b6f2f71b",
     "grade": false,
     "grade_id": "cell-62d6ddcfedf86948",
     "locked": true,
     "schema_version": 1,
     "solution": false
    }
   },
   "source": [
    "### Q8. (5 points) What is the modularity, coverage, performance, density, and separability of this partition?"
   ]
  },
  {
   "cell_type": "code",
   "execution_count": 42,
   "metadata": {
    "deletable": false,
    "nbgrader": {
     "checksum": "b6f6990ce4d232448ef55a646be691d1",
     "grade": false,
     "grade_id": "cell-fc5cb5b986edf5a5",
     "locked": false,
     "schema_version": 1,
     "solution": true
    }
   },
   "outputs": [],
   "source": [
    "\n",
    "\n",
    "mod  = community.modularity(G, my_data)  # modularity\n",
    "cov  = community.quality.coverage(G, my_data)  # coverage\n",
    "perf = community.quality.performance(G, my_data)  # performance\n",
    "den = 0\n",
    "sep = 0\n",
    "\n",
    "for i in my_data:\n",
    "    den += density_one_community(G,i)\n",
    "    \n",
    "\n",
    "for i in my_data:\n",
    "    sep += separability_one_community(G,i)\n",
    "\n",
    "den = den/len(my_data)\n",
    "\n",
    "sep = sep/len(my_data)\n",
    "\n",
    "\n",
    "# YOUR CODE HERE\n"
   ]
  },
  {
   "cell_type": "code",
   "execution_count": 43,
   "metadata": {
    "deletable": false,
    "editable": false,
    "nbgrader": {
     "checksum": "0974fec7f5fbb02ac612e13aecd77bb0",
     "grade": true,
     "grade_id": "cell-d7bc7270a10d4774",
     "locked": true,
     "points": 5,
     "schema_version": 1,
     "solution": false
    }
   },
   "outputs": [],
   "source": [
    "#hidden tests for Question 8 are within this cell"
   ]
  },
  {
   "cell_type": "markdown",
   "metadata": {
    "deletable": false,
    "editable": false,
    "nbgrader": {
     "checksum": "35acb1ef40ec8ddf5538dae56dd2f60e",
     "grade": false,
     "grade_id": "cell-4df10783e053ee81",
     "locked": true,
     "schema_version": 1,
     "solution": false
    }
   },
   "source": [
    "### Q9. (12 points) Find a partition of the network with the [label propagation algorithm](https://networkx.github.io/documentation/stable/reference/algorithms/generated/networkx.algorithms.community.label_propagation.label_propagation_communities.html) and compute the number of communities in the partition and its modularity, coverage, performance, denisty, and separability. This function uses semi-synchronous updating."
   ]
  },
  {
   "cell_type": "code",
   "execution_count": 44,
   "metadata": {
    "deletable": false,
    "nbgrader": {
     "checksum": "8441bc9e465bd9a737305e7458ed5083",
     "grade": false,
     "grade_id": "cell-75922d6b2f0f5aac",
     "locked": false,
     "schema_version": 1,
     "solution": true
    }
   },
   "outputs": [],
   "source": [
    "communities = nx.algorithms.community.label_propagation.label_propagation_communities(G)\n",
    "\n",
    "communities = list(communities)\n",
    "\n",
    "num_community = len(communities) # number of communities in the partition\n",
    "\n",
    "den = 0\n",
    "sep = 0\n",
    "\n",
    "\n",
    "mod  = community.modularity(G, communities)  # modularity\n",
    "cov  = community.quality.coverage(G, communities)  # coverage\n",
    "perf = community.quality.performance(G, communities)  # performance\n",
    "\n",
    "\n",
    "for i in communities:\n",
    "    den += density_one_community(G,i)\n",
    "    \n",
    "\n",
    "for i in communities:\n",
    "    sep += separability_one_community(G,i)\n",
    "    \n",
    "den = den/num_community\n",
    "\n",
    "sep = sep/num_community\n",
    "\n",
    "# YOUR CODE HERE\n"
   ]
  },
  {
   "cell_type": "code",
   "execution_count": 45,
   "metadata": {
    "deletable": false,
    "editable": false,
    "nbgrader": {
     "checksum": "c9cab440a4c7f69ea77d3d66a34a9529",
     "grade": true,
     "grade_id": "cell-8d79bde180c6b973",
     "locked": true,
     "points": 12,
     "schema_version": 1,
     "solution": false
    }
   },
   "outputs": [],
   "source": [
    "#hidden tests for Question 9 are within this cell"
   ]
  },
  {
   "cell_type": "markdown",
   "metadata": {
    "deletable": false,
    "editable": false,
    "nbgrader": {
     "checksum": "021da89295395d0c3b1fa0ccd0963125",
     "grade": false,
     "grade_id": "cell-69fe9f539eb5cf7f",
     "locked": true,
     "schema_version": 1,
     "solution": false
    }
   },
   "source": [
    "The [Clauset-Newman-Moore greedy modularity maximization algorithm](https://networkx.github.io/documentation/stable/reference/algorithms/generated/networkx.algorithms.community.modularity_max.greedy_modularity_communities.html#networkx-algorithms-community-modularity-max-greedy-modularity-communities) implements an Agglomerative Hierarchical Clustering procedure to find a partition with high modularity. \n",
    "\n",
    "Note: the function `greedy_modularity_communities` returns a list of `Frozensets`, where each `Frozenset` is simply an immutable Python `set` object (i.e. the elements cannot be modified).\n",
    "\n"
   ]
  },
  {
   "cell_type": "markdown",
   "metadata": {
    "deletable": false,
    "editable": false,
    "nbgrader": {
     "checksum": "bc5d860093f03d8c6d426c0d39e59381",
     "grade": false,
     "grade_id": "cell-e7000bd8a2e01505",
     "locked": true,
     "schema_version": 1,
     "solution": false
    }
   },
   "source": [
    "### Q10. (12 points) Using Clauset-Newman-Moore greedy modularity maximization, find a partition of the network and compute the number of communities in the partition and its modularity, coverage, performance, density, and separability."
   ]
  },
  {
   "cell_type": "code",
   "execution_count": 46,
   "metadata": {
    "deletable": false,
    "nbgrader": {
     "checksum": "c592e05b438f6ad6b449f6b229ab31b1",
     "grade": false,
     "grade_id": "cell-49faaeb89dc632d6",
     "locked": false,
     "schema_version": 1,
     "solution": true
    }
   },
   "outputs": [],
   "source": [
    "communities = nx.algorithms.community.greedy_modularity_communities(G)\n",
    "\n",
    "communities = list(communities)\n",
    "\n",
    "num_community = len(communities) # number of communities in the partition\n",
    "\n",
    "den = 0\n",
    "sep = 0\n",
    "\n",
    "\n",
    "mod  = community.modularity(G, communities)  # modularity\n",
    "cov  = community.quality.coverage(G, communities)  # coverage\n",
    "perf = community.quality.performance(G, communities)  # performance\n",
    "\n",
    "\n",
    "for i in communities:\n",
    "    den += density_one_community(G,i)\n",
    "    \n",
    "\n",
    "for i in communities:\n",
    "    sep += separability_one_community(G,i)\n",
    "    \n",
    "den = den/num_community\n",
    "\n",
    "sep = sep/num_community\n",
    "\n",
    "# YOUR CODE HERE\n",
    "\n",
    "\n",
    "\n"
   ]
  },
  {
   "cell_type": "code",
   "execution_count": 47,
   "metadata": {
    "deletable": false,
    "editable": false,
    "nbgrader": {
     "checksum": "021ed83b111da92ed5448f9970a9e86e",
     "grade": true,
     "grade_id": "cell-59d6f6bcb99c0ee0",
     "locked": true,
     "points": 12,
     "schema_version": 1,
     "solution": false
    }
   },
   "outputs": [],
   "source": [
    "#hidden tests for Question 10 are within this cell"
   ]
  },
  {
   "cell_type": "markdown",
   "metadata": {
    "deletable": false,
    "editable": false,
    "nbgrader": {
     "checksum": "12e4666c7fa35d58285a475cde2452f1",
     "grade": false,
     "grade_id": "cell-7a0dd12521157ecd",
     "locked": true,
     "schema_version": 1,
     "solution": false
    }
   },
   "source": [
    "### Q11. (6 points) Using [asynchronous Fluid Communities algorithm](https://networkx.github.io/documentation/stable/reference/algorithms/generated/networkx.algorithms.community.asyn_fluid.asyn_fluidc.html#networkx.algorithms.community.asyn_fluid.asyn_fluidc) with parameters  `max_iter` = 100 and `seed` = 233 (see Tutorial for details), find the parameter `k` between `k`=3 and `k`=40 that maximizes the modularity of the partition. Note that `k` represents the number of communities in the partition. "
   ]
  },
  {
   "cell_type": "code",
   "execution_count": 48,
   "metadata": {
    "deletable": false,
    "nbgrader": {
     "checksum": "8ee29329eb95b708bfaccfd5ffa4fee1",
     "grade": false,
     "grade_id": "cell-7cd46f451935efdc",
     "locked": false,
     "schema_version": 1,
     "solution": true
    }
   },
   "outputs": [],
   "source": [
    "best_k = None #optimal value of k\n",
    "\n",
    "mod_k_list = []\n",
    "\n",
    "for i in range(3, 41):\n",
    "\n",
    "    fluid_communities = list(nx.algorithms.community.asyn_fluidc(G, k=i, max_iter=100, seed=233)) #partition returned by the algorithm with k = best_k\n",
    "    mod  = community.modularity(G, fluid_communities)  # modularity\n",
    "    mod_k_list.append((mod, i)) \n",
    "\n",
    "mod_k_list = sorted(mod_k_list,key=lambda x: x[0], reverse=True)\n",
    "\n",
    "best_k = mod_k_list[0][1]    \n",
    "fluid_communities = list(nx.algorithms.community.asyn_fluidc(G, k=11, max_iter=100, seed=233))    \n",
    "# YOUR CODE HERE\n"
   ]
  },
  {
   "cell_type": "code",
   "execution_count": 49,
   "metadata": {
    "deletable": false,
    "editable": false,
    "nbgrader": {
     "checksum": "3b45b0d2422892fc9d4230378da19ad5",
     "grade": true,
     "grade_id": "cell-9356288c66026e35",
     "locked": true,
     "points": 6,
     "schema_version": 1,
     "solution": false
    }
   },
   "outputs": [],
   "source": [
    "#hidden tests for Question 11 are within this cell"
   ]
  },
  {
   "cell_type": "markdown",
   "metadata": {
    "deletable": false,
    "editable": false,
    "nbgrader": {
     "checksum": "b2370af68d15722c1a1ac52f48be643b",
     "grade": false,
     "grade_id": "cell-9331b7a0e5756e27",
     "locked": true,
     "schema_version": 1,
     "solution": false
    }
   },
   "source": [
    "### Q12. (6 points) Using [asynchronous Fluid Communities algorithm](https://networkx.github.io/documentation/stable/reference/algorithms/generated/networkx.algorithms.community.asyn_fluid.asyn_fluidc.html#networkx.algorithms.community.asyn_fluid.asyn_fluidc) with parameters  `max_iter` = 100, `seed` = 233, and the value of `k` you found in the previous question, compute the number of communities in the partition and its modularity, coverage, performance, density, and separability."
   ]
  },
  {
   "cell_type": "code",
   "execution_count": 50,
   "metadata": {
    "deletable": false,
    "nbgrader": {
     "checksum": "95745a344c048080a76a4253ecaa63b7",
     "grade": false,
     "grade_id": "cell-1a5b309324835ced",
     "locked": false,
     "schema_version": 1,
     "solution": true
    }
   },
   "outputs": [],
   "source": [
    "\n",
    "fluid_communities = list(nx.algorithms.community.asyn_fluidc(G, k=11, max_iter=100, seed=233))    \n",
    "\n",
    "\n",
    "num_community = len(fluid_communities) # number of communities in the partition\n",
    "\n",
    "mod  = community.modularity(G, fluid_communities)  # modularity\n",
    "cov  = community.quality.coverage(G, fluid_communities)  # coverage\n",
    "perf = community.quality.performance(G, fluid_communities)  # performance\n",
    "\n",
    "den = 0\n",
    "sep = 0\n",
    "\n",
    "\n",
    "for i in fluid_communities:\n",
    "    den += density_one_community(G,i)\n",
    "    \n",
    "\n",
    "for i in fluid_communities:\n",
    "    sep += separability_one_community(G,i)\n",
    "    \n",
    "den = den/num_community\n",
    "\n",
    "sep = sep/num_community\n",
    "\n",
    "# YOUR CODE HERE\n",
    "\n",
    "\n",
    "\n",
    "\n",
    "\n",
    "\n"
   ]
  },
  {
   "cell_type": "code",
   "execution_count": 51,
   "metadata": {
    "deletable": false,
    "editable": false,
    "nbgrader": {
     "checksum": "77e29b16d9178ad1724556e5663107f7",
     "grade": true,
     "grade_id": "cell-0f6f9cf331cbd6e6",
     "locked": true,
     "points": 6,
     "schema_version": 1,
     "solution": false
    }
   },
   "outputs": [],
   "source": [
    "#hidden tests for Question 12 are within this cell"
   ]
  },
  {
   "cell_type": "code",
   "execution_count": 52,
   "metadata": {},
   "outputs": [
    {
     "data": {
      "text/plain": [
       "11"
      ]
     },
     "execution_count": 52,
     "metadata": {},
     "output_type": "execute_result"
    }
   ],
   "source": [
    "num_community"
   ]
  },
  {
   "cell_type": "markdown",
   "metadata": {
    "deletable": false,
    "editable": false,
    "nbgrader": {
     "checksum": "b4880da66639e893096ae8640fa0f778",
     "grade": false,
     "grade_id": "cell-f0ac3d16b8b01b02",
     "locked": true,
     "schema_version": 1,
     "solution": false
    }
   },
   "source": [
    "### Q13. (6 points) Create and print a pandas DataFrame where each row represents a community detection algorithm and each column is a quality measure, as described by the following scheme:\n",
    "\n",
    "\n",
    "|.|Method name|num_community|modularity|coverage|performance|density|separability|\n",
    "|-|-|-|-|-|-|-|-|\n",
    "|0|Girvan–Newman|\n",
    "|1|Greedy modularity maximization|\n",
    "|2|Fluid Communities|\n",
    "|3|Label propogation|\n"
   ]
  },
  {
   "cell_type": "code",
   "execution_count": 53,
   "metadata": {
    "deletable": false,
    "nbgrader": {
     "checksum": "9800cf920b9418debbae4baddfd9c07c",
     "grade": false,
     "grade_id": "cell-a45fabf083ba143c",
     "locked": false,
     "schema_version": 1,
     "solution": true
    }
   },
   "outputs": [],
   "source": [
    "compare = None # assign your pandas dataframe here\n",
    "\n",
    "\n",
    "\n",
    "\n",
    "\n"
   ]
  },
  {
   "cell_type": "code",
   "execution_count": 54,
   "metadata": {},
   "outputs": [],
   "source": [
    "# YOUR CODE HERE\n",
    "\n",
    "##Girvan-newman\n",
    "with open(\"assets/answer/max_mod_community\", 'rb') as f:\n",
    "    my_data = pickle.load(f)\n",
    "    \n",
    "num_community_girvan = len(my_data)\n",
    "\n",
    "mod_girvan  = community.modularity(G, my_data)  # modularity\n",
    "cov_girvan  = community.quality.coverage(G, my_data)  # coverage\n",
    "perf_girvan = community.quality.performance(G, my_data)  # performance\n",
    "den_girvan = 0\n",
    "sep_girvan = 0\n",
    "for i in my_data:\n",
    "    den += density_one_community(G,i)\n",
    "for i in my_data:\n",
    "    sep += separability_one_community(G,i)\n",
    "den_girvan = den/num_community_girvan\n",
    "sep_girvan = sep/num_community_girvan\n"
   ]
  },
  {
   "cell_type": "code",
   "execution_count": 55,
   "metadata": {},
   "outputs": [],
   "source": [
    "#Greedy modularity\n",
    "communities = nx.algorithms.community.greedy_modularity_communities(G)\n",
    "\n",
    "communities = list(communities)\n",
    "\n",
    "num_community_greedy = len(communities) # number of communities in the partition\n",
    "\n",
    "den_greedy = 0\n",
    "sep_greedy = 0\n",
    "\n",
    "\n",
    "mod_greedy  = community.modularity(G, communities)  # modularity\n",
    "cov_greedy  = community.quality.coverage(G, communities)  # coverage\n",
    "perf_greedy = community.quality.performance(G, communities)  # performance\n",
    "\n",
    "\n",
    "for i in communities:\n",
    "    den += density_one_community(G,i)\n",
    "    \n",
    "\n",
    "for i in communities:\n",
    "    sep += separability_one_community(G,i)\n",
    "    \n",
    "den_greedy = den/num_community_greedy\n",
    "\n",
    "sep_greedy = sep/num_community_greedy\n",
    "\n",
    "# YOUR CODE HERE\n",
    "\n"
   ]
  },
  {
   "cell_type": "code",
   "execution_count": 56,
   "metadata": {},
   "outputs": [],
   "source": [
    "#Fluid communities\n",
    "\n",
    "fluid_communities = list(nx.algorithms.community.asyn_fluidc(G, k=11, max_iter=100, seed=233))    \n",
    "\n",
    "\n",
    "num_community_fluid = len(fluid_communities) # number of communities in the partition\n",
    "\n",
    "mod_fluid  = community.modularity(G, fluid_communities)  # modularity\n",
    "cov_fluid  = community.quality.coverage(G, fluid_communities)  # coverage\n",
    "perf_fluid = community.quality.performance(G, fluid_communities)  # performance\n",
    "\n",
    "den_fluid = 0\n",
    "sep_fluid = 0\n",
    "\n",
    "\n",
    "for i in fluid_communities:\n",
    "    den_fluid += density_one_community(G,i)\n",
    "    \n",
    "\n",
    "for i in fluid_communities:\n",
    "    sep_fluid += separability_one_community(G,i)\n",
    "    \n",
    "den_fluid = den/num_community_fluid\n",
    "\n",
    "sep_fluid = sep/num_community_fluid\n",
    "\n",
    "# YOUR CODE HERE\n",
    "\n"
   ]
  },
  {
   "cell_type": "code",
   "execution_count": 57,
   "metadata": {},
   "outputs": [],
   "source": [
    "#Label Propogation\n",
    "label_prop_communities = list(nx.algorithms.community.label_propagation.label_propagation_communities(G))\n",
    "\n",
    "num_community_label = len(label_prop_communities)\n",
    "\n",
    "mod_label  = community.modularity(G, label_prop_communities)  # modularity\n",
    "cov_label  = community.quality.coverage(G, label_prop_communities)  # coverage\n",
    "perf_label = community.quality.performance(G, label_prop_communities)  # performance\n",
    "\n",
    "den_label = 0\n",
    "sep_label = 0\n",
    "\n",
    "\n",
    "for i in label_prop_communities:\n",
    "    den_label += density_one_community(G,i)\n",
    "    \n",
    "\n",
    "for i in label_prop_communities:\n",
    "    sep_label += separability_one_community(G,i)\n",
    "    \n",
    "den_label = den/num_community_label\n",
    "\n",
    "sep_label = sep/num_community_label\n",
    "\n",
    "# YOUR CODE HERE\n"
   ]
  },
  {
   "cell_type": "code",
   "execution_count": 58,
   "metadata": {},
   "outputs": [],
   "source": [
    "compare = pd.DataFrame()\n",
    "\n",
    "method_name = ['Girvan–Newman', 'Greedy modularity maximization', 'Fluid Communities', 'Label propogation']\n",
    "num_community = [num_community_girvan, num_community_greedy, num_community_fluid, num_community_label]\n",
    "modularity = [mod_girvan, mod_greedy, mod_fluid, mod_label]\n",
    "coverage = [cov_girvan, cov_greedy, cov_fluid, cov_label]\n",
    "performance = [perf_girvan, perf_greedy, perf_fluid, perf_label]\n",
    "density = [den_girvan, den_greedy, den_fluid, den_label]\n",
    "separability = [sep_girvan, sep_greedy, sep_fluid, sep_label]\n",
    "\n",
    "compare['Method name'] = method_name\n",
    "compare['num_community'] = num_community\n",
    "compare['modularity'] = modularity\n",
    "compare['coverage'] = coverage\n",
    "compare['performance'] = performance\n",
    "compare['density'] = density\n",
    "compare['separability'] = separability\n",
    "\n"
   ]
  },
  {
   "cell_type": "code",
   "execution_count": 59,
   "metadata": {},
   "outputs": [
    {
     "data": {
      "text/html": [
       "<div>\n",
       "<style scoped>\n",
       "    .dataframe tbody tr th:only-of-type {\n",
       "        vertical-align: middle;\n",
       "    }\n",
       "\n",
       "    .dataframe tbody tr th {\n",
       "        vertical-align: top;\n",
       "    }\n",
       "\n",
       "    .dataframe thead th {\n",
       "        text-align: right;\n",
       "    }\n",
       "</style>\n",
       "<table border=\"1\" class=\"dataframe\">\n",
       "  <thead>\n",
       "    <tr style=\"text-align: right;\">\n",
       "      <th></th>\n",
       "      <th>Method name</th>\n",
       "      <th>num_community</th>\n",
       "      <th>modularity</th>\n",
       "      <th>coverage</th>\n",
       "      <th>performance</th>\n",
       "      <th>density</th>\n",
       "      <th>separability</th>\n",
       "    </tr>\n",
       "  </thead>\n",
       "  <tbody>\n",
       "    <tr>\n",
       "      <th>0</th>\n",
       "      <td>Girvan–Newman</td>\n",
       "      <td>35</td>\n",
       "      <td>0.580687</td>\n",
       "      <td>0.815252</td>\n",
       "      <td>0.888706</td>\n",
       "      <td>0.660259</td>\n",
       "      <td>1.118761</td>\n",
       "    </tr>\n",
       "    <tr>\n",
       "      <th>1</th>\n",
       "      <td>Greedy modularity maximization</td>\n",
       "      <td>14</td>\n",
       "      <td>0.550356</td>\n",
       "      <td>0.805892</td>\n",
       "      <td>0.775095</td>\n",
       "      <td>2.259167</td>\n",
       "      <td>4.277759</td>\n",
       "    </tr>\n",
       "    <tr>\n",
       "      <th>2</th>\n",
       "      <td>Fluid Communities</td>\n",
       "      <td>11</td>\n",
       "      <td>0.590856</td>\n",
       "      <td>0.728249</td>\n",
       "      <td>0.915128</td>\n",
       "      <td>2.875303</td>\n",
       "      <td>5.444420</td>\n",
       "    </tr>\n",
       "    <tr>\n",
       "      <th>3</th>\n",
       "      <td>Label propogation</td>\n",
       "      <td>28</td>\n",
       "      <td>0.584188</td>\n",
       "      <td>0.808808</td>\n",
       "      <td>0.857888</td>\n",
       "      <td>1.129583</td>\n",
       "      <td>2.138879</td>\n",
       "    </tr>\n",
       "  </tbody>\n",
       "</table>\n",
       "</div>"
      ],
      "text/plain": [
       "                      Method name  num_community  modularity  coverage  \\\n",
       "0                   Girvan–Newman             35    0.580687  0.815252   \n",
       "1  Greedy modularity maximization             14    0.550356  0.805892   \n",
       "2               Fluid Communities             11    0.590856  0.728249   \n",
       "3               Label propogation             28    0.584188  0.808808   \n",
       "\n",
       "   performance   density  separability  \n",
       "0     0.888706  0.660259      1.118761  \n",
       "1     0.775095  2.259167      4.277759  \n",
       "2     0.915128  2.875303      5.444420  \n",
       "3     0.857888  1.129583      2.138879  "
      ]
     },
     "execution_count": 59,
     "metadata": {},
     "output_type": "execute_result"
    }
   ],
   "source": [
    "compare"
   ]
  },
  {
   "cell_type": "code",
   "execution_count": 60,
   "metadata": {
    "deletable": false,
    "editable": false,
    "nbgrader": {
     "checksum": "908c4bbe7f26533499384e7f8c5c5ed4",
     "grade": true,
     "grade_id": "cell-ea269623450c94f4",
     "locked": true,
     "points": 6,
     "schema_version": 1,
     "solution": false
    }
   },
   "outputs": [],
   "source": [
    "#hidden tests for Question 13 are within this cell"
   ]
  },
  {
   "cell_type": "markdown",
   "metadata": {
    "deletable": false,
    "editable": false,
    "nbgrader": {
     "checksum": "0a3ad28addcac0a5d93f25f5fa6ced6c",
     "grade": false,
     "grade_id": "cell-3e7fdad72bd41fd6",
     "locked": true,
     "schema_version": 1,
     "solution": false
    }
   },
   "source": [
    "### Q14. (10 points) Does it appear that an algorithm consistently performs better than the others across the different quality measures? Explain. \n",
    "\n",
    "You do not need to explain your answer based on the details of the algorithms or quality measures. Do so only based on the quality scores on the dataframe in Q13. \n",
    "\n",
    "You should not consider the number of communities to answer this question. \n",
    "\n"
   ]
  },
  {
   "cell_type": "markdown",
   "metadata": {
    "deletable": false,
    "nbgrader": {
     "checksum": "4ddbe2675302d25a8fd489f197768e6c",
     "grade": true,
     "grade_id": "cell-57457d844839cd0b",
     "locked": false,
     "points": 0,
     "schema_version": 1,
     "solution": true
    }
   },
   "source": [
    "Of all four algorithms explored above, the Fluid Communities algorithm appears to perform the best across most of the quality measures. The algorithm has the highest modularity score, which implies that it performs the best of all algorithms in regards to dividing nodes into distinct modules(dense connections between nodes within the module but sparse connections between nodes cross different modules). It has the worst covrage score(Girvan-Newman has the highest), which implies that its ratio of intra-community edges(edges joining nodes in the same partition) against all nodes in the network is the lowest. It has the highest performance score, which boils down to intra-community edges plus inter-community edges(edges joining nodes in different blocks of the partition) divided by total edges. It has the highest density score, which implies that nodes in the network connects to the largest amount of \"potential\" connections compared to the other algorithms(calculated by measuring the fraction of intra-community edges out of all possible edges and averaging over all communities). Finally, the Fluid Communities algorithm boasts the highest sperability score, which is the ratio of intra-community edges to inter-community edges for each community, averaged over all communities. All of these measures are just different ways to assess the quality of partitions in a network, and the Fluid communities algorithm does well on the majority."
   ]
  },
  {
   "cell_type": "markdown",
   "metadata": {
    "deletable": false,
    "editable": false,
    "nbgrader": {
     "checksum": "c272a1fb73f575d802f8c5959c41899b",
     "grade": false,
     "grade_id": "cell-e056597e960954cc",
     "locked": true,
     "schema_version": 1,
     "solution": false
    }
   },
   "source": [
    "### Q15. (10 points) Comparing the quality of the partition based on the science domain with that of the partitions generated by the various algorithms, from a network structure perspective, does the science domain appear to be a good way to partition the network into communities? Explain.\n",
    "\n",
    "Recall that you already computed the quality of the partition based on science domain in Q6. Be sure to use those results when answering this question. \n",
    "\n",
    "You should not consider the number of communities to determine if a partition is \"good.\" For this question, focus on the quality scores. "
   ]
  },
  {
   "cell_type": "markdown",
   "metadata": {
    "deletable": false,
    "nbgrader": {
     "checksum": "9945e939b7e0f6a738cd24306ed4d8cf",
     "grade": true,
     "grade_id": "cell-d7eeec6049d87c6b",
     "locked": false,
     "points": 0,
     "schema_version": 1,
     "solution": true
    }
   },
   "source": [
    "Computing the quality of the partition based on the science domain yeilds a modularity, coverage, performance, density, and separability score of 0.398, 0.715, 0.742, 0.069, and 1.14 respectively. This methodology produces the lowest modularity, coverage, performance, and density scores, and the fourth lowest separability score(only higher than Girvan-Newman). It summarily does not appear the most viable method for paritioning the network. It is possible that there is a fair amount of intersectionality between science domains, in the sense that its not unreasonable to assume that concepts overlap. Therefore, there may be a fair amount of edges that lie between communities using this method. "
   ]
  },
  {
   "cell_type": "markdown",
   "metadata": {
    "deletable": false,
    "editable": false,
    "nbgrader": {
     "checksum": "08c0aaa2d963ea92c2dbbe8180900dd0",
     "grade": false,
     "grade_id": "cell-99834e8574b591eb",
     "locked": true,
     "schema_version": 1,
     "solution": false
    }
   },
   "source": [
    "# End"
   ]
  }
 ],
 "metadata": {
  "coursera": {
   "schema_names": [
    "mads_network_analysis_v2_assignment4"
   ]
  },
  "kernelspec": {
   "display_name": "Python 3 (ipykernel)",
   "language": "python",
   "name": "python3"
  },
  "language_info": {
   "codemirror_mode": {
    "name": "ipython",
    "version": 3
   },
   "file_extension": ".py",
   "mimetype": "text/x-python",
   "name": "python",
   "nbconvert_exporter": "python",
   "pygments_lexer": "ipython3",
   "version": "3.7.10"
  }
 },
 "nbformat": 4,
 "nbformat_minor": 4
}
